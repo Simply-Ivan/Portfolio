{
 "cells": [
  {
   "cell_type": "markdown",
   "id": "9f28d7ed",
   "metadata": {},
   "source": [
    "### Pasos a desarrollar"
   ]
  },
  {
   "cell_type": "markdown",
   "id": "29e0e3b8",
   "metadata": {},
   "source": [
    "1. Mire el panorama general.\n",
    "2. Obtener los datos.\n",
    "3. Explore y visualice los datos para obtener información.\n",
    "4. Prepare los datos para los algoritmos de aprendizaje automático.\n",
    "5. Selecciona un modelo y entrénalo.\n",
    "6. Afina tu modelo.\n",
    "7. Presenta tu solución.\n",
    "8. Inicie, supervise y mantenga su sistema."
   ]
  },
  {
   "cell_type": "code",
   "execution_count": null,
   "id": "cbf08937",
   "metadata": {},
   "outputs": [],
   "source": []
  }
 ],
 "metadata": {
  "kernelspec": {
   "display_name": "Python 3",
   "language": "python",
   "name": "python3"
  },
  "language_info": {
   "codemirror_mode": {
    "name": "ipython",
    "version": 3
   },
   "file_extension": ".py",
   "mimetype": "text/x-python",
   "name": "python",
   "nbconvert_exporter": "python",
   "pygments_lexer": "ipython3",
   "version": "3.12.6"
  }
 },
 "nbformat": 4,
 "nbformat_minor": 5
}
