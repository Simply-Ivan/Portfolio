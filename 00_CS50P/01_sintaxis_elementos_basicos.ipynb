{
 "cells": [
  {
   "cell_type": "code",
   "execution_count": 11,
   "id": "0f0634ac",
   "metadata": {},
   "outputs": [
    {
     "name": "stdout",
     "output_type": "stream",
     "text": [
      "12\n",
      "Hola Mundo\n"
     ]
    }
   ],
   "source": [
    "entero = 34 - 23 # Un comentario\n",
    "cadena = \"Hola\" # Otro comentario\n",
    "decimal = 3.45\n",
    "if decimal == 3.45 or cadena == \"Hola\":\n",
    "    entero = entero + 1\n",
    "    cadena = cadena + \" Mundo\" # Concatenación de cadenas de caracteres\n",
    "print(entero)\n",
    "print(cadena)"
   ]
  },
  {
   "cell_type": "code",
   "execution_count": 12,
   "id": "6ec157f5",
   "metadata": {},
   "outputs": [],
   "source": [
    "# Esto es un comentario que no se evaluará\n",
    "x = 15 # Esto es otro comentario que tampoco se evaluará"
   ]
  },
  {
   "cell_type": "code",
   "execution_count": 13,
   "id": "27b1d7f8",
   "metadata": {},
   "outputs": [
    {
     "name": "stdout",
     "output_type": "stream",
     "text": [
      "Ya no lo soy\n"
     ]
    }
   ],
   "source": [
    "variable_1 = 10                          # Un salto de línea específica el final de sentencia\n",
    "varianle_2 = \"Soy una asignación\" + \\\n",
    "             \" muy larga\"                # Un \\ indica que la sentencia continúa en la siguiente línea (mala práctica)\n",
    "if variable_1 == 10:\n",
    "    varianle_1 = 15                      # Una mayor indentación indica el inicio de un bloque\n",
    "    variable_2 = \"Ya no lo soy\"\n",
    "print (variable_2)                       # Una menor indentación indica el fin de un bloque"
   ]
  },
  {
   "cell_type": "code",
   "execution_count": 14,
   "id": "3b76952c",
   "metadata": {},
   "outputs": [],
   "source": [
    "cod_contrato = \"12345678900000\"   # Asignación correcta\n",
    "Persona = \"99999999-Q\"            # Asignación válida aunque en contra de buenas prácticas\n",
    "x = 3.45                          # Asignación válida aunque en contra de buenas prácticas"
   ]
  },
  {
   "cell_type": "code",
   "execution_count": 15,
   "id": "650cd3cf",
   "metadata": {},
   "outputs": [],
   "source": [
    "cod_contrato = \"123456789000000\"                 # Creación de una variable cod_contrato de tipo cadena de caracteres\n",
    "num_hijos = 5                                    # Creación de una variable num_hijos de tipo entero\n",
    "saldo = 12345.67                                 # Creación de una varianle saldo de tipo decimal\n",
    "cod_contrato_2 = cod_contrato                    # Creación de una variable cod_contrato_2 con el mismo valor\n",
    "cod_titular_1, cod_titular_2 = \"Pepe\", \"María\"   # Creación múltiple de variables en una única sentencia"
   ]
  },
  {
   "cell_type": "code",
   "execution_count": 16,
   "id": "e6aba53b",
   "metadata": {},
   "outputs": [
    {
     "name": "stdout",
     "output_type": "stream",
     "text": [
      "Has escrito: ad\n"
     ]
    }
   ],
   "source": [
    "entrada = input(\"---> \")\n",
    "print (\"Has escrito: \" + entrada)"
   ]
  },
  {
   "cell_type": "code",
   "execution_count": 17,
   "id": "febaafee",
   "metadata": {},
   "outputs": [
    {
     "name": "stdout",
     "output_type": "stream",
     "text": [
      "Esto es una prueba\n",
      "1234567890000\n"
     ]
    }
   ],
   "source": [
    "print (\"Esto es una prueba\")\n",
    "cod_contrato = \"1234567890000\"\n",
    "print (cod_contrato)"
   ]
  },
  {
   "cell_type": "code",
   "execution_count": 18,
   "id": "859a0c89",
   "metadata": {},
   "outputs": [
    {
     "name": "stdout",
     "output_type": "stream",
     "text": [
      "<class 'str'>\n",
      "<class 'int'>\n",
      "<class 'float'>\n",
      "<class 'bool'>\n"
     ]
    }
   ],
   "source": [
    "cadena = \"Esto es una cadena\"\n",
    "cadena = 'Esto también es una cadena'\n",
    "cadena = \"\"\"Incluso esto es\n",
    "una cadena\"\"\"\n",
    "entero = 10\n",
    "decimal = 10.1\n",
    "booleano = True\n",
    "\n",
    "print(type(cadena))\n",
    "print(type(entero))\n",
    "print(type(decimal))\n",
    "print(type(booleano))"
   ]
  },
  {
   "cell_type": "code",
   "execution_count": 19,
   "id": "aea765e9",
   "metadata": {},
   "outputs": [
    {
     "name": "stdout",
     "output_type": "stream",
     "text": [
      "10\n",
      "10\n",
      "1.0\n"
     ]
    }
   ],
   "source": [
    "print (str(entero))      # Conversión del valor 10 a la cadena \"10\"\n",
    "print (int(decimal))     # Conversación de float a int, con truncado de decimales\n",
    "print (float(booleano))  # Conversación de booleanos a valores numéricos 0 y 1"
   ]
  },
  {
   "cell_type": "code",
   "execution_count": 20,
   "id": "3ce43a9f",
   "metadata": {},
   "outputs": [
    {
     "name": "stdout",
     "output_type": "stream",
     "text": [
      "None\n",
      "<class 'NoneType'>\n"
     ]
    }
   ],
   "source": [
    "vacío = None\n",
    "print (vacío)\n",
    "print (type(vacío))"
   ]
  },
  {
   "cell_type": "code",
   "execution_count": 21,
   "id": "6a730081",
   "metadata": {},
   "outputs": [
    {
     "name": "stdout",
     "output_type": "stream",
     "text": [
      "10\n",
      "8\n",
      "1.25\n",
      "2\n",
      "1\n"
     ]
    }
   ],
   "source": [
    "a = 2*5\n",
    "b = 2**3\n",
    "c = a / b\n",
    "d = a % b\n",
    "e = a//b\n",
    "print(a)\n",
    "print(b)\n",
    "print(c)\n",
    "print(d)\n",
    "print(e)"
   ]
  },
  {
   "cell_type": "code",
   "execution_count": 22,
   "id": "03ff0c44",
   "metadata": {},
   "outputs": [
    {
     "name": "stdout",
     "output_type": "stream",
     "text": [
      "False\n",
      "True\n",
      "True\n"
     ]
    }
   ],
   "source": [
    "b = 4\n",
    "print (a == b)\n",
    "print (a != b)\n",
    "print (a > b)"
   ]
  },
  {
   "cell_type": "code",
   "execution_count": 23,
   "id": "fe533281",
   "metadata": {},
   "outputs": [
    {
     "data": {
      "text/plain": [
       "False"
      ]
     },
     "execution_count": 23,
     "metadata": {},
     "output_type": "execute_result"
    }
   ],
   "source": [
    "a = 3\n",
    "a > 2 and a < 0"
   ]
  },
  {
   "cell_type": "code",
   "execution_count": 24,
   "id": "fc37be21",
   "metadata": {},
   "outputs": [
    {
     "data": {
      "text/plain": [
       "True"
      ]
     },
     "execution_count": 24,
     "metadata": {},
     "output_type": "execute_result"
    }
   ],
   "source": [
    "a > 2 or a < 0"
   ]
  },
  {
   "cell_type": "code",
   "execution_count": 25,
   "id": "fd1c3081",
   "metadata": {},
   "outputs": [
    {
     "data": {
      "text/plain": [
       "False"
      ]
     },
     "execution_count": 25,
     "metadata": {},
     "output_type": "execute_result"
    }
   ],
   "source": [
    "not a > 2"
   ]
  },
  {
   "cell_type": "code",
   "execution_count": 26,
   "id": "398c7b72",
   "metadata": {},
   "outputs": [
    {
     "data": {
      "text/plain": [
       "11"
      ]
     },
     "execution_count": 26,
     "metadata": {},
     "output_type": "execute_result"
    }
   ],
   "source": [
    "a += 8\n",
    "a"
   ]
  }
 ],
 "metadata": {
  "kernelspec": {
   "display_name": "Python 3",
   "language": "python",
   "name": "python3"
  },
  "language_info": {
   "codemirror_mode": {
    "name": "ipython",
    "version": 3
   },
   "file_extension": ".py",
   "mimetype": "text/x-python",
   "name": "python",
   "nbconvert_exporter": "python",
   "pygments_lexer": "ipython3",
   "version": "3.12.6"
  }
 },
 "nbformat": 4,
 "nbformat_minor": 5
}
