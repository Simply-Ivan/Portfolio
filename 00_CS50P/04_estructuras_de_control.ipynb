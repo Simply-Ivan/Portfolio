{
 "cells": [
  {
   "cell_type": "code",
   "execution_count": null,
   "id": "ea411049",
   "metadata": {},
   "outputs": [],
   "source": [
    "precio_taxi = 10.00\n",
    "precio_bus = 2.50\n",
    "dinero_disponible = 1.50"
   ]
  },
  {
   "cell_type": "code",
   "execution_count": null,
   "id": "9af87929",
   "metadata": {},
   "outputs": [],
   "source": [
    "if precio_taxi < dinero_disponible:\n",
    "    print (\"Me voy en taxi\")\n",
    "if precio_bus < dinero_disponible and precio_taxi > dinero_disponible:\n",
    "    print (\"Me voy en bus\")\n",
    "if precio_bus > dinero_disponible:\n",
    "    print (\"Me voy andando\")"
   ]
  },
  {
   "cell_type": "code",
   "execution_count": null,
   "id": "ff2b69ec",
   "metadata": {},
   "outputs": [],
   "source": [
    "if precio_taxi < dinero_disponible:\n",
    "    print (\"Me voy en taxi\")\n",
    "elif precio_bus < dinero_disponible:\n",
    "    print (\"Me voy en bus\")\n",
    "else:\n",
    "    print (\"Me voy andando\")"
   ]
  },
  {
   "cell_type": "code",
   "execution_count": null,
   "id": "1b74e7d2",
   "metadata": {},
   "outputs": [],
   "source": [
    "for i in range(0, 10):\n",
    "    print (\"Hola mundo\")"
   ]
  },
  {
   "cell_type": "code",
   "execution_count": null,
   "id": "a5178c62",
   "metadata": {},
   "outputs": [],
   "source": [
    "for i in range(0, 10):\n",
    "    print(\"Hola mundo: \" + str(i))"
   ]
  },
  {
   "cell_type": "code",
   "execution_count": null,
   "id": "b304a53c",
   "metadata": {},
   "outputs": [],
   "source": [
    "list_1 = [\"uno\", \"dos\", \"tres\", \"cuatro\", \"cinco\"]\n",
    "for element in list_1:\n",
    "    print(element)"
   ]
  },
  {
   "cell_type": "code",
   "execution_count": null,
   "id": "dc23d74b",
   "metadata": {},
   "outputs": [],
   "source": [
    "list_1 = [\"uno\", 'dos', 'tres', 'cuatro', 'cinco']\n",
    "for index, element in enumerate(list_1):\n",
    "    print('Elemento en índice ' + str(index) + \": \" + element)"
   ]
  },
  {
   "cell_type": "code",
   "execution_count": null,
   "id": "56e48a70",
   "metadata": {},
   "outputs": [],
   "source": [
    "i = 0\n",
    "while i < 10:\n",
    "    print(i)\n",
    "    i += 1"
   ]
  },
  {
   "cell_type": "code",
   "execution_count": null,
   "id": "2329178d",
   "metadata": {},
   "outputs": [],
   "source": [
    "list_1 = ['uno', 'dos', 'tres', 'cuatro', 'cinco']\n",
    "for element in list_1:\n",
    "    if element == 'cuatro':\n",
    "        break\n",
    "    print (element)"
   ]
  },
  {
   "cell_type": "code",
   "execution_count": null,
   "id": "e9cf3703",
   "metadata": {},
   "outputs": [],
   "source": [
    "list_1 = ['uno', 'dos', 'tres', 'cuatro', 'cinco']\n",
    "for element in list_1:\n",
    "    if element == 'cuatro':\n",
    "        continue\n",
    "    print (element)"
   ]
  },
  {
   "cell_type": "code",
   "execution_count": 1,
   "id": "d630fab0",
   "metadata": {},
   "outputs": [
    {
     "name": "stdout",
     "output_type": "stream",
     "text": [
      "['MIGUEL', 'MARÍA', 'MANUEL']\n"
     ]
    }
   ],
   "source": [
    "list_1 = [\"Miguel\", \"Juan\", \"María\", \"Manuel\", \"Rodrigo\"]\n",
    "list_M = []\n",
    "for element in list_1:\n",
    "    if element[0] == \"M\":\n",
    "        list_M.append(element.upper())\n",
    "print (list_M)"
   ]
  },
  {
   "cell_type": "code",
   "execution_count": 2,
   "id": "07a98361",
   "metadata": {},
   "outputs": [
    {
     "name": "stdout",
     "output_type": "stream",
     "text": [
      "['MIGUEL', 'MARÍA', 'MANUEL']\n"
     ]
    }
   ],
   "source": [
    "list_1 = [\"Miguel\", \"Juan\", \"María\", \"Manuel\", \"Rodrigo\"]\n",
    "list_M = [element.upper() for element in list_1 if element[0] == \"M\"]\n",
    "print (list_M)"
   ]
  },
  {
   "cell_type": "code",
   "execution_count": 3,
   "id": "ea1955cb",
   "metadata": {},
   "outputs": [
    {
     "data": {
      "text/plain": [
       "{'MIGUEL': True,\n",
       " 'JUAN': False,\n",
       " 'MARÍA': True,\n",
       " 'MANUEL': True,\n",
       " 'RODRIGO': False}"
      ]
     },
     "execution_count": 3,
     "metadata": {},
     "output_type": "execute_result"
    }
   ],
   "source": [
    "{element.upper(): element[0] == 'M' for element in list_1}"
   ]
  },
  {
   "cell_type": "code",
   "execution_count": 4,
   "id": "473f5f3c",
   "metadata": {},
   "outputs": [
    {
     "data": {
      "text/plain": [
       "{'Juan', 'María', 'Miguel'}"
      ]
     },
     "execution_count": 4,
     "metadata": {},
     "output_type": "execute_result"
    }
   ],
   "source": [
    "list_duplicates = ['Miguel', 'Juan', 'María', 'Miguel', 'Juan']\n",
    "{element for element in list_duplicates}"
   ]
  },
  {
   "cell_type": "code",
   "execution_count": 6,
   "id": "56c34be5",
   "metadata": {},
   "outputs": [
    {
     "name": "stdout",
     "output_type": "stream",
     "text": [
      "Se produjo un error\n"
     ]
    }
   ],
   "source": [
    "try:\n",
    "    cadena = '123.5hola'\n",
    "    numero = float(cadena)\n",
    "except:\n",
    "    print ('Se produjo un error')"
   ]
  },
  {
   "cell_type": "code",
   "execution_count": 7,
   "id": "0a596e03",
   "metadata": {},
   "outputs": [
    {
     "name": "stdout",
     "output_type": "stream",
     "text": [
      "could not convert string to float: '123.5hola'\n",
      "Se produjo un error\n"
     ]
    }
   ],
   "source": [
    "try:\n",
    "    cadena = '123.5hola'\n",
    "    numero = float(cadena)\n",
    "except Exception as e:\n",
    "    print (e)\n",
    "    print ('Se produjo un error')"
   ]
  },
  {
   "cell_type": "code",
   "execution_count": 10,
   "id": "a743a3c0",
   "metadata": {},
   "outputs": [
    {
     "name": "stdout",
     "output_type": "stream",
     "text": [
      "Se produjo un error: could not convert string to float: '123.5hola'\n"
     ]
    }
   ],
   "source": [
    "try:\n",
    "    cadena = '123.5hola'\n",
    "    numero = float(cadena)\n",
    "except RuntimeError as e:\n",
    "    print (f'Se produjo un error: {e}')\n",
    "except ValueError as e:\n",
    "    print (f'Se produjo un error: {e}')\n",
    "except Exception as e:\n",
    "    print (f'Se produjo un error: {e}')"
   ]
  },
  {
   "cell_type": "code",
   "execution_count": 11,
   "id": "d69f6a65",
   "metadata": {},
   "outputs": [
    {
     "name": "stdout",
     "output_type": "stream",
     "text": [
      "Se produjo un error\n"
     ]
    },
    {
     "data": {
      "text/plain": [
       "'123.5hola adios.'"
      ]
     },
     "execution_count": 11,
     "metadata": {},
     "output_type": "execute_result"
    }
   ],
   "source": [
    "try:\n",
    "    cadena = '123.5hola'\n",
    "    numero = float(cadena)\n",
    "except Exception as e:\n",
    "    print ('Se produjo un error')\n",
    "finally:\n",
    "    cadena += ' adios.'\n",
    "cadena"
   ]
  }
 ],
 "metadata": {
  "kernelspec": {
   "display_name": "Python 3 (ipykernel)",
   "language": "python",
   "name": "python3"
  },
  "language_info": {
   "codemirror_mode": {
    "name": "ipython",
    "version": 3
   },
   "file_extension": ".py",
   "mimetype": "text/x-python",
   "name": "python",
   "nbconvert_exporter": "python",
   "pygments_lexer": "ipython3",
   "version": "3.11.5"
  }
 },
 "nbformat": 4,
 "nbformat_minor": 5
}
