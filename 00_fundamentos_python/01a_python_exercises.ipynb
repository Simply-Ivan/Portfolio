{
 "cells": [
  {
   "cell_type": "markdown",
   "id": "968378e6",
   "metadata": {},
   "source": [
    "**Ejercicio 01**: Calcular el área de una circunferencia ingresando el radio (validando que sea mayor a cero) y mostrando el resultado redondeado a dos decimales."
   ]
  },
  {
   "cell_type": "code",
   "execution_count": 3,
   "id": "1f6f177d",
   "metadata": {},
   "outputs": [
    {
     "name": "stdout",
     "output_type": "stream",
     "text": [
      "El área de la circunferencia es 78.54\n"
     ]
    }
   ],
   "source": [
    "import math\n",
    "\n",
    "r = int(input(\"Ingresa el número del radio\\n\"))\n",
    "\n",
    "while r <= 0:\n",
    "    r = int(input(\"Valor incorrecto, infrese un número mayor a 0\\n\"))\n",
    "\n",
    "area = (r ** 2) * math.pi\n",
    "\n",
    "print(f\"El área de la circunferencia es {round(area,2)}\")"
   ]
  },
  {
   "cell_type": "markdown",
   "id": "c8e20647",
   "metadata": {},
   "source": [
    "**Ejercicio 02**: Calcular la longitud de una circunferencia ingresando el radio (validando que sea mayor a cero) y mostrando el resultado redondeado a dos decimales."
   ]
  },
  {
   "cell_type": "code",
   "execution_count": 2,
   "id": "ccadcbf8",
   "metadata": {},
   "outputs": [
    {
     "name": "stdout",
     "output_type": "stream",
     "text": [
      "La longitud del círculo es 31.42\n"
     ]
    }
   ],
   "source": [
    "import math\n",
    "\n",
    "r = int(input(\"Ingrese el radio\\n\"))\n",
    "\n",
    "while r <= 0:\n",
    "    r = int(input(\"Valor incorrecto, ingrese un número mayor a 0\\n\"))\n",
    "    \n",
    "lon = 2 * r * math.pi\n",
    "\n",
    "print(f\"La longitud del círculo es {round(lon,2)}\")"
   ]
  },
  {
   "cell_type": "markdown",
   "id": "c10a8f72",
   "metadata": {},
   "source": [
    "**Ejercicio 03**: Solicitar al usuario su nombre y género, validando la entrada, y mostrar un mensaje de bienvenida personalizado según el género ingresado."
   ]
  },
  {
   "cell_type": "code",
   "execution_count": 4,
   "id": "fa4f0c77",
   "metadata": {},
   "outputs": [
    {
     "name": "stdout",
     "output_type": "stream",
     "text": [
      "Bienvenido ivan\n"
     ]
    }
   ],
   "source": [
    "nom = input(\"Ingresar tu nombre: \")\n",
    "genero = input(\"Ingresar tu género. Si es varón escribe 'v', si es mujer escribe 'm': \")\n",
    "\n",
    "while genero not in (\"v\", \"V\", \"m\", \"M\"):\n",
    "    genero = input(\"Ingresar correctamente el género: v = varón, m = mujer: \")\n",
    "\n",
    "if genero in (\"m\", \"M\"):\n",
    "    m = \"Bienvenida \" + nom\n",
    "else:\n",
    "    m = \"Bienvenido \" + nom\n",
    "\n",
    "print(m)"
   ]
  },
  {
   "cell_type": "markdown",
   "id": "bb7052d3",
   "metadata": {},
   "source": [
    "**Ejercicio 04**: Calcular la hipotenusa de un triángulo rectángulo a partir de sus catetos, validando que ambos sean mayores a cero."
   ]
  },
  {
   "cell_type": "code",
   "execution_count": 6,
   "id": "f53c40dc",
   "metadata": {},
   "outputs": [
    {
     "name": "stdout",
     "output_type": "stream",
     "text": [
      "La hipotenusa es 5.0\n"
     ]
    }
   ],
   "source": [
    "import math\n",
    "\n",
    "a = int(input(\"Ingrese el primer cateto\\n\"))\n",
    "while a <= 0:\n",
    "    a = int(input(\"Valor incorrecto. Ingrese un número mayor a 0\\n\"))\n",
    "\n",
    "b = int(input(\"Ingrese el segundo cateto\\n\"))\n",
    "while b <= 0:\n",
    "    b = int(input(\"Valor incorrecto. Ingrese un número mayor a 0\\n\"))\n",
    "\n",
    "c = math.sqrt(a**2 + b**2)\n",
    "\n",
    "print(f\"La hipotenusa es {round(c, 2)}\")"
   ]
  },
  {
   "cell_type": "markdown",
   "id": "b9ef8931",
   "metadata": {},
   "source": [
    "**Ejercicio 05**: Convertir grados Celsius a Fahrenheit validando que el valor ingresado sea mayor al cero absoluto (-273 °C)."
   ]
  },
  {
   "cell_type": "code",
   "execution_count": 7,
   "id": "47fcf049",
   "metadata": {},
   "outputs": [
    {
     "name": "stdout",
     "output_type": "stream",
     "text": [
      "El grado en Fahrenheit es 212.0\n"
     ]
    }
   ],
   "source": [
    "c = float(input(\"Ingrese el grado en Celsius\\n\"))\n",
    "\n",
    "while c <= -273:\n",
    "    c = float(input(\"Valor incorrecto. Ingrese un número mayor a -273\\n\"))\n",
    "\n",
    "f = 32 + (9 * c) / 5\n",
    "\n",
    "print(f\"El grado en Fahrenheit es {round(f, 2)}\")"
   ]
  },
  {
   "cell_type": "markdown",
   "id": "f14e849f",
   "metadata": {},
   "source": [
    "**Ejercicio 06**: Ingresar tres notas entre 0 y 20, validar cada una y mostrar el promedio final redondeado a dos decimales."
   ]
  },
  {
   "cell_type": "code",
   "execution_count": 8,
   "id": "47144dac",
   "metadata": {},
   "outputs": [
    {
     "name": "stdout",
     "output_type": "stream",
     "text": [
      "El promedio de las 3 notas es 11.0\n"
     ]
    }
   ],
   "source": [
    "n1 = float(input(\"Ingrese la primera nota\\n\"))\n",
    "while n1 < 0 or n1 > 20:\n",
    "    n1 = float(input(\"Valor incorrecto. Ingrese un número mayor a 0 y menor a 20\\n\"))\n",
    "\n",
    "n2 = float(input(\"Ingrese la segunda nota\\n\"))\n",
    "while n2 < 0 or n2 > 20:\n",
    "    n2 = float(input(\"Valor incorrecto. Ingrese un número mayor a 0 y menor a 20\\n\"))\n",
    "\n",
    "n3 = float(input(\"Ingrese la tercera nota\\n\"))\n",
    "while n3 < 0 or n3 > 20:\n",
    "    n3 = float(input(\"Valor incorrecto. Ingrese un número mayor a 0 y menor a 20\\n\"))\n",
    "\n",
    "prom = (n1 + n2 + n3) / 3\n",
    "\n",
    "print(f\"El promedio de las 3 notas es {round(prom, 2)}\")"
   ]
  },
  {
   "cell_type": "markdown",
   "id": "2cb0a898",
   "metadata": {},
   "source": [
    "**Ejercicio 07**: Calcular el peso de un objeto usando la fórmula física P = m * g, validando que la masa ingresada sea mayor a cero."
   ]
  },
  {
   "cell_type": "code",
   "execution_count": 9,
   "id": "f4832f48",
   "metadata": {},
   "outputs": [
    {
     "name": "stdout",
     "output_type": "stream",
     "text": [
      "El peso es 196.0\n"
     ]
    }
   ],
   "source": [
    "g = 9.8\n",
    "m = float(input(\"Ingrese la masa\\n\"))\n",
    "\n",
    "while m <= 0:\n",
    "    m = float(input(\"Valor incorrecto. Ingrese un número mayor a 0\\n\"))\n",
    "\n",
    "p = m * g\n",
    "\n",
    "print(f\"El peso es {round(p, 2)}\")"
   ]
  },
  {
   "cell_type": "markdown",
   "id": "9cad64f5",
   "metadata": {},
   "source": [
    "**Ejercicio 08**: Calcular el Índice de Masa Corporal (IMC) a partir del peso y la estatura, validando que ambos valores estén en rangos razonables."
   ]
  },
  {
   "cell_type": "code",
   "execution_count": 10,
   "id": "507e0733",
   "metadata": {},
   "outputs": [
    {
     "name": "stdout",
     "output_type": "stream",
     "text": [
      "El IMC es 6.89\n"
     ]
    }
   ],
   "source": [
    "p = float(input(\"Ingrese el peso en kilogramos\\n\"))\n",
    "\n",
    "while p <= 0 or p > 300:\n",
    "    p = float(input(\"Valor incorrecto. Ingrese un número mayor a 0 y menor a 300\\n\"))\n",
    "\n",
    "e = float(input(\"Ingrese la estatura en metros\\n\"))\n",
    "\n",
    "while e <= 0 or e > 3:\n",
    "    e = float(input(\"Valor incorrecto. Ingrese un número mayor a 0 y menor a 3\\n\"))\n",
    "\n",
    "imc = p / (e ** 2)\n",
    "\n",
    "print(f\"El IMC es {round(imc, 2)}\")"
   ]
  },
  {
   "cell_type": "markdown",
   "id": "3bfa76f4",
   "metadata": {},
   "source": [
    "**Ejercicio 09**: Calcular el área de un triángulo dados los tres lados utilizando la fórmula de Herón, validando que todos los lados sean mayores que cero."
   ]
  },
  {
   "cell_type": "code",
   "execution_count": 11,
   "id": "7ab69fec",
   "metadata": {},
   "outputs": [
    {
     "name": "stdout",
     "output_type": "stream",
     "text": [
      "El área del triángulo es 51.52\n"
     ]
    }
   ],
   "source": [
    "import math\n",
    "\n",
    "l1 = float(input(\"Ingrese el primer lado del triángulo\\n\"))\n",
    "while l1 <= 0:\n",
    "    l1 = float(input(\"Valor incorrecto. Ingrese un número mayor a 0\\n\"))\n",
    "\n",
    "l2 = float(input(\"Ingrese el segundo lado del triángulo\\n\"))\n",
    "while l2 <= 0:\n",
    "    l2 = float(input(\"Valor incorrecto. Ingrese un número mayor a 0\\n\"))\n",
    "\n",
    "l3 = float(input(\"Ingrese el tercer lado del triángulo\\n\"))\n",
    "while l3 <= 0:\n",
    "    l3 = float(input(\"Valor incorrecto. Ingrese un número mayor a 0\\n\"))\n",
    "\n",
    "s = (l1 + l2 + l3) / 2\n",
    "a = math.sqrt(s * (s - l1) * (s - l2) * (s - l3))\n",
    "\n",
    "print(f\"El área del triángulo es {round(a, 2)}\")"
   ]
  },
  {
   "cell_type": "markdown",
   "id": "057dd9da",
   "metadata": {},
   "source": [
    "**Ejercicio 10**: Ingresar el código de un estudiante y cinco notas entre 0 y 20, validar cada una y calcular su promedio final, mostrando el resultado junto con el código del alumno."
   ]
  },
  {
   "cell_type": "code",
   "execution_count": 12,
   "id": "5a5f828b",
   "metadata": {},
   "outputs": [
    {
     "name": "stdout",
     "output_type": "stream",
     "text": [
      "La nota del alumno 23 es 12.4\n"
     ]
    }
   ],
   "source": [
    "matri = str(input(\"Ingrese el código del estudiante\\n\"))\n",
    "\n",
    "n1 = float(input(\"Ingrese la primera nota\\n\"))\n",
    "while n1 < 0 or n1 > 20:\n",
    "    n1 = float(input(\"Valor incorrecto. Ingrese un número mayor o igual a 0 y menor o igual a 20\\n\"))\n",
    "\n",
    "n2 = float(input(\"Ingrese la segunda nota\\n\"))\n",
    "while n2 < 0 or n2 > 20:\n",
    "    n2 = float(input(\"Valor incorrecto. Ingrese un número mayor o igual a 0 y menor o igual a 20\\n\"))\n",
    "\n",
    "n3 = float(input(\"Ingrese la tercera nota\\n\"))\n",
    "while n3 < 0 or n3 > 20:\n",
    "    n3 = float(input(\"Valor incorrecto. Ingrese un número mayor o igual a 0 y menor o igual a 20\\n\"))\n",
    "\n",
    "n4 = float(input(\"Ingrese la cuarta nota\\n\"))\n",
    "while n4 < 0 or n4 > 20:\n",
    "    n4 = float(input(\"Valor incorrecto. Ingrese un número mayor o igual a 0 y menor o igual a 20\\n\"))\n",
    "\n",
    "n5 = float(input(\"Ingrese la quinta nota\\n\"))\n",
    "while n5 < 0 or n5 > 20:\n",
    "    n5 = float(input(\"Valor incorrecto. Ingrese un número mayor o igual a 0 y menor o igual a 20\\n\"))\n",
    "\n",
    "prom = (n1 + n2 + n3 + n4 + n5) / 5\n",
    "\n",
    "print(f\"La nota del alumno {matri} es {round(prom, 2)}\")"
   ]
  },
  {
   "cell_type": "markdown",
   "id": "fc70b66b",
   "metadata": {},
   "source": [
    "**Ejercicio 11**: Calcular la raíz n-ésima de un número positivo ingresado por el usuario, validando que el radicando sea mayor a 0 y el índice de la raíz mayor a 1."
   ]
  },
  {
   "cell_type": "code",
   "execution_count": 13,
   "id": "93c907e0",
   "metadata": {},
   "outputs": [
    {
     "name": "stdout",
     "output_type": "stream",
     "text": [
      "La raíz es 10.0\n"
     ]
    }
   ],
   "source": [
    "a = float(input(\"Ingresar el radicando\\n\"))\n",
    "\n",
    "while a <= 0:\n",
    "    a = float(input(\"Valor incorrecto. Ingrese un número mayor a 0\\n\"))\n",
    "\n",
    "n = int(input(\"Ingresa el radical\\n\"))\n",
    "\n",
    "while n <= 1:\n",
    "    n = int(input(\"Valor incorrecto. Ingrese un número mayor a 1\\n\"))\n",
    "\n",
    "r = a ** (1 / n)\n",
    "\n",
    "print(f\"La raíz es {round(r, 2)}\")"
   ]
  },
  {
   "cell_type": "markdown",
   "id": "2941ff69",
   "metadata": {},
   "source": [
    "**Ejercicio 12**: Calcular el perímetro y el área de un rectángulo ingresando base y altura, validando que ambos valores sean mayores a cero."
   ]
  },
  {
   "cell_type": "code",
   "execution_count": 14,
   "id": "e872810e",
   "metadata": {},
   "outputs": [
    {
     "name": "stdout",
     "output_type": "stream",
     "text": [
      "El perímetro es 28.0 y el área es 40.0\n"
     ]
    }
   ],
   "source": [
    "b = float(input(\"Ingresar la base\\n\"))\n",
    "\n",
    "while b <= 0:\n",
    "    b = float(input(\"Valor incorrecto. Ingrese un número mayor a 0\\n\"))\n",
    "\n",
    "al = float(input(\"Ingresar la altura\\n\"))\n",
    "\n",
    "while al <= 0:\n",
    "    al = float(input(\"Valor incorrecto. Ingrese un número mayor a 0\\n\"))\n",
    "\n",
    "p = 2 * (b + al)\n",
    "ar = al * b\n",
    "\n",
    "print(f\"El perímetro es {round(p, 2)} y el área es {round(ar, 2)}\")"
   ]
  },
  {
   "cell_type": "markdown",
   "id": "3e55e1b1",
   "metadata": {},
   "source": [
    "**Ejercicio 13**: Simular una compra ingresando el dinero disponible y el costo, validando ambos valores y calculando el vuelto."
   ]
  },
  {
   "cell_type": "code",
   "execution_count": 15,
   "id": "725b384b",
   "metadata": {},
   "outputs": [
    {
     "name": "stdout",
     "output_type": "stream",
     "text": [
      "El vuelto es 800.0\n"
     ]
    }
   ],
   "source": [
    "d = float(input(\"Ingrese su dinero\\n\"))\n",
    "\n",
    "while d <= 0:\n",
    "    d = float(input(\"Valor incorrecto. Ingrese un número mayor a 0\\n\"))\n",
    "\n",
    "c = float(input(\"Ingrese el costo\\n\"))\n",
    "\n",
    "while c <= 0:\n",
    "    c = float(input(\"Valor incorrecto. Ingrese un número mayor a 0\\n\"))\n",
    "\n",
    "v = d - c\n",
    "\n",
    "print(f\"El vuelto es {round(v, 2)}\")"
   ]
  },
  {
   "cell_type": "markdown",
   "id": "d7af21c8",
   "metadata": {},
   "source": [
    "**Ejercicio 14**: Calcular la suma de los primeros n números enteros positivos utilizando la fórmula n(n+1)/2, validando que n sea mayor que cero."
   ]
  },
  {
   "cell_type": "code",
   "execution_count": 17,
   "id": "79013259",
   "metadata": {},
   "outputs": [
    {
     "name": "stdout",
     "output_type": "stream",
     "text": [
      "La suma de los primeros números enteros positivos es 15.0\n"
     ]
    }
   ],
   "source": [
    "n = int(input(\"Ingresar hasta qué número se sumará\\n\"))\n",
    "\n",
    "while n <= 0:\n",
    "    n = int(input(\"Valor incorrecto. Ingresa un número mayor a 0\\n\"))\n",
    "\n",
    "sum = (n * (n + 1)) / 2\n",
    "\n",
    "print(f\"La suma de los primeros números enteros positivos es {sum}\")"
   ]
  },
  {
   "cell_type": "markdown",
   "id": "3aa594c3",
   "metadata": {},
   "source": [
    "**Ejercicio 15**: Calcular el área de un triángulo con base y altura conocidas, validando que ambos valores sean mayores que cero."
   ]
  },
  {
   "cell_type": "code",
   "execution_count": 18,
   "id": "e69c5024",
   "metadata": {},
   "outputs": [
    {
     "name": "stdout",
     "output_type": "stream",
     "text": [
      "El área del triángulo es 60.0\n"
     ]
    }
   ],
   "source": [
    "al = float(input(\"Ingresar la altura\\n\"))\n",
    "\n",
    "while al <= 0:\n",
    "    al = float(input(\"Valor incorrecto. Ingrese un número mayor a 0\\n\"))\n",
    "\n",
    "b = float(input(\"Ingresar la base\\n\"))\n",
    "\n",
    "while b <= 0:\n",
    "    b = float(input(\"Valor incorrecto. Ingrese un número mayor a 0\\n\"))\n",
    "\n",
    "ar = (al * b) / 2\n",
    "\n",
    "print(f\"El área del triángulo es {round(ar, 2)}\")"
   ]
  },
  {
   "cell_type": "markdown",
   "id": "a9292746",
   "metadata": {},
   "source": [
    "**Ejercicio 16**: Calcular el interés compuesto a partir del capital, el tiempo y la tasa de interés anual, validando que todos los valores ingresados sean mayores que cero."
   ]
  },
  {
   "cell_type": "code",
   "execution_count": null,
   "id": "3fd47a4a",
   "metadata": {},
   "outputs": [],
   "source": [
    "\n",
    "c = float(input(\"Ingresar el capital\\n\"))\n",
    "\n",
    "while c <= 0:\n",
    "    c = float(input(\"Valor incorrecto. Ingrese un número mayor a 0\\n\"))\n",
    "    \n",
    "t = int(input(\"Ingrese el tiempo\\n\"))\n",
    "\n",
    "while t <= 0:\n",
    "    t = int(input(\"Valor incorrecto. Ingrese un número mayor a 0\\n\"))\n",
    "    \n",
    "r = int(input(\"Ingresar la tasa de interés\\n\"))\n",
    "\n",
    "while r <= 0:\n",
    "    r = int(input(\"Valor incorrecto. Ingrese un número mayor a 0\\n\"))\n",
    "    \n",
    "m = ((1 + (r / 100)) ** t) * c\n",
    "i = m - c\n",
    "\n",
    "print(f\"El interés es {round(i,2)}\")"
   ]
  },
  {
   "cell_type": "markdown",
   "id": "eb4b5a29",
   "metadata": {},
   "source": [
    "**Ejercicio 17**: Ingresar el nombre, peso en libras y longitud en pies de un dinosaurio, validando que los valores sean positivos, y convertirlos a kilogramos y metros respectivamente."
   ]
  },
  {
   "cell_type": "code",
   "execution_count": 19,
   "id": "d0a7aae0",
   "metadata": {},
   "outputs": [
    {
     "name": "stdout",
     "output_type": "stream",
     "text": [
      "El dinosaurio trex tiene un peso de 554.29 kg y una longitud de 649.83 m\n"
     ]
    }
   ],
   "source": [
    "nom = str(input(\"Ingresar el nombre del dinosaurio\\n\"))\n",
    "\n",
    "li = float(input(\"Ingresar el peso en libras\\n\"))\n",
    "while li <= 0:\n",
    "    li = float(input(\"Valor incorrecto. Ingrese un número mayor a 0\\n\"))\n",
    "\n",
    "pi = float(input(\"Ingresar la longitud en pies\\n\"))\n",
    "while pi <= 0:\n",
    "    pi = float(input(\"Valor incorrecto. Ingrese un número mayor a 0\\n\"))\n",
    "\n",
    "m = pi * 0.3048\n",
    "kg = li * 0.453592\n",
    "\n",
    "print(f\"El dinosaurio {nom} tiene un peso de {round(kg, 2)} kg y una longitud de {round(m, 2)} m\")"
   ]
  },
  {
   "cell_type": "markdown",
   "id": "55301fed",
   "metadata": {},
   "source": [
    "**Ejercicio 18**: Calcular el precio total a pagar según la cantidad de galones ingresados, convirtiendo a litros y multiplicando por el precio por litro."
   ]
  },
  {
   "cell_type": "code",
   "execution_count": 20,
   "id": "3964bb9a",
   "metadata": {},
   "outputs": [
    {
     "name": "stdout",
     "output_type": "stream",
     "text": [
      "El precio es 310.37\n"
     ]
    }
   ],
   "source": [
    "gal = int(input(\"Ingrese el número de galones que desee comprar\\n\"))\n",
    "\n",
    "while gal <= 0:\n",
    "    gal = int(input(\"Valor incorrecto. Ingrese un número mayor a 0\\n\"))\n",
    "\n",
    "cant = 3.785 * gal\n",
    "total = 8.2 * cant\n",
    "\n",
    "print(f\"El precio es {round(total, 2)}\")"
   ]
  },
  {
   "cell_type": "markdown",
   "id": "2234a58d",
   "metadata": {},
   "source": [
    "**Ejercicio 19**: Convertir una cantidad de tiempo en segundos a un formato de horas, minutos y segundos."
   ]
  },
  {
   "cell_type": "code",
   "execution_count": 21,
   "id": "07caeb2b",
   "metadata": {},
   "outputs": [
    {
     "name": "stdout",
     "output_type": "stream",
     "text": [
      "El tiempo es 5 horas 55 minutos 44 segundos\n"
     ]
    }
   ],
   "source": [
    "t = int(input(\"Ingrese el tiempo en segundos\\n\"))\n",
    "\n",
    "while t <= 0:\n",
    "    t = int(input(\"Valor incorrecto. Ingresar un número mayor a 0\\n\"))\n",
    "\n",
    "hor = t // 3600\n",
    "hor_rest = t % 3600\n",
    "min = hor_rest // 60\n",
    "seg = hor_rest % 60\n",
    "\n",
    "print(f\"El tiempo es {hor} horas {min} minutos {seg} segundos\")"
   ]
  },
  {
   "cell_type": "markdown",
   "id": "459b2a70",
   "metadata": {},
   "source": [
    "**Ejercicio 20**: Calcular el área superficial y el volumen de un cilindro a partir de su radio y altura, validando ambos valores."
   ]
  },
  {
   "cell_type": "code",
   "execution_count": 22,
   "id": "8ea991ea",
   "metadata": {},
   "outputs": [
    {
     "name": "stdout",
     "output_type": "stream",
     "text": [
      "El área del cilindro es 276.46 y el volumen es 351.86\n"
     ]
    }
   ],
   "source": [
    "import math\n",
    "\n",
    "r = float(input(\"Ingrese el número del radio\\n\"))\n",
    "while r <= 0:\n",
    "    r = float(input(\"Valor incorrecto. Ingresar un número mayor a 0\\n\"))\n",
    "\n",
    "h = float(input(\"Ingrese la altura\\n\"))\n",
    "while h <= 0:\n",
    "    h = float(input(\"Valor incorrecto. Ingresar un número mayor a 0\\n\"))\n",
    "\n",
    "area = 2 * math.pi * r * (r + h)\n",
    "vol = math.pi * (r ** 2) * h\n",
    "\n",
    "print(f\"El área del cilindro es {round(area, 2)} y el volumen es {round(vol, 2)}\")"
   ]
  },
  {
   "cell_type": "markdown",
   "id": "f323a798",
   "metadata": {},
   "source": [
    "**Ejercicio 21**: Ingresar un número cualquiera y clasificarlo como positivo, negativo o neutro usando estructuras condicionales."
   ]
  },
  {
   "cell_type": "code",
   "execution_count": 23,
   "id": "0d2a97f1",
   "metadata": {},
   "outputs": [
    {
     "name": "stdout",
     "output_type": "stream",
     "text": [
      "Positivo\n"
     ]
    }
   ],
   "source": [
    "n = float(input(\"Ingrese cualquier número\\n\"))\n",
    "\n",
    "if n != 0:\n",
    "    if n > 0:\n",
    "        print(\"Positivo\")\n",
    "    if n < 0:\n",
    "        print(\"Negativo\")\n",
    "\n",
    "if n == 0:\n",
    "    print(\"Neutro\")"
   ]
  },
  {
   "cell_type": "markdown",
   "id": "2b88a0cc",
   "metadata": {},
   "source": [
    "**Ejercicio 22**: Ingresar una nota válida entre 0 y 20 y mostrar si el estudiante está aprobado o desaprobado."
   ]
  },
  {
   "cell_type": "code",
   "execution_count": 24,
   "id": "30486e8f",
   "metadata": {},
   "outputs": [
    {
     "name": "stdout",
     "output_type": "stream",
     "text": [
      "Aprobado\n"
     ]
    }
   ],
   "source": [
    "nota = float(input(\"Ingresar la nota\\n\"))\n",
    "\n",
    "while nota > 20 or nota < 0:\n",
    "    nota = float(input(\"Valor incorrecto. La nota debe ser menor o igual a 20 y mayor a 0\\n\"))\n",
    "\n",
    "if nota >= 10.5:\n",
    "    print(\"Aprobado\")\n",
    "\n",
    "if nota < 10.5:\n",
    "    print(\"Desaprobado\")"
   ]
  },
  {
   "cell_type": "markdown",
   "id": "d3c1ec9e",
   "metadata": {},
   "source": [
    "**Ejercicio 23**: Ingresar una letra y verificar si es una vocal (mayúscula o minúscula) usando condiciones múltiples."
   ]
  },
  {
   "cell_type": "code",
   "execution_count": 26,
   "id": "cdeb4be8",
   "metadata": {},
   "outputs": [
    {
     "name": "stdout",
     "output_type": "stream",
     "text": [
      "Es vocal\n"
     ]
    }
   ],
   "source": [
    "v = str(input(\"Ingresar una letra o vocal\\n\"))\n",
    "\n",
    "if v in ('a','e','i','o','u','A','E','I','O','U'):\n",
    "    print(\"Es vocal\")\n",
    "\n",
    "if v not in ('a','e','i','o','u','A','E','I','O','U'):\n",
    "    print(\"No es vocal\")"
   ]
  },
  {
   "cell_type": "markdown",
   "id": "e7bd4aac",
   "metadata": {},
   "source": [
    "**Ejercicio 24**: Ingresar el sueldo de un trabajador y aplicar un aumento del 15% si gana menos de 1000, mostrando el nuevo sueldo."
   ]
  },
  {
   "cell_type": "code",
   "execution_count": 27,
   "id": "de09f36c",
   "metadata": {},
   "outputs": [
    {
     "name": "stdout",
     "output_type": "stream",
     "text": [
      "Su sueldo es 458.85\n"
     ]
    }
   ],
   "source": [
    "s = float(input(\"Ingrese su sueldo\\n\"))\n",
    "\n",
    "while s <= 0:\n",
    "    s = float(input(\"Valor incorrecto. Ingrese un sueldo mayor a 0\\n\"))\n",
    "\n",
    "if s < 1000:\n",
    "    au = 1.15 * s\n",
    "    print(f\"Su sueldo es {round(au, 2)}\")\n",
    "\n",
    "if s >= 1000:\n",
    "    print(f\"Su sueldo es {s}\")"
   ]
  },
  {
   "cell_type": "markdown",
   "id": "1c656c8a",
   "metadata": {},
   "source": [
    "**Ejercicio 25**: Ingresar la edad de una persona y mostrar si es mayor o menor de edad."
   ]
  },
  {
   "cell_type": "code",
   "execution_count": 28,
   "id": "f903ed78",
   "metadata": {},
   "outputs": [
    {
     "name": "stdout",
     "output_type": "stream",
     "text": [
      "Es mayor de edad\n"
     ]
    }
   ],
   "source": [
    "e = int(input(\"Ingresar tu edad\\n\"))\n",
    "\n",
    "while e <= 0:\n",
    "    e = int(input(\"Valor incorrecto. Ingresar una edad mayor a 0\\n\"))\n",
    "\n",
    "if e >= 18:\n",
    "    print(\"Es mayor de edad\")\n",
    "\n",
    "if e < 18:\n",
    "    print(\"Es menor de edad\")"
   ]
  },
  {
   "cell_type": "markdown",
   "id": "3a30cac8",
   "metadata": {},
   "source": [
    "**Ejercicio 26**: Ingresar un número y determinar si es par o impar usando el operador módulo."
   ]
  },
  {
   "cell_type": "code",
   "execution_count": 1,
   "id": "ca3b04e5",
   "metadata": {},
   "outputs": [
    {
     "name": "stdout",
     "output_type": "stream",
     "text": [
      "Es impar\n"
     ]
    }
   ],
   "source": [
    "num = float(input(\"Ingresar un número\\n\"))\n",
    "\n",
    "if num % 2 == 0:\n",
    "    print(\"Es par\")\n",
    "else:\n",
    "    print(\"Es impar\")"
   ]
  },
  {
   "cell_type": "markdown",
   "id": "dc1ab3df",
   "metadata": {},
   "source": [
    "**Ejercicio 27**: Ingresar un número y verificar si es múltiplo de 3 y 5 al mismo tiempo usando condiciones lógicas."
   ]
  },
  {
   "cell_type": "code",
   "execution_count": 2,
   "id": "6da3227c",
   "metadata": {},
   "outputs": [
    {
     "name": "stdout",
     "output_type": "stream",
     "text": [
      "Es múltiplo de 3 y 5\n"
     ]
    }
   ],
   "source": [
    "num = float(input(\"Ingresar un número\\n\"))\n",
    "\n",
    "if num % 3 == 0 and num % 5 == 0:\n",
    "    print(\"Es múltiplo de 3 y 5\")\n",
    "else:\n",
    "    print(\"No es múltiplo de 3 y 5\")"
   ]
  },
  {
   "cell_type": "markdown",
   "id": "6b79c5cd",
   "metadata": {},
   "source": [
    "**Ejercicio 28**: Ingresar un número y, si es par, multiplicarlo por 3; si es impar, multiplicarlo por 2. Mostrar el resultado."
   ]
  },
  {
   "cell_type": "code",
   "execution_count": 3,
   "id": "b7b0f376",
   "metadata": {},
   "outputs": [
    {
     "name": "stdout",
     "output_type": "stream",
     "text": [
      "El nuevo número es 18\n"
     ]
    }
   ],
   "source": [
    "num = int(input(\"Ingrese un número\\n\"))\n",
    "\n",
    "if num % 2 == 0:\n",
    "    mult = 3 * num\n",
    "else:\n",
    "    mult = 2 * num\n",
    "\n",
    "print(f\"El nuevo número es {mult}\")"
   ]
  },
  {
   "cell_type": "markdown",
   "id": "d9f77569",
   "metadata": {},
   "source": [
    "**Ejercicio 29**: Ingresar el sueldo de una persona. Si gana más de 1000 se le aplica un aumento del 12%, en caso contrario, del 15%. Mostrar el nuevo sueldo."
   ]
  },
  {
   "cell_type": "code",
   "execution_count": 4,
   "id": "f91b842b",
   "metadata": {},
   "outputs": [
    {
     "name": "stdout",
     "output_type": "stream",
     "text": [
      "El nuevo sueldo es 1123.3600000000001\n"
     ]
    }
   ],
   "source": [
    "s = float(input(\"Ingrese su sueldo\\n\"))\n",
    "\n",
    "while s <= 0:\n",
    "    s = float(input(\"Valor incorrecto. Ingrese un sueldo mayor a 0\\n\"))\n",
    "\n",
    "if s > 1000:\n",
    "    c = 1.12 * s\n",
    "else:\n",
    "    c = 1.15 * s\n",
    "\n",
    "print(f\"El nuevo sueldo es {c}\")"
   ]
  },
  {
   "cell_type": "markdown",
   "id": "5e31ab54",
   "metadata": {},
   "source": [
    "**Ejercicio 30**: Ingresar el monto de consumo, calcular el descuento (2% si supera 100000, si no 1%) y un impuesto fijo del 1%. Mostrar descuento, impuesto e importe final a pagar."
   ]
  },
  {
   "cell_type": "code",
   "execution_count": 5,
   "id": "b724aa5f",
   "metadata": {},
   "outputs": [
    {
     "name": "stdout",
     "output_type": "stream",
     "text": [
      "El descuento es 2.0 el impuesto es 2.0 y el importe a pagar es 200.0\n"
     ]
    }
   ],
   "source": [
    "c = float(input(\"Ingrese el monto de consumo\\n\"))\n",
    "\n",
    "while c <= 0:\n",
    "    c = float(input(\"Valor incorrecto. Ingresar un monto de consumo mayor a 0\\n\"))\n",
    "\n",
    "i = 0.01 * c\n",
    "\n",
    "if c > 100000:\n",
    "    d = 0.02 * c\n",
    "else:\n",
    "    d = 0.01 * c\n",
    "\n",
    "p = c - d + i\n",
    "\n",
    "print(f\"El descuento es {round(d, 2)} el impuesto es {round(i, 2)} y el importe a pagar es {round(p, 2)}\")"
   ]
  },
  {
   "cell_type": "markdown",
   "id": "f0496194",
   "metadata": {},
   "source": [
    "**Ejercicio 31**: Ingresar tres números y mostrar cuál de ellos es el mayor utilizando estructuras condicionales."
   ]
  },
  {
   "cell_type": "code",
   "execution_count": 6,
   "id": "039e267a",
   "metadata": {},
   "outputs": [
    {
     "name": "stdout",
     "output_type": "stream",
     "text": [
      "8.0\n"
     ]
    }
   ],
   "source": [
    "n1 = float(input(\"Ingresar el primer número\\n\"))\n",
    "n2 = float(input(\"Ingresar el segundo número\\n\"))\n",
    "n3 = float(input(\"Ingresar el tercer número\\n\"))\n",
    "\n",
    "if n1 >= n2 and n1 >= n3:\n",
    "    print(n1)\n",
    "elif n2 >= n3 and n2 >= n1:\n",
    "    print(n2)\n",
    "else:\n",
    "    print(n3)"
   ]
  },
  {
   "cell_type": "markdown",
   "id": "83bafeca",
   "metadata": {},
   "source": [
    "**Ejercicio 32**: Calcular el índice de masa corporal (IMC) y clasificarlo según categorías clínicas, validando primero peso y altura."
   ]
  },
  {
   "cell_type": "code",
   "execution_count": 8,
   "id": "2b0d86aa",
   "metadata": {},
   "outputs": [
    {
     "name": "stdout",
     "output_type": "stream",
     "text": [
      "El diagnóstico es Saludable\n"
     ]
    }
   ],
   "source": [
    "a = float(input(\"Ingrese su altura\\n\"))\n",
    "while a <= 0 or a > 3:\n",
    "    a = float(input(\"Valor incorrecto. Ingresar una altura mayor a 0 y menor a 3\\n\"))\n",
    "\n",
    "p = float(input(\"Ingrese su peso\\n\"))\n",
    "while p <= 0 or p > 400:\n",
    "    p = float(input(\"Valor incorrecto. Ingresar un peso mayor a 0 y menor a 400\\n\"))\n",
    "\n",
    "i = p / (a ** 2)\n",
    "\n",
    "if i > 16:\n",
    "    if i > 17:\n",
    "        if i > 18:\n",
    "            if i > 25:\n",
    "                if i > 30:\n",
    "                    if i > 35:\n",
    "                        if i > 40:\n",
    "                            m = \"Obesidad mórbida\"\n",
    "                        else:\n",
    "                            m = \"Obesidad premórbida\"\n",
    "                    else:\n",
    "                        m = \"Sobrepeso crónico\"\n",
    "                else:\n",
    "                    m = \"Sobrepeso\"\n",
    "            else:\n",
    "                m = \"Saludable\"\n",
    "        else:\n",
    "            m = \"Bajo peso\"\n",
    "    else:\n",
    "        m = \"Infrapeso\"\n",
    "else:\n",
    "    m = \"Criterio de ingreso en hospital\"\n",
    "\n",
    "print(f\"El diagnóstico es {m}\")"
   ]
  },
  {
   "cell_type": "markdown",
   "id": "e79f91ad",
   "metadata": {},
   "source": [
    "**Ejercicio 33**: Ingresar un número y un monto de pago. Según si el número es múltiplo de 3, de 5, de ambos o de ninguno, aplicar un descuento específico al pago y mostrar el monto del descuento en porcentaje y el monto neto."
   ]
  },
  {
   "cell_type": "code",
   "execution_count": 9,
   "id": "67c00b40",
   "metadata": {},
   "outputs": [
    {
     "name": "stdout",
     "output_type": "stream",
     "text": [
      "El monto del descuento es 15.0% y el monto neto es 1700.0\n"
     ]
    }
   ],
   "source": [
    "p = float(input(\"Ingrese el pago\\n\"))\n",
    "\n",
    "while p <= 0:\n",
    "    p = float(input(\"Valor incorrecto. Ingrese el pago\\n\"))\n",
    "\n",
    "n = float(input(\"Ingrese un número\\n\"))\n",
    "\n",
    "if n % 5 == 0 and n % 3 == 0:\n",
    "    d = 0.25\n",
    "    ne = 0.75 * p\n",
    "else:\n",
    "    if n % 5 == 0 and n % 3 != 0:\n",
    "        d = 0.20\n",
    "        ne = 0.80 * p\n",
    "    else:\n",
    "        if n % 5 != 0 and n % 3 == 0:\n",
    "            d = 0.15\n",
    "            ne = 0.85 * p\n",
    "        else:\n",
    "            d = 0.10\n",
    "            ne = 0.90 * p\n",
    "\n",
    "dp = 100 * d\n",
    "\n",
    "print(f\"El monto del descuento es {round(dp, 2)}% y el monto neto es {round(ne, 2)}\")"
   ]
  },
  {
   "cell_type": "markdown",
   "id": "dd5b1297",
   "metadata": {},
   "source": [
    "**Ejercicio 34**: Según el ingreso mensual ingresado, determinar si el usuario califica para un crédito. Si califica, indicar el porcentaje de la cuota inicial y el número de cuotas mensuales."
   ]
  },
  {
   "cell_type": "code",
   "execution_count": 10,
   "id": "56c208cf",
   "metadata": {},
   "outputs": [
    {
     "name": "stdout",
     "output_type": "stream",
     "text": [
      "La cuota inicial es 30% del costo de la casa y el neto se distribuirá en 75 cuotas mensuales\n"
     ]
    }
   ],
   "source": [
    "I = float(input(\"El ingreso mensual es:\\n\"))\n",
    "\n",
    "while I <= 0:\n",
    "    I = float(input(\"Valor incorrecto. Escriba un ingreso mayor a 0\\n\"))\n",
    "\n",
    "if I > 300:\n",
    "    if I > 1000:\n",
    "        NC = 75\n",
    "        CI = 30\n",
    "    else:\n",
    "        NC = 120\n",
    "        CI = 15\n",
    "    print(f\"La cuota inicial es {CI}% del costo de la casa y el neto se distribuirá en {NC} cuotas mensuales\")\n",
    "else:\n",
    "    print(\"Ingreso mensual insuficiente\")"
   ]
  },
  {
   "cell_type": "markdown",
   "id": "90fe5a02",
   "metadata": {},
   "source": [
    "**Ejercicio 35**: Ingresar un porcentaje de pérdida de peso y clasificar la resistencia de un material según rangos establecidos."
   ]
  },
  {
   "cell_type": "code",
   "execution_count": 11,
   "id": "61c9e913",
   "metadata": {},
   "outputs": [
    {
     "name": "stdout",
     "output_type": "stream",
     "text": [
      "Muy poco resistente\n"
     ]
    }
   ],
   "source": [
    "p = float(input(\"¿Cuánto es el porcentaje de pérdida de peso?\\n\"))\n",
    "\n",
    "while p <= 0:\n",
    "    p = float(input(\"Valor incorrecto. Ingrese un porcentaje de pérdida de peso mayor a 0\\n\"))\n",
    "\n",
    "if p > 1:\n",
    "    if p > 5:\n",
    "        if p > 10:\n",
    "            if p > 30:\n",
    "                print(\"No resistente\")\n",
    "            else:\n",
    "                print(\"Muy poco resistente\")\n",
    "        else:\n",
    "            print(\"Moderadamente resistente\")\n",
    "    else:\n",
    "        print(\"Resistente\")\n",
    "else:\n",
    "    print(\"Altamente resistente\")"
   ]
  },
  {
   "cell_type": "markdown",
   "id": "7426b8ca",
   "metadata": {},
   "source": [
    "**Ejercicio 36**: Solicitar el nombre y la edad de 7 personas usando un bucle y almacenar los datos como tuplas dentro de una lista. Mostrar la lista final."
   ]
  },
  {
   "cell_type": "code",
   "execution_count": 12,
   "id": "883317e7",
   "metadata": {},
   "outputs": [
    {
     "name": "stdout",
     "output_type": "stream",
     "text": [
      "[('ivan', 12), ('david', 23), ('jaime', 14), ('andy', 23), ('rosales', 32), ('rodick', 23), ('david', 23)]\n"
     ]
    }
   ],
   "source": [
    "datos = []\n",
    "\n",
    "for i in range(7):\n",
    "    nombre = input(\"Introduce su nombre: \")\n",
    "    edad = int(input(\"Introduce su edad: \"))\n",
    "    datos.append((nombre, edad))\n",
    "\n",
    "print(datos)"
   ]
  },
  {
   "cell_type": "markdown",
   "id": "e2faea0d",
   "metadata": {},
   "source": [
    "**Ejercicio 37**: Obtener e imprimir la versión invertida de una cadena de texto usando dos métodos distintos: slicing negativo y bucle con índice descendente."
   ]
  },
  {
   "cell_type": "code",
   "execution_count": 13,
   "id": "09279437",
   "metadata": {},
   "outputs": [
    {
     "name": "stdout",
     "output_type": "stream",
     "text": [
      "odnum aloH\n",
      "odnum aloH"
     ]
    }
   ],
   "source": [
    "# Obtener la representación inversa de una cadena de caracteres\n",
    "\n",
    "n = 'Hola mundo'\n",
    "\n",
    "# Usando slicing\n",
    "print(n[-1::-1])\n",
    "\n",
    "# Usando un bucle for descendente\n",
    "for i in range(len(n) - 1, -1, -1):\n",
    "    print(n[i], end='')\n"
   ]
  },
  {
   "cell_type": "markdown",
   "id": "9d320eab",
   "metadata": {},
   "source": [
    "**Ejercicio 38**: Solicitar al usuario una lista de números separados por comas e imprimir la lista resultante utilizando el método `.split(',')`."
   ]
  },
  {
   "cell_type": "code",
   "execution_count": 14,
   "id": "b9047209",
   "metadata": {},
   "outputs": [
    {
     "name": "stdout",
     "output_type": "stream",
     "text": [
      "['12', '23', '45', '34', '54']\n",
      "\n",
      "['344', '5', '6', '25', '52']\n"
     ]
    }
   ],
   "source": [
    "# Obtener un conjunto de números separados por coma y crear una lista\n",
    "\n",
    "lista_numeros = list(input('Escribe varios números separados por coma:\\n').split(','))\n",
    "\n",
    "print(lista_numeros)\n",
    "print()\n",
    "\n",
    "lista_numeros = input('Escribe varios números separados por coma:\\n')\n",
    "lista = list(lista_numeros.split(','))\n",
    "\n",
    "print(lista)"
   ]
  },
  {
   "cell_type": "markdown",
   "id": "6eb1f303",
   "metadata": {},
   "source": [
    "**Ejercicio 39**: Solicitar el nombre de un archivo y mostrar su extensión usando el método `.split('.')`."
   ]
  },
  {
   "cell_type": "code",
   "execution_count": 15,
   "id": "49d21f57",
   "metadata": {},
   "outputs": [
    {
     "name": "stdout",
     "output_type": "stream",
     "text": [
      "['ivan']\n",
      "ivan\n"
     ]
    }
   ],
   "source": [
    "# Obtener la extensión de un archivo especificado por el usuario\n",
    "\n",
    "nombre_archivo = input('Dame el nombre del archivo:\\n')\n",
    "extension_archivo = nombre_archivo.split('.')\n",
    "\n",
    "print(extension_archivo)\n",
    "print(extension_archivo[-1])"
   ]
  },
  {
   "cell_type": "markdown",
   "id": "564cb7b1",
   "metadata": {},
   "source": [
    "**Ejercicio 40**: Mostrar el primer y el último elemento de una lista utilizando distintas formas de indexación."
   ]
  },
  {
   "cell_type": "code",
   "execution_count": 16,
   "id": "23396135",
   "metadata": {},
   "outputs": [
    {
     "name": "stdout",
     "output_type": "stream",
     "text": [
      "Python\n",
      "Javascript\n",
      "Javascript\n"
     ]
    }
   ],
   "source": [
    "lenguaje = ['Python', 'C#', 'php', 'Java', 'Javascript']\n",
    "\n",
    "primer_elemento = lenguaje[0]\n",
    "ultimo_elemento_1 = lenguaje[-1]\n",
    "ultimo_elemento_2 = lenguaje[len(lenguaje) - 1]\n",
    "\n",
    "print(primer_elemento)\n",
    "print(ultimo_elemento_1)\n",
    "print(ultimo_elemento_2)"
   ]
  },
  {
   "cell_type": "markdown",
   "id": "f7e243e7",
   "metadata": {},
   "source": [
    "**Ejercicio 41**: Representar una fecha con una tupla e imprimirla usando tres formas diferentes de formateo de texto: f-strings, formato con `%` y `.format()`."
   ]
  },
  {
   "cell_type": "code",
   "execution_count": 17,
   "id": "8e550a40",
   "metadata": {},
   "outputs": [
    {
     "name": "stdout",
     "output_type": "stream",
     "text": [
      "La fecha es: 1/3/2024\n",
      "La fecha es: 2024/3/1\n",
      "La fecha es: 1/3/2024\n"
     ]
    }
   ],
   "source": [
    "fecha_evento = (2024, 3, 1)\n",
    "\n",
    "# Acceso por índices\n",
    "print(f'La fecha es: {fecha_evento[2]}/{fecha_evento[1]}/{fecha_evento[0]}')\n",
    "\n",
    "# Formato con %\n",
    "print('La fecha es: %i/%i/%i' % fecha_evento)\n",
    "\n",
    "# Desempaquetado de tupla y formato con .format()\n",
    "year, month, day = fecha_evento\n",
    "print('La fecha es: {}/{}/{}'.format(day, month, year))"
   ]
  },
  {
   "cell_type": "markdown",
   "id": "db75479b",
   "metadata": {},
   "source": [
    "**Ejercicio 42**: Solicitar un número al usuario y calcular la suma del patrón n + nn + nnn. Por ejemplo, si el usuario ingresa 5, se suman 5 + 55 + 555."
   ]
  },
  {
   "cell_type": "code",
   "execution_count": 18,
   "id": "250b84b1",
   "metadata": {},
   "outputs": [
    {
     "name": "stdout",
     "output_type": "stream",
     "text": [
      "La suma de números es 132639\n"
     ]
    }
   ],
   "source": [
    "number = input('Dame un número:\\n')\n",
    "suma = int(number) + int(number * 2) + int(number * 3)\n",
    "\n",
    "print(f'La suma de números es {suma}')"
   ]
  },
  {
   "cell_type": "markdown",
   "id": "b1f9ae07",
   "metadata": {},
   "source": [
    "**Ejercicio 43**: Solicitar al usuario un año y un mes, y mostrar el calendario correspondiente utilizando el módulo `calendar` de Python."
   ]
  },
  {
   "cell_type": "code",
   "execution_count": 20,
   "id": "9cd94d19",
   "metadata": {},
   "outputs": [
    {
     "name": "stdout",
     "output_type": "stream",
     "text": [
      "     July 2025\n",
      "Mo Tu We Th Fr Sa Su\n",
      "    1  2  3  4  5  6\n",
      " 7  8  9 10 11 12 13\n",
      "14 15 16 17 18 19 20\n",
      "21 22 23 24 25 26 27\n",
      "28 29 30 31\n",
      "\n"
     ]
    }
   ],
   "source": [
    "import calendar\n",
    "\n",
    "year = int(input('Escribir el año:\\n'))\n",
    "month = int(input('Escribir el mes:\\n'))\n",
    "\n",
    "print(calendar.month(year, month))"
   ]
  },
  {
   "cell_type": "markdown",
   "id": "4571243e",
   "metadata": {},
   "source": [
    "**Ejercicio 44**: Calcular cuántos días hay entre dos fechas específicas utilizando el módulo `datetime`."
   ]
  },
  {
   "cell_type": "code",
   "execution_count": 23,
   "id": "4bd69b41",
   "metadata": {},
   "outputs": [
    {
     "name": "stdout",
     "output_type": "stream",
     "text": [
      "1943\n"
     ]
    }
   ],
   "source": [
    "from datetime import date\n",
    "\n",
    "hoy = date(2025, 7, 1)\n",
    "otra_fecha = date(2020, 3, 6)\n",
    "\n",
    "diferencia = hoy - otra_fecha\n",
    "\n",
    "print(diferencia.days)"
   ]
  },
  {
   "cell_type": "markdown",
   "id": "2034c0e8",
   "metadata": {},
   "source": [
    "**Ejercicio 45**: Calcular el volumen de una esfera a partir del radio ingresado por el usuario utilizando la fórmula \\( V = \\frac{4}{3} \\pi r^3 \\)."
   ]
  },
  {
   "cell_type": "code",
   "execution_count": 24,
   "id": "121558cb",
   "metadata": {},
   "outputs": [
    {
     "name": "stdout",
     "output_type": "stream",
     "text": [
      "El volumen es: 523.5987755982989u^3\n"
     ]
    }
   ],
   "source": [
    "import numpy as np\n",
    "\n",
    "radio = int(input('Dame un radio para hallar el volumen:\\t'))\n",
    "\n",
    "volumen = (4 / 3) * np.pi * (radio ** 3)\n",
    "\n",
    "print(f'El volumen es: {volumen}u^3')"
   ]
  },
  {
   "cell_type": "markdown",
   "id": "dcde929b",
   "metadata": {},
   "source": [
    "**Ejercicio 46**: Crear una función que calcule la diferencia entre un número y 15. Si el número es mayor que 15, retornar el doble de la diferencia."
   ]
  },
  {
   "cell_type": "code",
   "execution_count": 25,
   "id": "5ea29547",
   "metadata": {},
   "outputs": [
    {
     "name": "stdout",
     "output_type": "stream",
     "text": [
      "8\n",
      "10\n"
     ]
    }
   ],
   "source": [
    "def diferencia(n):\n",
    "    if n <= 15:\n",
    "        return 15 - n\n",
    "    else:\n",
    "        return (n - 15) * 2\n",
    "\n",
    "print(diferencia(7))   # 8\n",
    "print(diferencia(20))  # 10"
   ]
  },
  {
   "cell_type": "markdown",
   "id": "b80339d4",
   "metadata": {},
   "source": [
    "**Ejercicio 47**: Crear una función que retorne `True` si un número está a menos de 100 unidades de 1000 o de 2000, y `False` en caso contrario."
   ]
  },
  {
   "cell_type": "code",
   "execution_count": 26,
   "id": "a29085de",
   "metadata": {},
   "outputs": [
    {
     "name": "stdout",
     "output_type": "stream",
     "text": [
      "True\n",
      "False\n"
     ]
    }
   ],
   "source": [
    "def aproximacion(n):\n",
    "    return (abs(1000 - n) < 100) or (abs(2000 - n) < 100)\n",
    "\n",
    "print(aproximacion(1096))  # True\n",
    "print(aproximacion(1789))  # False"
   ]
  },
  {
   "cell_type": "markdown",
   "id": "1e0fccd9",
   "metadata": {},
   "source": [
    "**Ejercicio 48**: Crear una función que retorne la suma de tres números. Si los tres números son iguales, retornar el triple de esa suma."
   ]
  },
  {
   "cell_type": "code",
   "execution_count": 28,
   "id": "6c832295",
   "metadata": {},
   "outputs": [
    {
     "name": "stdout",
     "output_type": "stream",
     "text": [
      "22\n",
      "81\n"
     ]
    }
   ],
   "source": [
    "def suma_numeros(a, b, c):\n",
    "    suma = a + b + c\n",
    "    \n",
    "    if a == b and a == c:\n",
    "        suma *= 3\n",
    "        \n",
    "    return suma\n",
    "\n",
    "print(suma_numeros(6, 7, 9))   # 22\n",
    "print(suma_numeros(9, 9, 9))   # 81"
   ]
  },
  {
   "cell_type": "markdown",
   "id": "c44b935e",
   "metadata": {},
   "source": [
    "**Ejercicio 49**: Crear una función que reciba el nombre de un archivo y verifique si termina con `.py`. Si no tiene la extensión, agregarla automáticamente."
   ]
  },
  {
   "cell_type": "code",
   "execution_count": 29,
   "id": "072ff81d",
   "metadata": {},
   "outputs": [
    {
     "name": "stdout",
     "output_type": "stream",
     "text": [
      "main.py\n",
      "modulo.py\n"
     ]
    }
   ],
   "source": [
    "def validar_nombre_archivo(n):\n",
    "    separar = n.split('.')\n",
    "    if separar[-1] == 'py':\n",
    "        return n\n",
    "    else:\n",
    "        return f'{n}.py'\n",
    "\n",
    "print(validar_nombre_archivo('main.py'))   # main.py\n",
    "print(validar_nombre_archivo('modulo'))    # modulo.py"
   ]
  },
  {
   "cell_type": "markdown",
   "id": "6a468f39",
   "metadata": {},
   "source": [
    "**Ejercicio 50**: Crear una función que reciba una cadena y un número entero, y retorne la cadena repetida esa cantidad de veces usando un bucle."
   ]
  },
  {
   "cell_type": "code",
   "execution_count": 30,
   "id": "d118ecd4",
   "metadata": {},
   "outputs": [
    {
     "name": "stdout",
     "output_type": "stream",
     "text": [
      "AndyAndy\n"
     ]
    }
   ],
   "source": [
    "def producto_cadenas(cadena, repeticiones):\n",
    "    resultado = ''\n",
    "    \n",
    "    for i in range(repeticiones):\n",
    "        resultado += cadena\n",
    "    \n",
    "    return resultado\n",
    "\n",
    "print(producto_cadenas('Andy', 2))  # AndyAndy"
   ]
  },
  {
   "cell_type": "markdown",
   "id": "5dd9c374",
   "metadata": {},
   "source": [
    "**Ejercicio 51**: Crear una función que genere y retorne una lista con los primeros `n` números pares positivos. El usuario debe ingresar la cantidad deseada, y se valida que sea mayor que cero."
   ]
  },
  {
   "cell_type": "code",
   "execution_count": 31,
   "id": "ea08c332",
   "metadata": {},
   "outputs": [
    {
     "name": "stdout",
     "output_type": "stream",
     "text": [
      "[0, 2, 4]\n",
      "Cantidad de pares: 3\n"
     ]
    }
   ],
   "source": [
    "def generar_numeros_pares(n = 100):\n",
    "    pares = []\n",
    "    contador = 0\n",
    "    numero = 0\n",
    "    \n",
    "    while contador < n:\n",
    "        if numero % 2 == 0:\n",
    "            pares.append(numero)\n",
    "            contador += 1\n",
    "        numero += 1\n",
    "        \n",
    "    return pares\n",
    "\n",
    "n = int(input('Escriba la cantidad de números pares positivos a generar:\\t'))\n",
    "\n",
    "if n > 0:\n",
    "    pares = generar_numeros_pares(n)\n",
    "    print(pares)\n",
    "    print('Cantidad de pares:', len(pares))"
   ]
  },
  {
   "cell_type": "markdown",
   "id": "afd5bddb",
   "metadata": {},
   "source": [
    "**Ejercicio 52**: Crear una función que reciba una cadena y un número `n`, y repita los primeros `n` caracteres `n` veces. Si la cadena es más corta que `n`, se usa toda la cadena."
   ]
  },
  {
   "cell_type": "code",
   "execution_count": 32,
   "id": "c0726bf2",
   "metadata": {},
   "outputs": [
    {
     "name": "stdout",
     "output_type": "stream",
     "text": [
      "PyPy\n",
      "PythonPythonPythonPythonPythonPython\n"
     ]
    }
   ],
   "source": [
    "def subcadena(cadena, n):\n",
    "    if len(cadena) < n:\n",
    "        n = len(cadena)\n",
    "        \n",
    "    palabra = cadena[:n]\n",
    "    resultado = ''\n",
    "    \n",
    "    for i in range(n):\n",
    "        resultado += palabra\n",
    "    \n",
    "    return resultado\n",
    "\n",
    "print(subcadena('Python', 2))   # PyPy\n",
    "print(subcadena('Python', 10))  # PythonPythonPythonPythonPythonPython"
   ]
  },
  {
   "cell_type": "markdown",
   "id": "b05d218f",
   "metadata": {},
   "source": [
    "**Ejercicio 53**: Crear una función que verifique si un carácter ingresado es una vocal. Si el input tiene más de un carácter, puede retornar `False` o hacer una validación adicional."
   ]
  },
  {
   "cell_type": "code",
   "execution_count": 33,
   "id": "fda42633",
   "metadata": {},
   "outputs": [
    {
     "name": "stdout",
     "output_type": "stream",
     "text": [
      "False\n",
      "False\n",
      "True\n",
      "False\n",
      "False\n",
      "False\n"
     ]
    }
   ],
   "source": [
    "def es_vocal(letra):\n",
    "    vocales = 'aeiou'\n",
    "    \n",
    "    if len(letra) != 1:\n",
    "        return False\n",
    "    \n",
    "    return letra.lower() in vocales\n",
    "\n",
    "# Pruebas\n",
    "print(es_vocal('en'))  # False\n",
    "print(es_vocal('n'))   # False\n",
    "print(es_vocal('i'))   # True\n",
    "print(es_vocal('au'))  # False\n",
    "print(es_vocal('ou'))  # False\n",
    "print(es_vocal('nt'))  # False"
   ]
  },
  {
   "cell_type": "markdown",
   "id": "eb48df16",
   "metadata": {},
   "source": [
    "**Ejercicio 54**: Implementar una función que determine si un elemento pertenece a una lista o cadena, imitando el comportamiento del operador `in`."
   ]
  },
  {
   "cell_type": "code",
   "execution_count": 34,
   "id": "2ccd1b8d",
   "metadata": {},
   "outputs": [
    {
     "name": "stdout",
     "output_type": "stream",
     "text": [
      "True\n",
      "False\n",
      "False\n",
      "True\n",
      "True\n",
      "False\n",
      "False\n",
      "--------------------------------------------------\n",
      "True\n",
      "False\n",
      "False\n",
      "True\n",
      "False\n",
      "False\n",
      "False\n",
      "--------------------------------------------------\n",
      "False\n",
      "True\n"
     ]
    }
   ],
   "source": [
    "# Comprobaciones con el operador `in`\n",
    "print(8 in [5, 7, 8, 9, 10])\n",
    "print(2 in [5, 7, 8, 9, 10])\n",
    "print('t' in 'mula')\n",
    "print('u' in 'mula')\n",
    "print('mu' in 'mula')\n",
    "print('ua' in 'mula')\n",
    "print('ut' in 'mula')\n",
    "\n",
    "print('-' * 50)\n",
    "\n",
    "# Función personalizada para verificar pertenencia\n",
    "def pertenece_a(lista, elemento):\n",
    "    for i in lista:\n",
    "        if elemento == i:\n",
    "            return True\n",
    "    return False\n",
    "\n",
    "# Pruebas con listas y cadenas\n",
    "print(pertenece_a([5, 7, 8, 9, 10], 8))     # True\n",
    "print(pertenece_a([5, 7, 8, 9, 10], 2))     # False\n",
    "print(pertenece_a('mula', 't'))            # False\n",
    "print(pertenece_a('mula', 'u'))            # True\n",
    "print(pertenece_a('mula', 'mu'))           # False\n",
    "print(pertenece_a('mula', 'ua'))           # False\n",
    "print(pertenece_a('mula', 'ut'))           # False\n",
    "\n",
    "print('-' * 50)\n",
    "\n",
    "# Pruebas con listas de caracteres\n",
    "print(pertenece_a(['m', 'u', 'l', 'a'], 't'))  # False\n",
    "print(pertenece_a(['m', 'u', 'l', 'a'], 'u'))  # True"
   ]
  },
  {
   "cell_type": "markdown",
   "id": "4a4b17ff",
   "metadata": {},
   "source": [
    "**Ejercicio 55**: Crear una función que reciba una lista de enteros y genere un histograma en consola, usando un símbolo repetido según el valor de cada elemento. El símbolo puede ser personalizado."
   ]
  },
  {
   "cell_type": "code",
   "execution_count": 35,
   "id": "fb8eda4d",
   "metadata": {},
   "outputs": [
    {
     "name": "stdout",
     "output_type": "stream",
     "text": [
      "**\n",
      "****\n",
      "*******\n",
      "*\n",
      "***\n"
     ]
    }
   ],
   "source": [
    "def histograma(lista, simbolo='*'):\n",
    "    for i in lista:\n",
    "        print(i * simbolo)\n",
    "\n",
    "lista = [2, 4, 7, 1, 3]\n",
    "histograma(lista)"
   ]
  },
  {
   "cell_type": "markdown",
   "id": "6c40c0e4",
   "metadata": {},
   "source": [
    "**Ejercicio 56**: Crear una función que reciba una lista y retorne sus elementos concatenados como una cadena, convirtiendo a texto cada uno de ellos."
   ]
  },
  {
   "cell_type": "code",
   "execution_count": 36,
   "id": "56373a4e",
   "metadata": {},
   "outputs": [
    {
     "name": "stdout",
     "output_type": "stream",
     "text": [
      "13578\n",
      "malo\n"
     ]
    }
   ],
   "source": [
    "def funcion_join(lista):\n",
    "    resultado = ''\n",
    "    for i in lista:\n",
    "        resultado += str(i)\n",
    "    return resultado\n",
    "\n",
    "lista = [1, 3, 5, 7, 8]\n",
    "lista_1 = ['m', 'a', 'l', 'o']\n",
    "\n",
    "print(funcion_join(lista))    # 13578\n",
    "print(funcion_join(lista_1))  # malo"
   ]
  },
  {
   "cell_type": "markdown",
   "id": "0633e17a",
   "metadata": {},
   "source": [
    "**Ejercicio 57**: Generar una lista de 50 números aleatorios entre 1 y 1000. Luego, filtrar los números impares usando dos enfoques distintos: uno con `filter()` y `lambda`, y otro con una función personalizada con bucle."
   ]
  },
  {
   "cell_type": "code",
   "execution_count": 37,
   "id": "cef3999d",
   "metadata": {},
   "outputs": [
    {
     "name": "stdout",
     "output_type": "stream",
     "text": [
      "[576, 826, 322, 488, 804, 728, 896, 49, 728, 138, 37, 593, 674, 470, 166, 562, 437, 989, 440, 965, 358, 675, 1, 106, 602, 608, 63, 281, 492, 569, 953, 329, 721, 419, 583, 199, 395, 537, 990, 543, 402, 747, 192, 936, 315, 746, 795, 483, 413, 297]\n",
      "\n",
      "[49, 37, 593, 437, 989, 965, 675, 1, 63, 281, 569, 953, 329, 721, 419, 583, 199, 395, 537, 543, 747, 315, 795, 483, 413, 297]\n",
      "--------------------------------------------------\n",
      "[49, 37, 593, 437, 989, 965, 675, 1, 63, 281, 569, 953, 329, 721, 419, 583, 199, 395, 537, 543, 747, 315, 795, 483, 413, 297]\n"
     ]
    }
   ],
   "source": [
    "from random import randint\n",
    "\n",
    "# Generar lista de números aleatorios\n",
    "numeros_aleatorios = [randint(1, 1000) for _ in range(50)]\n",
    "print(numeros_aleatorios)\n",
    "\n",
    "# Filtrar impares con filter y lambda\n",
    "numeros_impares = filter(lambda n: n % 2 == 1, numeros_aleatorios)\n",
    "print()\n",
    "print(list(numeros_impares))\n",
    "\n",
    "print('-' * 50)\n",
    "\n",
    "# Filtrar impares con función personalizada\n",
    "def number_impar(lista):\n",
    "    impares = []\n",
    "    for n in lista:\n",
    "        if n % 2 == 1:\n",
    "            impares.append(n)\n",
    "    return impares\n",
    "\n",
    "print(number_impar(numeros_aleatorios))"
   ]
  },
  {
   "cell_type": "markdown",
   "id": "56f07ca4",
   "metadata": {},
   "source": [
    "**Ejercicio 58**: Dadas dos listas de colores, convertirlas en conjuntos y mostrar la diferencia entre ellas (elementos que están en la primera lista pero no en la segunda)."
   ]
  },
  {
   "cell_type": "code",
   "execution_count": 38,
   "id": "b0557b81",
   "metadata": {},
   "outputs": [
    {
     "name": "stdout",
     "output_type": "stream",
     "text": [
      "{'Rojo', 'Negro'}\n"
     ]
    }
   ],
   "source": [
    "colores_lista_1 = ['Negro', 'Rojo', 'Verde', 'Blanco']\n",
    "colores_lista_2 = ['Blanco', 'Azul', 'Verde', 'Gris', 'Amarillo', 'verde']  # 'verde' minúscula\n",
    "\n",
    "conjunto_colores_1 = set(colores_lista_1)\n",
    "conjunto_colores_2 = set(colores_lista_2)\n",
    "\n",
    "diferencia = conjunto_colores_1.difference(conjunto_colores_2)\n",
    "\n",
    "print(diferencia)"
   ]
  },
  {
   "cell_type": "markdown",
   "id": "38228995",
   "metadata": {},
   "source": [
    "**Ejercicio 59**: Calcular el área de un triángulo de dos formas: primero usando una función definida, y luego con entrada del usuario validada con `try-except` para evitar errores."
   ]
  },
  {
   "cell_type": "code",
   "execution_count": 39,
   "id": "72574677",
   "metadata": {},
   "outputs": [
    {
     "name": "stdout",
     "output_type": "stream",
     "text": [
      "El área del triángulo es 87.5\n",
      "--------------------------------------------------\n",
      "El área del triángulo es igual: 621.0\n"
     ]
    }
   ],
   "source": [
    "# Función con base y altura\n",
    "def area_triangulo(base, altura):\n",
    "    area = 1 / 2 * base * altura\n",
    "    respuesta = f'El área del triángulo es {area}'\n",
    "    return respuesta\n",
    "\n",
    "print(area_triangulo(25, 7))\n",
    "\n",
    "print('-' * 50)\n",
    "\n",
    "# Entrada con validación\n",
    "base = None\n",
    "altura = None\n",
    "\n",
    "while True:\n",
    "    try:\n",
    "        base = float(input('Escriba la base del triángulo:\\t'))\n",
    "        break\n",
    "    except:\n",
    "        print('Debe escribir un número.')\n",
    "\n",
    "while True:\n",
    "    try:\n",
    "        altura = float(input('Escriba la altura del triángulo:\\t'))\n",
    "        break\n",
    "    except:\n",
    "        print('Debe escribir un número.')\n",
    "\n",
    "area = (altura * base) / 2\n",
    "print(f'El área del triángulo es igual: {area}')"
   ]
  },
  {
   "cell_type": "markdown",
   "id": "aba7a06d",
   "metadata": {},
   "source": [
    "**Ejercicio 60**: Implementar una función que calcule el máximo común divisor (MCD) de dos números de forma manual, sin usar funciones de librerías externas."
   ]
  },
  {
   "cell_type": "code",
   "execution_count": 40,
   "id": "486e6a56",
   "metadata": {},
   "outputs": [
    {
     "name": "stdout",
     "output_type": "stream",
     "text": [
      "21\n",
      "2.5\n",
      "2\n"
     ]
    }
   ],
   "source": [
    "def mcd(x, y):\n",
    "    mcd = 1\n",
    "\n",
    "    if x % y == 0:\n",
    "        return y\n",
    "\n",
    "    for k in range(int(y / 2), 0, -1):\n",
    "        if x % k == 0 and y % k == 0:\n",
    "            mcd = k\n",
    "            break\n",
    "\n",
    "    return mcd\n",
    "\n",
    "print(mcd(42, 105))  # Resultado: 21\n",
    "\n",
    "# Comprobaciones adicionales (no forman parte del MCD pero sirven para entender la lógica)\n",
    "print(5 / 2)         # 2.5\n",
    "print(int(5 / 2))    # 2"
   ]
  },
  {
   "cell_type": "markdown",
   "id": "b2964062",
   "metadata": {},
   "source": [
    "**Ejercicio 61**: Crear una función que calcule el mínimo común múltiplo (MCM) de dos números enteros utilizando un bucle `while`."
   ]
  },
  {
   "cell_type": "code",
   "execution_count": 41,
   "id": "04f832ea",
   "metadata": {},
   "outputs": [
    {
     "name": "stdout",
     "output_type": "stream",
     "text": [
      "72\n"
     ]
    }
   ],
   "source": [
    "def mcm(x, y):\n",
    "    z = max(x, y)\n",
    "\n",
    "    while True:\n",
    "        if (z % x == 0) and (z % y == 0):\n",
    "            return z\n",
    "        z += 1\n",
    "\n",
    "print(mcm(8, 9))  # Resultado: 72"
   ]
  },
  {
   "cell_type": "markdown",
   "id": "799478b7",
   "metadata": {},
   "source": [
    "**Ejercicio 62**: Crear una función que sume tres números, pero si todos son iguales, retorne 0 en lugar de la suma."
   ]
  },
  {
   "cell_type": "code",
   "execution_count": 43,
   "id": "2387da91",
   "metadata": {},
   "outputs": [
    {
     "name": "stdout",
     "output_type": "stream",
     "text": [
      "18\n",
      "0\n"
     ]
    }
   ],
   "source": [
    "def suma_diferente(a, b, c):\n",
    "    if a == b == c:\n",
    "        return 0\n",
    "    else:\n",
    "        return a + b + c\n",
    "\n",
    "print(suma_diferente(5, 6, 7))  # 18\n",
    "print(suma_diferente(6, 6, 6))  # 0\n"
   ]
  },
  {
   "cell_type": "markdown",
   "id": "e304f4d8",
   "metadata": {},
   "source": [
    "**Ejercicio 63**: Crear una función que sume dos números. Si la suma está entre 10 y 30 (inclusive), retornar 30; de lo contrario, retornar el resultado normal."
   ]
  },
  {
   "cell_type": "code",
   "execution_count": 44,
   "id": "e30b2ad8",
   "metadata": {},
   "outputs": [
    {
     "name": "stdout",
     "output_type": "stream",
     "text": [
      "30\n",
      "93\n"
     ]
    }
   ],
   "source": [
    "def suma(a, b):\n",
    "    c = a + b\n",
    "    if c in range(10, 31):\n",
    "        return 30\n",
    "    else:\n",
    "        return c\n",
    "\n",
    "print(suma(7, 8))     # 15 → 30\n",
    "print(suma(24, 69))   # 93 → 93"
   ]
  },
  {
   "cell_type": "markdown",
   "id": "33184271",
   "metadata": {},
   "source": [
    "**Ejercicio 64**: Crear una función que retorne `True` si los dos números ingresados son iguales, o si su suma o su diferencia absoluta es 5. En caso contrario, retorna `False`."
   ]
  },
  {
   "cell_type": "code",
   "execution_count": 45,
   "id": "bba51390",
   "metadata": {},
   "outputs": [
    {
     "name": "stdout",
     "output_type": "stream",
     "text": [
      "False\n",
      "True\n",
      "True\n",
      "True\n"
     ]
    }
   ],
   "source": [
    "def validar_numeros(a, b):\n",
    "    if a == b or (a + b) == 5 or abs(a - b) == 5:\n",
    "        return True\n",
    "    else:\n",
    "        return False\n",
    "\n",
    "print(validar_numeros(7, 8))   # False\n",
    "print(validar_numeros(4, 4))   # True (iguales)\n",
    "print(validar_numeros(5, 10))  # True (|5-10| = 5)\n",
    "print(validar_numeros(4, 1))   # True (suma = 5)"
   ]
  },
  {
   "cell_type": "markdown",
   "id": "96b69a64",
   "metadata": {},
   "source": [
    "**Ejercicio 65**: Crear una función que sume dos valores solo si ambos son enteros. Si no lo son, debe lanzar un error `TypeError`. Luego, controlar esa excepción usando `try-except`."
   ]
  },
  {
   "cell_type": "code",
   "execution_count": 46,
   "id": "8ba2b7b7",
   "metadata": {},
   "outputs": [
    {
     "name": "stdout",
     "output_type": "stream",
     "text": [
      "13\n",
      "Los valores deben ser enteros.\n"
     ]
    }
   ],
   "source": [
    "def suma(x, y):\n",
    "    if isinstance(x, int) and isinstance(y, int):\n",
    "        return x + y\n",
    "    else:\n",
    "        raise TypeError('Los valores deben ser enteros.')\n",
    "\n",
    "try:\n",
    "    print(suma(6, 7))        # 13\n",
    "    print(suma(9, 'c'))      # Lanza TypeError\n",
    "except TypeError as e:\n",
    "    print(e)"
   ]
  },
  {
   "cell_type": "markdown",
   "id": "2b60f31b",
   "metadata": {},
   "source": [
    "**Ejercicio 66**: Crear una clase `Personas` con atributos `nombre`, `edad` y `correo`. Implementar el método `__str__()` para mostrar la información de forma legible. Luego, instanciar un objeto y mostrarlo."
   ]
  },
  {
   "cell_type": "code",
   "execution_count": 47,
   "id": "ee8f8363",
   "metadata": {},
   "outputs": [
    {
     "name": "stdout",
     "output_type": "stream",
     "text": [
      "Nombre: Edward\n",
      "Edad: 53\n",
      "Correo: edwardp@gmail.com\n"
     ]
    }
   ],
   "source": [
    "class Personas:\n",
    "    def __init__(self, nombre, edad, correo):\n",
    "        self.nombre = nombre\n",
    "        self.edad = edad\n",
    "        self.correo = correo\n",
    "    \n",
    "    def __str__(self):\n",
    "        return f'Nombre: {self.nombre}\\nEdad: {self.edad}\\nCorreo: {self.correo}'\n",
    "\n",
    "edward = Personas('Edward', '53', 'edwardp@gmail.com')\n",
    "\n",
    "print(edward)"
   ]
  },
  {
   "cell_type": "markdown",
   "id": "92b48964",
   "metadata": {},
   "source": [
    "**Ejercicio 67**: Implementar herencia entre clases. Crear una clase base `Persona` y una clase derivada `Estudiante` que incluya un atributo adicional `nivel`. Usar `super()` para inicializar los atributos heredados."
   ]
  },
  {
   "cell_type": "code",
   "execution_count": 48,
   "id": "4e298761",
   "metadata": {},
   "outputs": [
    {
     "name": "stdout",
     "output_type": "stream",
     "text": [
      "universitario\n",
      "True\n"
     ]
    }
   ],
   "source": [
    "class Persona:\n",
    "    def __init__(self, nombre, apellido):\n",
    "        self.nombre = nombre\n",
    "        self.apellido = apellido\n",
    "\n",
    "class Estudiante(Persona):\n",
    "    def __init__(self, nombre, apellido, nivel):\n",
    "        super().__init__(nombre, apellido)\n",
    "        self.nivel = nivel\n",
    "\n",
    "Ivancito = Estudiante('Ivan', 'Gomez', 'universitario')\n",
    "\n",
    "print(Ivancito.nivel)                            # universitario\n",
    "print(isinstance(Ivancito, Estudiante))          # True"
   ]
  },
  {
   "cell_type": "markdown",
   "id": "18d69b4c",
   "metadata": {},
   "source": [
    "**Ejercicio 68**: Crear una función que evalúe el desarrollo del cuadrado de un binomio: \\( x^2 + 2xy + y^2 \\). Solicitar los valores de `x` e `y` por teclado y mostrar el resultado."
   ]
  },
  {
   "cell_type": "code",
   "execution_count": 49,
   "id": "b2b807c4",
   "metadata": {},
   "outputs": [
    {
     "name": "stdout",
     "output_type": "stream",
     "text": [
      "Al operar x y y el resultado es: 1225.0\n"
     ]
    }
   ],
   "source": [
    "def resolver(x, y):\n",
    "    operar = x**2 + 2 * x * y + y**2\n",
    "    return f'Al operar x y y el resultado es: {operar}'\n",
    "\n",
    "x_value = float(input('Dame un valor para x: '))\n",
    "y_value = float(input('Dame un valor para y: '))\n",
    "\n",
    "print(resolver(x_value, y_value))"
   ]
  },
  {
   "cell_type": "markdown",
   "id": "162f9b65",
   "metadata": {},
   "source": [
    "**Ejercicio 69**: Crear una función que calcule el valor futuro de una inversión con interés compuesto, dados el capital, la tasa de interés y el número de años."
   ]
  },
  {
   "cell_type": "code",
   "execution_count": 50,
   "id": "70daa273",
   "metadata": {},
   "outputs": [
    {
     "name": "stdout",
     "output_type": "stream",
     "text": [
      "La cantidad futura es 3221.020000000001\n"
     ]
    }
   ],
   "source": [
    "def valor_futuro(cantidad, interes, años):\n",
    "    resultado = cantidad * ((1 + interes / 100) ** años)\n",
    "    return f'La cantidad futura es {resultado}'\n",
    "\n",
    "print(valor_futuro(2000, 10, 5))  # 3221.02"
   ]
  },
  {
   "cell_type": "markdown",
   "id": "890a93f7",
   "metadata": {},
   "source": [
    "**Ejercicio 70**: Crear una clase `Punto` con atributos `x` e `y`, y una función que calcule la distancia euclidiana entre dos puntos en el plano cartesiano."
   ]
  },
  {
   "cell_type": "code",
   "execution_count": 51,
   "id": "c5f63be6",
   "metadata": {},
   "outputs": [
    {
     "name": "stdout",
     "output_type": "stream",
     "text": [
      "9.219544457292887\n"
     ]
    }
   ],
   "source": [
    "import numpy as np\n",
    "\n",
    "class Punto:\n",
    "    def __init__(self, x, y):\n",
    "        self.x = x\n",
    "        self.y = y\n",
    "\n",
    "def calcular_distancia(p1, p2):\n",
    "    return np.sqrt((p1.x - p2.x)**2 + (p1.y - p2.y)**2)\n",
    "\n",
    "punto1 = Punto(3, 2)\n",
    "punto2 = Punto(-3, -5)\n",
    "\n",
    "print(calcular_distancia(punto1, punto2))  # 9.219544..."
   ]
  },
  {
   "cell_type": "markdown",
   "id": "c40af56a",
   "metadata": {},
   "source": [
    "**Ejercicio 71**: Verificar si un archivo existe en el directorio actual utilizando el módulo `os` y la función `os.path.isfile()`."
   ]
  },
  {
   "cell_type": "code",
   "execution_count": 52,
   "id": "d577e15c",
   "metadata": {},
   "outputs": [
    {
     "name": "stdout",
     "output_type": "stream",
     "text": [
      "False\n"
     ]
    }
   ],
   "source": [
    "import os\n",
    "\n",
    "nombre_archivo = 'archivo.txt'\n",
    "\n",
    "print(os.path.isfile(nombre_archivo))  # True si existe, False si no"
   ]
  },
  {
   "cell_type": "markdown",
   "id": "66228125",
   "metadata": {},
   "source": [
    "**Ejercicio 72**: Implementar el clásico desafío FizzBuzz. Imprimir \"fizz\" si un número es múltiplo de 3, \"buzz\" si es múltiplo de 5, y \"fizzbuzz\" si es múltiplo de ambos, recorriendo del 1 al 100."
   ]
  },
  {
   "cell_type": "code",
   "execution_count": 53,
   "id": "762e1ea3",
   "metadata": {},
   "outputs": [
    {
     "name": "stdout",
     "output_type": "stream",
     "text": [
      "1\n",
      "\n",
      "2\n",
      "\n",
      "fizz\n",
      "\n",
      "4\n",
      "\n",
      "buzz\n",
      "\n",
      "fizz\n",
      "\n",
      "7\n",
      "\n",
      "8\n",
      "\n",
      "fizz\n",
      "\n",
      "buzz\n",
      "\n",
      "11\n",
      "\n",
      "fizz\n",
      "\n",
      "13\n",
      "\n",
      "14\n",
      "\n",
      "fizzbuzz\n",
      "\n",
      "16\n",
      "\n",
      "17\n",
      "\n",
      "fizz\n",
      "\n",
      "19\n",
      "\n",
      "buzz\n",
      "\n",
      "fizz\n",
      "\n",
      "22\n",
      "\n",
      "23\n",
      "\n",
      "fizz\n",
      "\n",
      "buzz\n",
      "\n",
      "26\n",
      "\n",
      "fizz\n",
      "\n",
      "28\n",
      "\n",
      "29\n",
      "\n",
      "fizzbuzz\n",
      "\n",
      "31\n",
      "\n",
      "32\n",
      "\n",
      "fizz\n",
      "\n",
      "34\n",
      "\n",
      "buzz\n",
      "\n",
      "fizz\n",
      "\n",
      "37\n",
      "\n",
      "38\n",
      "\n",
      "fizz\n",
      "\n",
      "buzz\n",
      "\n",
      "41\n",
      "\n",
      "fizz\n",
      "\n",
      "43\n",
      "\n",
      "44\n",
      "\n",
      "fizzbuzz\n",
      "\n",
      "46\n",
      "\n",
      "47\n",
      "\n",
      "fizz\n",
      "\n",
      "49\n",
      "\n",
      "buzz\n",
      "\n",
      "fizz\n",
      "\n",
      "52\n",
      "\n",
      "53\n",
      "\n",
      "fizz\n",
      "\n",
      "buzz\n",
      "\n",
      "56\n",
      "\n",
      "fizz\n",
      "\n",
      "58\n",
      "\n",
      "59\n",
      "\n",
      "fizzbuzz\n",
      "\n",
      "61\n",
      "\n",
      "62\n",
      "\n",
      "fizz\n",
      "\n",
      "64\n",
      "\n",
      "buzz\n",
      "\n",
      "fizz\n",
      "\n",
      "67\n",
      "\n",
      "68\n",
      "\n",
      "fizz\n",
      "\n",
      "buzz\n",
      "\n",
      "71\n",
      "\n",
      "fizz\n",
      "\n",
      "73\n",
      "\n",
      "74\n",
      "\n",
      "fizzbuzz\n",
      "\n",
      "76\n",
      "\n",
      "77\n",
      "\n",
      "fizz\n",
      "\n",
      "79\n",
      "\n",
      "buzz\n",
      "\n",
      "fizz\n",
      "\n",
      "82\n",
      "\n",
      "83\n",
      "\n",
      "fizz\n",
      "\n",
      "buzz\n",
      "\n",
      "86\n",
      "\n",
      "fizz\n",
      "\n",
      "88\n",
      "\n",
      "89\n",
      "\n",
      "fizzbuzz\n",
      "\n",
      "91\n",
      "\n",
      "92\n",
      "\n",
      "fizz\n",
      "\n",
      "94\n",
      "\n",
      "buzz\n",
      "\n",
      "fizz\n",
      "\n",
      "97\n",
      "\n",
      "98\n",
      "\n",
      "fizz\n",
      "\n",
      "buzz\n",
      "\n"
     ]
    }
   ],
   "source": [
    "for i in range(1, 101):\n",
    "    if i % 15 == 0:\n",
    "        print('fizzbuzz')\n",
    "        print()\n",
    "    elif i % 3 == 0:\n",
    "        print('fizz')\n",
    "        print()\n",
    "    elif i % 5 == 0:\n",
    "        print('buzz')\n",
    "        print()\n",
    "    else:\n",
    "        print(i)\n",
    "        print()"
   ]
  },
  {
   "cell_type": "markdown",
   "id": "b7469a7b",
   "metadata": {},
   "source": [
    "**Ejercicio 73**: Crear una clase `Persona` con atributos `name` y `username`. Instanciar un objeto y mostrar los valores de sus atributos."
   ]
  },
  {
   "cell_type": "code",
   "execution_count": 54,
   "id": "5958684a",
   "metadata": {},
   "outputs": [
    {
     "name": "stdout",
     "output_type": "stream",
     "text": [
      "Ivan\n",
      "Ivo\n"
     ]
    }
   ],
   "source": [
    "class Persona:\n",
    "    def __init__(self, name, username):\n",
    "        self.name = name\n",
    "        self.username = username\n",
    "\n",
    "my_persona = Persona('Ivan', 'Ivo')\n",
    "\n",
    "print(my_persona.name)      # Ivan\n",
    "print(my_persona.username)  # Ivo"
   ]
  },
  {
   "cell_type": "markdown",
   "id": "b6d02fb8",
   "metadata": {},
   "source": [
    "**Ejercicio 74**: Crear una función que genere un código personalizado a partir del nombre completo (tomando la primera letra de cada palabra) y los dos últimos dígitos del año ingresado."
   ]
  },
  {
   "cell_type": "code",
   "execution_count": 55,
   "id": "7747d790",
   "metadata": {},
   "outputs": [
    {
     "name": "stdout",
     "output_type": "stream",
     "text": [
      "GDPI14\n"
     ]
    }
   ],
   "source": [
    "def codigo(nombre, año):\n",
    "    clave = ''\n",
    "    for letra in nombre.split():\n",
    "        bueno = letra.capitalize()\n",
    "        clave += bueno[0]\n",
    "    date = str(año)\n",
    "    clave += date[-2:]\n",
    "    return clave\n",
    "\n",
    "# Ejemplo\n",
    "print(codigo('gOMez  dAvid pARIPna ivAN', 2014))  # GDPi14"
   ]
  },
  {
   "cell_type": "markdown",
   "id": "72215752",
   "metadata": {},
   "source": [
    "**Ejercicio 75**: Crear una función que convierta la primera letra de una palabra a mayúscula y el resto a minúsculas, simulando el comportamiento de `capitalize()`."
   ]
  },
  {
   "cell_type": "code",
   "execution_count": 56,
   "id": "8f7a9c75",
   "metadata": {},
   "outputs": [
    {
     "name": "stdout",
     "output_type": "stream",
     "text": [
      "Hola\n"
     ]
    }
   ],
   "source": [
    "var = str(input('Dame una palabra: '))\n",
    "\n",
    "def mayu(var):\n",
    "    resultado = var[0].upper() + var[1:].lower()\n",
    "    return resultado\n",
    "\n",
    "print(mayu(var))"
   ]
  },
  {
   "cell_type": "markdown",
   "id": "f72a0c1e",
   "metadata": {},
   "source": [
    "**Ejercicio 76**: Crear una función que determine si una palabra es un palíndromo, es decir, si se lee igual al derecho y al revés."
   ]
  },
  {
   "cell_type": "code",
   "execution_count": 58,
   "id": "fa25adae",
   "metadata": {},
   "outputs": [
    {
     "name": "stdout",
     "output_type": "stream",
     "text": [
      "Es palíndromo\n"
     ]
    }
   ],
   "source": [
    "def es_palíndromo(palabra_1):\n",
    "    if palabra_1 == palabra_1[::-1]:\n",
    "        print('Es palíndromo')\n",
    "    else:\n",
    "        print('No es palíndromo')\n",
    "\n",
    "a = input('Ingrese la palabra: ')\n",
    "es_palíndromo(a)"
   ]
  },
  {
   "cell_type": "markdown",
   "id": "63dc3fd1",
   "metadata": {},
   "source": [
    "**Ejercicio 77**: Imprimir la tabla de multiplicar del 1 al 10 usando bucles `for` anidados y tabulación para alinear la salida."
   ]
  },
  {
   "cell_type": "code",
   "execution_count": 59,
   "id": "1645d906",
   "metadata": {},
   "outputs": [
    {
     "name": "stdout",
     "output_type": "stream",
     "text": [
      "1\t2\t3\t4\t5\t6\t7\t8\t9\t10\t\n",
      "2\t4\t6\t8\t10\t12\t14\t16\t18\t20\t\n",
      "3\t6\t9\t12\t15\t18\t21\t24\t27\t30\t\n",
      "4\t8\t12\t16\t20\t24\t28\t32\t36\t40\t\n",
      "5\t10\t15\t20\t25\t30\t35\t40\t45\t50\t\n",
      "6\t12\t18\t24\t30\t36\t42\t48\t54\t60\t\n",
      "7\t14\t21\t28\t35\t42\t49\t56\t63\t70\t\n",
      "8\t16\t24\t32\t40\t48\t56\t64\t72\t80\t\n",
      "9\t18\t27\t36\t45\t54\t63\t72\t81\t90\t\n",
      "10\t20\t30\t40\t50\t60\t70\t80\t90\t100\t\n"
     ]
    }
   ],
   "source": [
    "for i in range(1, 11):\n",
    "    for j in range(1, 11):\n",
    "        print(i * j, end=\"\\t\")\n",
    "    print('')"
   ]
  },
  {
   "cell_type": "markdown",
   "id": "3d735912",
   "metadata": {},
   "source": [
    "**Ejercicio 78**: Imprimir un patrón de números impares descendentes en forma triangular usando bucles anidados. El número ingresado define hasta qué impar se imprimirá."
   ]
  },
  {
   "cell_type": "code",
   "execution_count": 60,
   "id": "1d9138cd",
   "metadata": {},
   "outputs": [
    {
     "name": "stdout",
     "output_type": "stream",
     "text": [
      "1 \t\n",
      "3 1 \t\n",
      "5 3 1 \t\n",
      "7 5 3 1 \t\n",
      "9 7 5 3 1 \t\n",
      "11 9 7 5 3 1 \t\n",
      "13 11 9 7 5 3 1 \t\n",
      "15 13 11 9 7 5 3 1 \t\n",
      "17 15 13 11 9 7 5 3 1 \t\n",
      "19 17 15 13 11 9 7 5 3 1 \t\n",
      "21 19 17 15 13 11 9 7 5 3 1 \t\n"
     ]
    }
   ],
   "source": [
    "number = int(input('Dame un número:\\t'))\n",
    "\n",
    "for i in range(1, number + 1, 2):\n",
    "    for j in range(i, 0, -2):\n",
    "        print(j, end=' ')\n",
    "    print('\\t')"
   ]
  },
  {
   "cell_type": "markdown",
   "id": "672f08ee",
   "metadata": {},
   "source": [
    "**Ejercicio 79**: Crear un programa que solicite una contraseña y no permita continuar hasta que el usuario la escriba correctamente."
   ]
  },
  {
   "cell_type": "code",
   "execution_count": 61,
   "id": "9a4f81cb",
   "metadata": {},
   "outputs": [
    {
     "name": "stdout",
     "output_type": "stream",
     "text": [
      "Contraseña correcta\n"
     ]
    }
   ],
   "source": [
    "key = 'contraseña'\n",
    "password = ''\n",
    "\n",
    "while key != password:\n",
    "    password = input('Introduce la contraseña: ')\n",
    "\n",
    "print('Contraseña correcta')"
   ]
  },
  {
   "cell_type": "markdown",
   "id": "28307e8c",
   "metadata": {},
   "source": [
    "**Ejercicio 80**: Realizar una multiplicación entre dos números decimales y redondear el resultado a dos cifras decimales. Además, calcular la longitud de cadenas numéricas y de texto usando `len()`."
   ]
  },
  {
   "cell_type": "code",
   "execution_count": 63,
   "id": "ef73c3f4",
   "metadata": {},
   "outputs": [
    {
     "name": "stdout",
     "output_type": "stream",
     "text": [
      "1094.6137132\n",
      "1094.61\n",
      "12\n",
      "8\n"
     ]
    }
   ],
   "source": [
    "# Multiplicación decimal\n",
    "multi = 23.8345 * 45.9256\n",
    "print(multi)\n",
    "\n",
    "# Redondear a 2 decimales\n",
    "print(round(multi, 2))\n",
    "\n",
    "# Longitud de una cadena numérica\n",
    "num = '385345554595'\n",
    "print(len(num))\n",
    "\n",
    "# Longitud de una palabra\n",
    "color = 'amarillo'\n",
    "print(len(color))"
   ]
  },
  {
   "cell_type": "markdown",
   "id": "698a0113",
   "metadata": {},
   "source": [
    "**Ejercicio 81**: Crear una calculadora básica que permita realizar una operación inicial (+, -, *, /) entre dos números. Luego, si el usuario desea, seguir operando con más números hasta ingresar `=`, mostrando el resultado final."
   ]
  },
  {
   "cell_type": "code",
   "execution_count": 62,
   "id": "360032ac",
   "metadata": {},
   "outputs": [
    {
     "name": "stdout",
     "output_type": "stream",
     "text": [
      "El resultado es igual a 24\n"
     ]
    }
   ],
   "source": [
    "num1 = int(input('Dame el primer número: '))\n",
    "operador = str(input('Seleccione el operador: '))\n",
    "num2 = int(input('Dame el segundo número: '))\n",
    "igual = str(input('Desea seguir operando (si/no): '))\n",
    "\n",
    "if operador == '+':\n",
    "    resultado = num1 + num2\n",
    "elif operador == '-':\n",
    "    resultado = num1 - num2\n",
    "elif operador == '*':\n",
    "    resultado = num1 * num2\n",
    "elif operador == '/':\n",
    "    resultado = num1 / num2\n",
    "else:\n",
    "    print('Operador no definido')\n",
    "\n",
    "if igual == 'no':\n",
    "    print(f'El resultado es igual a {resultado}')\n",
    "elif igual == 'si':\n",
    "    continuar = str(input('Seleccione el operador: '))\n",
    "    while continuar != '=':\n",
    "        if operador == '+':\n",
    "            num3 = int(input('Dame un número: '))\n",
    "            resultado += num3\n",
    "        elif operador == '-':\n",
    "            num3 = int(input('Dame un número: '))\n",
    "            resultado -= num3\n",
    "        elif operador == '*':\n",
    "            num3 = int(input('Dame un número: '))\n",
    "            resultado *= num3\n",
    "        elif operador == '/':\n",
    "            num3 = int(input('Dame un número: '))\n",
    "            resultado /= num3\n",
    "        else:\n",
    "            print('Operador no definido')\n",
    "\n",
    "        continuar = str(input('Seleccione el operador, si desea la respuesta presione =: '))\n",
    "\n",
    "        if continuar == '=':\n",
    "            print(f'El resultado es igual a {resultado}')"
   ]
  }
 ],
 "metadata": {
  "kernelspec": {
   "display_name": "Python 3",
   "language": "python",
   "name": "python3"
  },
  "language_info": {
   "codemirror_mode": {
    "name": "ipython",
    "version": 3
   },
   "file_extension": ".py",
   "mimetype": "text/x-python",
   "name": "python",
   "nbconvert_exporter": "python",
   "pygments_lexer": "ipython3",
   "version": "3.12.6"
  }
 },
 "nbformat": 4,
 "nbformat_minor": 5
}
