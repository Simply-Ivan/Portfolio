{
 "cells": [
  {
   "cell_type": "code",
   "execution_count": null,
   "id": "2a3bd9b1",
   "metadata": {},
   "outputs": [
    {
     "name": "stdout",
     "output_type": "stream",
     "text": [
      "Ivan de Peru\n"
     ]
    }
   ],
   "source": [
    "def main():\n",
    "    estudiante = obtener_estudiante()\n",
    "    if estudiante[0] == \"Padma\":\n",
    "        estudiante[1] = 'Ravenclaw'\n",
    "    print(f\"{estudiante[0]} de {estudiante[1]}\")\n",
    "\n",
    "def obtener_estudiante():\n",
    "    nombre = input('Nombre: ').capitalize()\n",
    "    casa = input('House: ').capitalize()\n",
    "    return [nombre, casa]\n",
    "\n",
    "if __name__ == '__main__':\n",
    "    main()"
   ]
  },
  {
   "cell_type": "code",
   "execution_count": 11,
   "id": "0336e92b",
   "metadata": {},
   "outputs": [
    {
     "name": "stdout",
     "output_type": "stream",
     "text": [
      "Ivan de Peru\n"
     ]
    }
   ],
   "source": [
    "def main():\n",
    "    estudiante = obtener_estudiante()\n",
    "    print(f\"{estudiante['nombre']} de {estudiante['casa']}\")\n",
    "\n",
    "def obtener_estudiante():\n",
    "    estudiante = {}\n",
    "    estudiante['nombre'] = input('Nombre: ').capitalize()\n",
    "    estudiante['casa'] = input('House: ').capitalize()\n",
    "    return estudiante\n",
    "\n",
    "if __name__ == '__main__':\n",
    "    main()"
   ]
  },
  {
   "cell_type": "code",
   "execution_count": 13,
   "id": "bebd597c",
   "metadata": {},
   "outputs": [
    {
     "name": "stdout",
     "output_type": "stream",
     "text": [
      "Padma de Ravenclaw\n"
     ]
    }
   ],
   "source": [
    "def main():\n",
    "    estudiante = obtener_estudiante()\n",
    "    if estudiante['nombre'] == 'Padma':\n",
    "        estudiante['casa'] = 'Ravenclaw'\n",
    "    print(f\"{estudiante['nombre']} de {estudiante['casa']}\")\n",
    "\n",
    "def obtener_estudiante():\n",
    "    nombre = input('Nombre: ').capitalize()\n",
    "    casa = input('House: ').capitalize()\n",
    "    return {'nombre': nombre, 'casa': casa}\n",
    "\n",
    "if __name__ == '__main__':\n",
    "    main()"
   ]
  },
  {
   "cell_type": "code",
   "execution_count": null,
   "id": "844786a6",
   "metadata": {},
   "outputs": [
    {
     "name": "stdout",
     "output_type": "stream",
     "text": [
      "Harry de Gryffindor\n"
     ]
    }
   ],
   "source": [
    "class Estudiante:\n",
    "    ...\n",
    "\n",
    "\n",
    "def main():\n",
    "    estudiante = obtener_estudiante()\n",
    "    print(f\"{estudiante.nombre} de {estudiante.casa}\")\n",
    "\n",
    "def obtener_estudiante():\n",
    "    estudiante = Estudiante()\n",
    "    estudiante.nombre = input('Nombre: ')\n",
    "    estudiante.casa = input('Casa: ')\n",
    "    return estudiante\n",
    "\n",
    "if __name__ == '__main__':\n",
    "    main()"
   ]
  },
  {
   "cell_type": "code",
   "execution_count": null,
   "id": "ffccfd43",
   "metadata": {},
   "outputs": [],
   "source": [
    "class Estudiante:\n",
    "    def __init__(self, nombre, casa):\n",
    "        self.nombre = nombre\n",
    "        self.casa = casa\n",
    "\n",
    "def main():\n",
    "    estudiante = obtener_estudiante()\n",
    "    print(f\"{estudiante.nombre} de {estudiante.casa}\")\n",
    "\n",
    "def obtener_estudiante():\n",
    "    nombre = input('Nombre: ')\n",
    "    casa = input('Casa: ')\n",
    "    estudiante = Estudiante(nombre, casa)\n",
    "    return estudiante\n",
    "\n",
    "if __name__ == '__main__':\n",
    "    main()"
   ]
  },
  {
   "cell_type": "code",
   "execution_count": null,
   "id": "c636c557",
   "metadata": {},
   "outputs": [],
   "source": [
    "class Estudiante:\n",
    "    def __init__(self, nombre, casa):\n",
    "        self.nombre = nombre\n",
    "        self.casa = casa\n",
    "\n",
    "def main():\n",
    "    estudiante = obtener_estudiante()\n",
    "    print(f\"{estudiante.nombre} de {estudiante.casa}\")\n",
    "\n",
    "def obtener_estudiante():\n",
    "    nombre = input('Nombre: ')\n",
    "    casa = input('Casa: ')\n",
    "    estudiante = Estudiante(nombre, casa)\n",
    "    return estudiante\n",
    "\n",
    "if __name__ == '__main__':\n",
    "    main()"
   ]
  },
  {
   "cell_type": "code",
   "execution_count": 5,
   "id": "c87f7e76",
   "metadata": {},
   "outputs": [
    {
     "name": "stdout",
     "output_type": "stream",
     "text": [
      "Ivan de Huancayo\n"
     ]
    }
   ],
   "source": [
    "class Estudiante:\n",
    "    def __init__(self, nombre, casa):\n",
    "        if not nombre:\n",
    "            raise ValueError('Nombre faltante')\n",
    "        if casa not in ['Huancayo', 'Ayacucho', 'Lima', 'Arequipa']:\n",
    "            raise ValueError('Casa invalida')\n",
    "        self.nombre = nombre\n",
    "        self.casa = casa\n",
    "\n",
    "def main():\n",
    "    estudiante = obtener_estudiante()\n",
    "    print(f\"{estudiante.nombre} de {estudiante.casa}\")\n",
    "\n",
    "def obtener_estudiante():\n",
    "    nombre = input('Nombre: ').capitalize()\n",
    "    casa = input('Casa: ').capitalize()\n",
    "    return Estudiante(nombre, casa)\n",
    "\n",
    "\n",
    "if __name__ == '__main__':\n",
    "    main()"
   ]
  },
  {
   "cell_type": "code",
   "execution_count": null,
   "id": "7f6d18ec",
   "metadata": {},
   "outputs": [
    {
     "name": "stdout",
     "output_type": "stream",
     "text": [
      "Ivan de Huancayo\n"
     ]
    }
   ],
   "source": [
    "class Estudiante:\n",
    "    def __init__(self, nombre, casa, poder):\n",
    "        if not nombre:\n",
    "            raise ValueError('Nombre faltante')\n",
    "        if casa not in ['Huancayo', 'Ayacucho', 'Lima', 'Arequipa']:\n",
    "            raise ValueError('Casa invalida')\n",
    "        self.nombre = nombre\n",
    "        self.casa = casa\n",
    "        self.poder = poder\n",
    "\n",
    "    def __str__(self):\n",
    "        return f'{self.nombre} de {self.casa}'\n",
    "\n",
    "def main():\n",
    "    estudiante = obtener_estudiante()\n",
    "    print(estudiante)\n",
    "\n",
    "def obtener_estudiante():\n",
    "    nombre = input('Nombre: ').capitalize()\n",
    "    casa = input('Casa: ').capitalize()\n",
    "    return Estudiante(nombre, casa)\n",
    "\n",
    "\n",
    "if __name__ == '__main__':\n",
    "    main()"
   ]
  }
 ],
 "metadata": {
  "kernelspec": {
   "display_name": "Python 3",
   "language": "python",
   "name": "python3"
  },
  "language_info": {
   "codemirror_mode": {
    "name": "ipython",
    "version": 3
   },
   "file_extension": ".py",
   "mimetype": "text/x-python",
   "name": "python",
   "nbconvert_exporter": "python",
   "pygments_lexer": "ipython3",
   "version": "3.13.7"
  }
 },
 "nbformat": 4,
 "nbformat_minor": 5
}
