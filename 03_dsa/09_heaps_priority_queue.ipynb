{
 "cells": [
  {
   "cell_type": "code",
   "execution_count": 11,
   "id": "fbf4800b",
   "metadata": {},
   "outputs": [
    {
     "data": {
      "text/plain": [
       "[-4, 0, 1, 3, 2, 5, 10, 8, 12, 9]"
      ]
     },
     "execution_count": 11,
     "metadata": {},
     "output_type": "execute_result"
    }
   ],
   "source": [
    "A = [-4, 3, 1, 0, 2, 5, 10, 8, 12, 9]\n",
    "\n",
    "import heapq\n",
    "heapq.heapify(A)\n",
    "\n",
    "A"
   ]
  },
  {
   "cell_type": "code",
   "execution_count": 4,
   "id": "5e76e089",
   "metadata": {},
   "outputs": [
    {
     "data": {
      "text/plain": [
       "[-4, 0, 1, 3, 2, 5, 10, 8, 12, 9, 4]"
      ]
     },
     "execution_count": 4,
     "metadata": {},
     "output_type": "execute_result"
    }
   ],
   "source": [
    "# Heap Push (Insertar elemento)\n",
    "# Time: O(log n)\n",
    "\n",
    "heapq.heappush(A, 4)\n",
    "A"
   ]
  },
  {
   "cell_type": "code",
   "execution_count": 5,
   "id": "9da5c5d9",
   "metadata": {},
   "outputs": [
    {
     "data": {
      "text/plain": [
       "(-4, [0, 2, 1, 3, 4, 5, 10, 8, 12, 9])"
      ]
     },
     "execution_count": 5,
     "metadata": {},
     "output_type": "execute_result"
    }
   ],
   "source": [
    "# Heap Pop(Eliminar minimo elemento)\n",
    "# Time: O(log n)\n",
    "\n",
    "minn = heapq.heappop(A)\n",
    "minn, A"
   ]
  },
  {
   "cell_type": "code",
   "execution_count": 7,
   "id": "bef51e05",
   "metadata": {},
   "outputs": [
    {
     "data": {
      "text/plain": [
       "[0, 1, 2, 3, 4, 5, 8, 9, 10, 12]"
      ]
     },
     "execution_count": 7,
     "metadata": {},
     "output_type": "execute_result"
    }
   ],
   "source": [
    "# Heap Sort\n",
    "# Time: O(n log n), Space: O(n)\n",
    "# Nota: O(1) Space es posible si se modifica la lista, pero esto es complejo\n",
    "\n",
    "def heapsort(arr):\n",
    "    heapq.heapify(arr)\n",
    "    n = len(arr)\n",
    "    new_list = [0] * n\n",
    "    for i in range(n):\n",
    "        minn = heapq.heappop(arr)\n",
    "        new_list[i] = minn\n",
    "\n",
    "    return new_list\n",
    "\n",
    "heapsort(A)"
   ]
  },
  {
   "cell_type": "code",
   "execution_count": 13,
   "id": "a602a5d6",
   "metadata": {},
   "outputs": [
    {
     "data": {
      "text/plain": [
       "[1, 2, 5, 3, 9, 6, 10, 8, 12, 99]"
      ]
     },
     "execution_count": 13,
     "metadata": {},
     "output_type": "execute_result"
    }
   ],
   "source": [
    "# Heap Push Po: Time: O(log n)\n",
    "\n",
    "heapq.heappushpop(A, 6)\n",
    "A"
   ]
  },
  {
   "cell_type": "code",
   "execution_count": 20,
   "id": "1bb830ca",
   "metadata": {},
   "outputs": [
    {
     "data": {
      "text/plain": [
       "1"
      ]
     },
     "execution_count": 20,
     "metadata": {},
     "output_type": "execute_result"
    }
   ],
   "source": [
    "# Peak at Min; Time O(1)\n",
    "A[0]"
   ]
  },
  {
   "cell_type": "code",
   "execution_count": 17,
   "id": "a07e37e7",
   "metadata": {},
   "outputs": [
    {
     "data": {
      "text/plain": [
       "[-12, -9, -10, -8, -2, -5, -1, -3, 0, 4]"
      ]
     },
     "execution_count": 17,
     "metadata": {},
     "output_type": "execute_result"
    }
   ],
   "source": [
    "# Max Heap\n",
    "\n",
    "B = [-4, 3, 1, 0, 2, 5, 10, 8 , 12, 9]\n",
    "n = len(B)\n",
    "\n",
    "for i in range(n):\n",
    "    B[i] = -B[i]\n",
    "\n",
    "heapq.heapify(B)\n",
    "B"
   ]
  },
  {
   "cell_type": "code",
   "execution_count": 18,
   "id": "6f7e53f1",
   "metadata": {},
   "outputs": [
    {
     "data": {
      "text/plain": [
       "(12, [-10, -9, -5, -8, -2, 4, -1, -3, 0])"
      ]
     },
     "execution_count": 18,
     "metadata": {},
     "output_type": "execute_result"
    }
   ],
   "source": [
    "largest = -heapq.heappop(B)\n",
    "largest, B"
   ]
  },
  {
   "cell_type": "code",
   "execution_count": 19,
   "id": "eef826de",
   "metadata": {},
   "outputs": [
    {
     "data": {
      "text/plain": [
       "[-10, -9, -5, -8, -7, 4, -1, -3, 0, -2]"
      ]
     },
     "execution_count": 19,
     "metadata": {},
     "output_type": "execute_result"
    }
   ],
   "source": [
    "heapq.heappush(B, -7)\n",
    "B"
   ]
  },
  {
   "cell_type": "code",
   "execution_count": 21,
   "id": "ce5deeb9",
   "metadata": {},
   "outputs": [
    {
     "name": "stdout",
     "output_type": "stream",
     "text": [
      "[-5] 1\n",
      "[-5, 4] 2\n",
      "[-5, 4, 2] 3\n",
      "[-5, 1, 2, 4] 4\n",
      "[-5, 1, 2, 4, 7] 5\n",
      "[-5, 1, 0, 4, 7, 2] 6\n",
      "[-5, 1, 0, 4, 7, 2, 3] 7\n"
     ]
    }
   ],
   "source": [
    "# Build heap from scratch\n",
    "\n",
    "C = [-5, 4, 2, 1, 7, 0, 3]\n",
    "\n",
    "heap = []\n",
    "\n",
    "for x in C:\n",
    "    heapq.heappush(heap, x)\n",
    "    print(heap, len(heap))"
   ]
  },
  {
   "cell_type": "code",
   "execution_count": 22,
   "id": "ee5e9f6f",
   "metadata": {},
   "outputs": [
    {
     "data": {
      "text/plain": [
       "Counter({5: 4, 4: 3, 3: 2})"
      ]
     },
     "execution_count": 22,
     "metadata": {},
     "output_type": "execute_result"
    }
   ],
   "source": [
    "#  Putting tuples of items on the heap\n",
    "\n",
    "D = [5, 4, 3, 5, 4, 3, 5, 5, 4]\n",
    "\n",
    "from collections import Counter\n",
    "\n",
    "counter = Counter(D)\n",
    "counter"
   ]
  },
  {
   "cell_type": "code",
   "execution_count": 23,
   "id": "f0293e06",
   "metadata": {},
   "outputs": [
    {
     "data": {
      "text/plain": [
       "[(2, 3), (4, 5), (3, 4)]"
      ]
     },
     "execution_count": 23,
     "metadata": {},
     "output_type": "execute_result"
    }
   ],
   "source": [
    "heap = []\n",
    "\n",
    "for k, v in counter.items():\n",
    "    heapq.heappush(heap, (v, k))\n",
    "\n",
    "heap"
   ]
  }
 ],
 "metadata": {
  "kernelspec": {
   "display_name": "Python 3",
   "language": "python",
   "name": "python3"
  },
  "language_info": {
   "codemirror_mode": {
    "name": "ipython",
    "version": 3
   },
   "file_extension": ".py",
   "mimetype": "text/x-python",
   "name": "python",
   "nbconvert_exporter": "python",
   "pygments_lexer": "ipython3",
   "version": "3.13.7"
  }
 },
 "nbformat": 4,
 "nbformat_minor": 5
}
