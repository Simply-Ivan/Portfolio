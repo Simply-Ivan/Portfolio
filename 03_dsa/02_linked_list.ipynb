{
 "cells": [
  {
   "cell_type": "markdown",
   "id": "e969b2c1",
   "metadata": {},
   "source": [
    "## Nodos simples viculadas"
   ]
  },
  {
   "cell_type": "code",
   "execution_count": 2,
   "id": "9e76b4cf",
   "metadata": {},
   "outputs": [],
   "source": [
    "class Nodo:\n",
    "    def __init__(self, val, next=None):\n",
    "        self.val = val\n",
    "        self.next = next\n",
    "        \n",
    "    def __str__(self):\n",
    "        return str(self.val)"
   ]
  },
  {
   "cell_type": "code",
   "execution_count": 4,
   "id": "83a4eec7",
   "metadata": {},
   "outputs": [
    {
     "name": "stdout",
     "output_type": "stream",
     "text": [
      "7\n"
     ]
    }
   ],
   "source": [
    "Head = Nodo(7)\n",
    "A = Nodo(13)\n",
    "B = Nodo(25)\n",
    "C = Nodo(10)\n",
    "D = Nodo(33)\n",
    "\n",
    "Head.next = A\n",
    "A.next = B\n",
    "B.next = C\n",
    "C.next = D\n",
    "\n",
    "print(Head)"
   ]
  },
  {
   "cell_type": "code",
   "execution_count": 5,
   "id": "9d38c22f",
   "metadata": {},
   "outputs": [
    {
     "name": "stdout",
     "output_type": "stream",
     "text": [
      "7 -> 13 -> 25 -> 10 -> 33\n"
     ]
    }
   ],
   "source": [
    "# Atravesar la lista - O(n)\n",
    "\n",
    "def AtravesarNodo(head):\n",
    "    curr = head\n",
    "    elementos = []\n",
    "    while curr:\n",
    "        elementos.append(str(curr.val))\n",
    "        curr = curr.next\n",
    "    print(' -> '.join(elementos))\n",
    "    \n",
    "AtravesarNodo(Head)"
   ]
  },
  {
   "cell_type": "code",
   "execution_count": 6,
   "id": "7637d3f1",
   "metadata": {},
   "outputs": [
    {
     "name": "stdout",
     "output_type": "stream",
     "text": [
      "13 -> 25 -> 10 -> 33\n"
     ]
    }
   ],
   "source": [
    "# Mostrar la lista enlazada - O(n)\n",
    "\n",
    "def display(head):\n",
    "    elementos = []\n",
    "    curr = head\n",
    "    while curr:\n",
    "        elementos.append(str(curr))\n",
    "        curr = curr.next\n",
    "    print(' -> '.join(elementos))\n",
    "    \n",
    "display(A)"
   ]
  },
  {
   "cell_type": "code",
   "execution_count": 7,
   "id": "fc7e0ec4",
   "metadata": {},
   "outputs": [
    {
     "data": {
      "text/plain": [
       "True"
      ]
     },
     "execution_count": 7,
     "metadata": {},
     "output_type": "execute_result"
    }
   ],
   "source": [
    "# Buscar el valor del nodo - O(n)\n",
    "\n",
    "def search(head, val):\n",
    "    curr = head\n",
    "    \n",
    "    while curr:\n",
    "        if curr.val == val:\n",
    "            return True\n",
    "        curr = curr.next\n",
    "    return False\n",
    "    \n",
    "search(Head, 10)"
   ]
  },
  {
   "cell_type": "code",
   "execution_count": null,
   "id": "8e92136c",
   "metadata": {},
   "outputs": [
    {
     "name": "stdout",
     "output_type": "stream",
     "text": [
      "25 -> 10 -> 33\n",
      "10 -> 33\n",
      "10 -> 33\n"
     ]
    }
   ],
   "source": [
    "def eliminar_nodo(head, val):\n",
    "    while head and head.val == val:\n",
    "        head = head.next\n",
    "\n",
    "    if not head:\n",
    "        return None\n",
    "\n",
    "    prev = head\n",
    "    curr = head.next\n",
    "\n",
    "    while curr:\n",
    "        if curr.val == val:\n",
    "            prev.next = curr.next\n",
    "        else:\n",
    "            prev = curr\n",
    "        curr = curr.next\n",
    "\n",
    "    return head\n",
    "            \n",
    "display(Head)\n",
    "Head = eliminar_nodo(Head, 25)\n",
    "display(Head)"
   ]
  },
  {
   "cell_type": "markdown",
   "id": "9df34e11",
   "metadata": {},
   "source": [
    "## Nodo doblemente vinculada"
   ]
  },
  {
   "cell_type": "code",
   "execution_count": 52,
   "id": "9b814f34",
   "metadata": {},
   "outputs": [],
   "source": [
    "class DoublyNode:\n",
    "    def __init__(self, val, next=None, prev=None):\n",
    "        self.val = val\n",
    "        self.next = next\n",
    "        self.prev = prev\n",
    "    \n",
    "    def __str__(self):\n",
    "        return str(self.val)"
   ]
  },
  {
   "cell_type": "code",
   "execution_count": 53,
   "id": "e4e32218",
   "metadata": {},
   "outputs": [],
   "source": [
    "Head = DoublyNode(3)\n",
    "A = DoublyNode(5)\n",
    "B = DoublyNode(13)\n",
    "Tail = DoublyNode(2)\n",
    "\n",
    "Head.next = A\n",
    "\n",
    "A.prev = Head\n",
    "A.next = B\n",
    "\n",
    "B.prev = A\n",
    "B.next = Tail\n",
    "\n",
    "Tail.prev = B"
   ]
  },
  {
   "cell_type": "code",
   "execution_count": null,
   "id": "6429a4fc",
   "metadata": {},
   "outputs": [
    {
     "name": "stdout",
     "output_type": "stream",
     "text": [
      "3\n",
      "5\n",
      "13\n",
      "2\n"
     ]
    }
   ],
   "source": [
    "# Forward - O(n)\n",
    "def from_head_to_tail(head):\n",
    "    curr = head\n",
    "    while curr:\n",
    "        print(curr)\n",
    "        curr = curr.next\n",
    "\n",
    "from_head_to_tail(Head)"
   ]
  },
  {
   "cell_type": "code",
   "execution_count": null,
   "id": "3f07c46d",
   "metadata": {},
   "outputs": [
    {
     "name": "stdout",
     "output_type": "stream",
     "text": [
      "2\n",
      "13\n",
      "5\n",
      "3\n"
     ]
    }
   ],
   "source": [
    "# Backward - O(n)\n",
    "\n",
    "def from_tail_to_head(tail):\n",
    "    curr = tail\n",
    "    while curr:\n",
    "        print(curr)\n",
    "        curr = curr.prev\n",
    "\n",
    "from_tail_to_head(Tail)"
   ]
  },
  {
   "cell_type": "code",
   "execution_count": 59,
   "id": "80c03cd4",
   "metadata": {},
   "outputs": [
    {
     "name": "stdout",
     "output_type": "stream",
     "text": [
      "3 <-> 5 <-> 13 <-> 2\n"
     ]
    }
   ],
   "source": [
    "# Mostrar la lista enlazada - O(n)\n",
    "\n",
    "def display(head):\n",
    "    curr = head\n",
    "    elementos = []\n",
    "    \n",
    "    while curr:\n",
    "        elementos.append(str(curr.val))\n",
    "        curr = curr.next\n",
    "    \n",
    "    print(' <-> '.join(elementos))\n",
    "    \n",
    "display(Head)"
   ]
  },
  {
   "cell_type": "code",
   "execution_count": 71,
   "id": "e417f253",
   "metadata": {},
   "outputs": [
    {
     "name": "stdout",
     "output_type": "stream",
     "text": [
      "4\n"
     ]
    }
   ],
   "source": [
    "Head = Tail = DoublyNode(4)\n",
    "\n",
    "print(Head.val)"
   ]
  },
  {
   "cell_type": "code",
   "execution_count": 72,
   "id": "700a941b",
   "metadata": {},
   "outputs": [
    {
     "name": "stdout",
     "output_type": "stream",
     "text": [
      "3 <-> 4\n"
     ]
    }
   ],
   "source": [
    "# Insertar al inicio - O(1)\n",
    "def insertar_inicio(head, tail, val):\n",
    "    nuevo_nodo = DoublyNode(val, next=head)\n",
    "    head.prev = nuevo_nodo\n",
    "    \n",
    "    return nuevo_nodo, tail\n",
    "\n",
    "Head, Tail = insertar_inicio(Head, Tail, 3)\n",
    "display(Head)"
   ]
  },
  {
   "cell_type": "code",
   "execution_count": 73,
   "id": "00aa7c38",
   "metadata": {},
   "outputs": [
    {
     "name": "stdout",
     "output_type": "stream",
     "text": [
      "3 <-> 4 <-> 7\n"
     ]
    }
   ],
   "source": [
    "# Insertar al final - O(1)\n",
    "def insertar_final(head, tail, val):\n",
    "    nuevo_nodo = DoublyNode(val, prev=tail)\n",
    "    tail.next = nuevo_nodo\n",
    "    \n",
    "    return head, nuevo_nodo\n",
    "\n",
    "Head, Tail = insertar_final(Head, Tail, 7)\n",
    "display(Head)"
   ]
  },
  {
   "cell_type": "markdown",
   "id": "36297ad8",
   "metadata": {},
   "source": [
    "## Listas vinculadas circulares"
   ]
  },
  {
   "cell_type": "code",
   "execution_count": 47,
   "id": "a3b9d87e",
   "metadata": {},
   "outputs": [],
   "source": [
    "class Nodo():\n",
    "    def __init__(self,data):\n",
    "        self.data = data\n",
    "        self.next = None"
   ]
  },
  {
   "cell_type": "code",
   "execution_count": 48,
   "id": "544a9f97",
   "metadata": {},
   "outputs": [],
   "source": [
    "nodo1 = Nodo(3)\n",
    "nodo2 = Nodo(7)\n",
    "nodo3 = Nodo(2)\n",
    "nodo4 = Nodo(15)"
   ]
  },
  {
   "cell_type": "code",
   "execution_count": 49,
   "id": "3b61c618",
   "metadata": {},
   "outputs": [],
   "source": [
    "nodo1.next = nodo2\n",
    "nodo2.next = nodo3\n",
    "nodo3.next = nodo4\n",
    "nodo4.next = nodo1"
   ]
  },
  {
   "cell_type": "code",
   "execution_count": 50,
   "id": "f3a32dc3",
   "metadata": {},
   "outputs": [
    {
     "name": "stdout",
     "output_type": "stream",
     "text": [
      "3->7->2->15->...\n"
     ]
    }
   ],
   "source": [
    "nodoActual = nodo1\n",
    "nodoInicial = nodo1\n",
    "print(nodoActual.data, end=\"->\")\n",
    "nodoActual = nodoActual.next\n",
    "while nodoActual != nodoInicial:\n",
    "    print(nodoActual.data, end=\"->\")\n",
    "    nodoActual = nodoActual.next\n",
    "    \n",
    "print(\"...\")"
   ]
  },
  {
   "cell_type": "markdown",
   "id": "e48cd2e3",
   "metadata": {},
   "source": [
    "## Lista doblemente vinculada circular"
   ]
  },
  {
   "cell_type": "code",
   "execution_count": 52,
   "id": "b916404b",
   "metadata": {},
   "outputs": [],
   "source": [
    "class Nodo():\n",
    "    def __init__(self,dato):\n",
    "        self.dato = dato\n",
    "        self.next = None\n",
    "        self.prev = None"
   ]
  },
  {
   "cell_type": "code",
   "execution_count": 53,
   "id": "d59f79f1",
   "metadata": {},
   "outputs": [],
   "source": [
    "nodo1 = Nodo(3)\n",
    "nodo2 = Nodo(7)\n",
    "nodo3 = Nodo(2)\n",
    "nodo4 = Nodo(15)"
   ]
  },
  {
   "cell_type": "code",
   "execution_count": 54,
   "id": "9712299f",
   "metadata": {},
   "outputs": [],
   "source": [
    "nodo1.prev = nodo4\n",
    "nodo1.next = nodo2\n",
    "\n",
    "nodo2.prev = nodo1\n",
    "nodo2.next = nodo3\n",
    "\n",
    "nodo3.prev = nodo2\n",
    "nodo3.next = nodo4\n",
    "\n",
    "nodo4.prev = nodo3\n",
    "nodo4.next = nodo1"
   ]
  },
  {
   "cell_type": "code",
   "execution_count": 55,
   "id": "9f86c3c6",
   "metadata": {},
   "outputs": [
    {
     "name": "stdout",
     "output_type": "stream",
     "text": [
      "\n",
      "Traversing forward:\n",
      "3 -> 7 -> 2 -> 15 -> ...\n"
     ]
    }
   ],
   "source": [
    "print(\"\\nTraversing forward:\")\n",
    "currentNode = nodo1\n",
    "startNode = nodo1\n",
    "print(currentNode.dato, end=\" -> \")\n",
    "currentNode = currentNode.next\n",
    "\n",
    "while currentNode != startNode:\n",
    "    print(currentNode.dato, end=\" -> \")\n",
    "    currentNode = currentNode.next\n",
    "print(\"...\")"
   ]
  },
  {
   "cell_type": "code",
   "execution_count": 59,
   "id": "2a6575c2",
   "metadata": {},
   "outputs": [
    {
     "name": "stdout",
     "output_type": "stream",
     "text": [
      "\n",
      "Traversing backward:\n",
      "15 -> 2 -> 7 -> 3 -> ...\n"
     ]
    }
   ],
   "source": [
    "print(\"\\nTraversing backward:\")\n",
    "currentNode = nodo4\n",
    "startNode = nodo4\n",
    "print(currentNode.dato, end=\" -> \")\n",
    "currentNode = currentNode.prev\n",
    "\n",
    "while currentNode != startNode:\n",
    "    print(currentNode.dato, end=\" -> \")\n",
    "    currentNode = currentNode.prev\n",
    "print(\"...\")"
   ]
  },
  {
   "cell_type": "markdown",
   "id": "238d99e9",
   "metadata": {},
   "source": [
    "## Encontrar el nodo menor"
   ]
  },
  {
   "cell_type": "code",
   "execution_count": 74,
   "id": "339fc1d0",
   "metadata": {},
   "outputs": [
    {
     "data": {
      "text/plain": [
       "4"
      ]
     },
     "execution_count": 74,
     "metadata": {},
     "output_type": "execute_result"
    }
   ],
   "source": [
    "class Nodo():\n",
    "    def __init__(self,data):\n",
    "        self.data = data\n",
    "        self.next = None\n",
    "        \n",
    "def MenorNodo(head):\n",
    "    nodoActual = head.next\n",
    "    nodoMin = head.data\n",
    "\n",
    "    while nodoActual:\n",
    "        if nodoActual.data < nodoMin:\n",
    "            nodoMin = nodoActual.data\n",
    "        nodoActual = nodoActual.next\n",
    "    return nodoMin\n",
    "    \n",
    "nodo1 = Nodo(3)\n",
    "nodo2 = Nodo(7)\n",
    "nodo3 = Nodo(2)\n",
    "nodo4 = Nodo(15)\n",
    "nodo5 = Nodo(4)\n",
    "\n",
    "nodo1.next = nodo2\n",
    "nodo2.next = nodo3\n",
    "nodo3.next = nodo4\n",
    "nodo4.next = nodo5\n",
    "\n",
    "MenorNodo(nodo4)"
   ]
  }
 ],
 "metadata": {
  "kernelspec": {
   "display_name": "Python 3",
   "language": "python",
   "name": "python3"
  },
  "language_info": {
   "codemirror_mode": {
    "name": "ipython",
    "version": 3
   },
   "file_extension": ".py",
   "mimetype": "text/x-python",
   "name": "python",
   "nbconvert_exporter": "python",
   "pygments_lexer": "ipython3",
   "version": "3.12.6"
  }
 },
 "nbformat": 4,
 "nbformat_minor": 5
}
