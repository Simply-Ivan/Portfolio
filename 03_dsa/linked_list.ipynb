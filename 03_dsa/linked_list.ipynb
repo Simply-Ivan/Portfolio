{
 "cells": [
  {
   "cell_type": "markdown",
   "id": "e969b2c1",
   "metadata": {},
   "source": [
    "## Nodo viculadas"
   ]
  },
  {
   "cell_type": "code",
   "execution_count": 1,
   "id": "9e76b4cf",
   "metadata": {},
   "outputs": [],
   "source": [
    "class Nodo():\n",
    "    def __init__(self, val):\n",
    "        self.data = val\n",
    "        self.next = None"
   ]
  },
  {
   "cell_type": "code",
   "execution_count": 2,
   "id": "83a4eec7",
   "metadata": {},
   "outputs": [],
   "source": [
    "nodo1 = Nodo(7)\n",
    "nodo2 = Nodo(13)\n",
    "nodo3 = Nodo(25)\n",
    "nodo4 = Nodo(10)\n",
    "nodo5 = Nodo(33)"
   ]
  },
  {
   "cell_type": "code",
   "execution_count": 3,
   "id": "ea1d0980",
   "metadata": {},
   "outputs": [],
   "source": [
    "nodo1.next = nodo2\n",
    "nodo2.next = nodo3\n",
    "nodo3.next = nodo4\n",
    "nodo4.next = nodo5"
   ]
  },
  {
   "cell_type": "code",
   "execution_count": 4,
   "id": "c9eb5b0d",
   "metadata": {},
   "outputs": [
    {
     "name": "stdout",
     "output_type": "stream",
     "text": [
      "7 -> 13 -> 25 -> 10 -> 33 -> null\n"
     ]
    }
   ],
   "source": [
    "def AtravesarNodo(head):\n",
    "    nodoActual = head\n",
    "    while nodoActual:\n",
    "        print(nodoActual.data, end=\" -> \")\n",
    "        nodoActual = nodoActual.next\n",
    "    print(\"null\")\n",
    "    \n",
    "AtravesarNodo(nodo1)"
   ]
  },
  {
   "cell_type": "markdown",
   "id": "9df34e11",
   "metadata": {},
   "source": [
    "## Nodo doblemente vinculada"
   ]
  },
  {
   "cell_type": "code",
   "execution_count": 24,
   "id": "9b814f34",
   "metadata": {},
   "outputs": [],
   "source": [
    "class Node():\n",
    "    def __init__(self,data):\n",
    "        self.data = data\n",
    "        self.next = None\n",
    "        self.prev = None"
   ]
  },
  {
   "cell_type": "code",
   "execution_count": 25,
   "id": "e4e32218",
   "metadata": {},
   "outputs": [],
   "source": [
    "node1 = Node(3)\n",
    "node2 = Node(5)\n",
    "node3 = Node(13)\n",
    "node4 = Node(2)"
   ]
  },
  {
   "cell_type": "code",
   "execution_count": 26,
   "id": "ce0f783e",
   "metadata": {},
   "outputs": [],
   "source": [
    "node1.next = node2\n",
    "\n",
    "node2.prev = node1\n",
    "node2.next = node3\n",
    "\n",
    "node3.prev = node2\n",
    "node3.next = node4\n",
    "\n",
    "node4.prev = node3"
   ]
  },
  {
   "cell_type": "code",
   "execution_count": 27,
   "id": "de5e8ebe",
   "metadata": {},
   "outputs": [
    {
     "name": "stdout",
     "output_type": "stream",
     "text": [
      "Forward\n",
      "3->5->13->2->null\n"
     ]
    }
   ],
   "source": [
    "print('Forward')\n",
    "node_actual = node1\n",
    "while node_actual:\n",
    "    print(node_actual.data, end=\"->\")\n",
    "    node_actual = node_actual.next\n",
    "print(\"null\")"
   ]
  },
  {
   "cell_type": "code",
   "execution_count": 28,
   "id": "d47e398e",
   "metadata": {},
   "outputs": [
    {
     "name": "stdout",
     "output_type": "stream",
     "text": [
      "Backward\n",
      "2->13->5->3->null\n"
     ]
    }
   ],
   "source": [
    "print(\"Backward\")\n",
    "node_actual = node4\n",
    "while node_actual:\n",
    "    print(node_actual.data, end=\"->\")\n",
    "    node_actual = node_actual.prev\n",
    "print(\"null\")"
   ]
  },
  {
   "cell_type": "markdown",
   "id": "36297ad8",
   "metadata": {},
   "source": [
    "## Listas vinculadas circulares"
   ]
  },
  {
   "cell_type": "code",
   "execution_count": 47,
   "id": "a3b9d87e",
   "metadata": {},
   "outputs": [],
   "source": [
    "class Nodo():\n",
    "    def __init__(self,data):\n",
    "        self.data = data\n",
    "        self.next = None"
   ]
  },
  {
   "cell_type": "code",
   "execution_count": 48,
   "id": "544a9f97",
   "metadata": {},
   "outputs": [],
   "source": [
    "nodo1 = Nodo(3)\n",
    "nodo2 = Nodo(7)\n",
    "nodo3 = Nodo(2)\n",
    "nodo4 = Nodo(15)"
   ]
  },
  {
   "cell_type": "code",
   "execution_count": 49,
   "id": "3b61c618",
   "metadata": {},
   "outputs": [],
   "source": [
    "nodo1.next = nodo2\n",
    "nodo2.next = nodo3\n",
    "nodo3.next = nodo4\n",
    "nodo4.next = nodo1"
   ]
  },
  {
   "cell_type": "code",
   "execution_count": 50,
   "id": "f3a32dc3",
   "metadata": {},
   "outputs": [
    {
     "name": "stdout",
     "output_type": "stream",
     "text": [
      "3->7->2->15->...\n"
     ]
    }
   ],
   "source": [
    "nodoActual = nodo1\n",
    "nodoInicial = nodo1\n",
    "print(nodoActual.data, end=\"->\")\n",
    "nodoActual = nodoActual.next\n",
    "while nodoActual != nodoInicial:\n",
    "    print(nodoActual.data, end=\"->\")\n",
    "    nodoActual = nodoActual.next\n",
    "    \n",
    "print(\"...\")"
   ]
  },
  {
   "cell_type": "markdown",
   "id": "e48cd2e3",
   "metadata": {},
   "source": [
    "## Lista doblemente vinculada circular"
   ]
  },
  {
   "cell_type": "code",
   "execution_count": 52,
   "id": "b916404b",
   "metadata": {},
   "outputs": [],
   "source": [
    "class Nodo():\n",
    "    def __init__(self,dato):\n",
    "        self.dato = dato\n",
    "        self.next = None\n",
    "        self.prev = None"
   ]
  },
  {
   "cell_type": "code",
   "execution_count": 53,
   "id": "d59f79f1",
   "metadata": {},
   "outputs": [],
   "source": [
    "nodo1 = Nodo(3)\n",
    "nodo2 = Nodo(7)\n",
    "nodo3 = Nodo(2)\n",
    "nodo4 = Nodo(15)"
   ]
  },
  {
   "cell_type": "code",
   "execution_count": 54,
   "id": "9712299f",
   "metadata": {},
   "outputs": [],
   "source": [
    "nodo1.prev = nodo4\n",
    "nodo1.next = nodo2\n",
    "\n",
    "nodo2.prev = nodo1\n",
    "nodo2.next = nodo3\n",
    "\n",
    "nodo3.prev = nodo2\n",
    "nodo3.next = nodo4\n",
    "\n",
    "nodo4.prev = nodo3\n",
    "nodo4.next = nodo1"
   ]
  },
  {
   "cell_type": "code",
   "execution_count": 55,
   "id": "9f86c3c6",
   "metadata": {},
   "outputs": [
    {
     "name": "stdout",
     "output_type": "stream",
     "text": [
      "\n",
      "Traversing forward:\n",
      "3 -> 7 -> 2 -> 15 -> ...\n"
     ]
    }
   ],
   "source": [
    "print(\"\\nTraversing forward:\")\n",
    "currentNode = nodo1\n",
    "startNode = nodo1\n",
    "print(currentNode.dato, end=\" -> \")\n",
    "currentNode = currentNode.next\n",
    "\n",
    "while currentNode != startNode:\n",
    "    print(currentNode.dato, end=\" -> \")\n",
    "    currentNode = currentNode.next\n",
    "print(\"...\")"
   ]
  },
  {
   "cell_type": "code",
   "execution_count": 59,
   "id": "2a6575c2",
   "metadata": {},
   "outputs": [
    {
     "name": "stdout",
     "output_type": "stream",
     "text": [
      "\n",
      "Traversing backward:\n",
      "15 -> 2 -> 7 -> 3 -> ...\n"
     ]
    }
   ],
   "source": [
    "print(\"\\nTraversing backward:\")\n",
    "currentNode = nodo4\n",
    "startNode = nodo4\n",
    "print(currentNode.dato, end=\" -> \")\n",
    "currentNode = currentNode.prev\n",
    "\n",
    "while currentNode != startNode:\n",
    "    print(currentNode.dato, end=\" -> \")\n",
    "    currentNode = currentNode.prev\n",
    "print(\"...\")"
   ]
  },
  {
   "cell_type": "markdown",
   "id": "af90b459",
   "metadata": {},
   "source": [
    "## Atravesar un nodo"
   ]
  },
  {
   "cell_type": "code",
   "execution_count": 61,
   "id": "cf2d6416",
   "metadata": {},
   "outputs": [
    {
     "name": "stdout",
     "output_type": "stream",
     "text": [
      "3 -> 7 -> 2 -> 15 -> null\n"
     ]
    }
   ],
   "source": [
    "class Nodo():\n",
    "    def __init__(self, data):\n",
    "        self.data = data\n",
    "        self.next = None\n",
    "\n",
    "def AtravesarNodo(head):\n",
    "    nodoActual = head\n",
    "    while nodoActual:\n",
    "        print(nodoActual.data, end=\" -> \")\n",
    "        nodoActual = nodoActual.next\n",
    "    print(\"null\")\n",
    "        \n",
    "nodo1 = Nodo(3)\n",
    "nodo2 = Nodo(7)\n",
    "nodo3 = Nodo(2)\n",
    "nodo4 = Nodo(15)\n",
    "\n",
    "nodo1.next = nodo2\n",
    "nodo2.next = nodo3\n",
    "nodo3.next = nodo4\n",
    "\n",
    "AtravesarNodo(nodo1)"
   ]
  },
  {
   "cell_type": "markdown",
   "id": "238d99e9",
   "metadata": {},
   "source": [
    "## Encontrar el nodo menor"
   ]
  },
  {
   "cell_type": "code",
   "execution_count": 68,
   "id": "339fc1d0",
   "metadata": {},
   "outputs": [
    {
     "data": {
      "text/plain": [
       "2"
      ]
     },
     "execution_count": 68,
     "metadata": {},
     "output_type": "execute_result"
    }
   ],
   "source": [
    "class Nodo():\n",
    "    def __init__(self,data):\n",
    "        self.data = data\n",
    "        self.next = None\n",
    "        \n",
    "def MenorNodo(head):\n",
    "    nodoActual = head.next\n",
    "    nodoMin = head.data\n",
    "\n",
    "    while nodoActual:\n",
    "        if nodoActual.data < nodoMin:\n",
    "            nodoMin = nodoActual.data\n",
    "        nodoActual = nodoActual.next\n",
    "    return nodoMin\n",
    "    \n",
    "nodo1 = Nodo(3)\n",
    "nodo2 = Nodo(7)\n",
    "nodo3 = Nodo(2)\n",
    "nodo4 = Nodo(15)\n",
    "nodo5 = Nodo(4)\n",
    "\n",
    "nodo1.next = nodo2\n",
    "nodo2.next = nodo3\n",
    "nodo3.next = nodo4\n",
    "nodo4.next = nodo5\n",
    "\n",
    "MenorNodo(nodo1)"
   ]
  },
  {
   "cell_type": "markdown",
   "id": "09ed6fc3",
   "metadata": {},
   "source": [
    "## Eliminar Nodo"
   ]
  },
  {
   "cell_type": "code",
   "execution_count": 12,
   "id": "d59a827f",
   "metadata": {},
   "outputs": [],
   "source": [
    "class Nodo():\n",
    "    def __init__(self,val):\n",
    "        self.data = val\n",
    "        self.next = None"
   ]
  },
  {
   "cell_type": "code",
   "execution_count": 17,
   "id": "01bb2ecf",
   "metadata": {},
   "outputs": [],
   "source": [
    "def Atravesar(head):\n",
    "    curr = head\n",
    "    while curr:\n",
    "        print(curr.data, end=' -> ')\n",
    "        curr = curr.next\n",
    "    print(\"null\")"
   ]
  },
  {
   "cell_type": "code",
   "execution_count": 18,
   "id": "2ba779a5",
   "metadata": {},
   "outputs": [],
   "source": [
    "nodo1 = Nodo(12)\n",
    "nodo2 = Nodo(8)\n",
    "nodo3 = Nodo(10)\n",
    "nodo4 = Nodo(4)\n",
    "nodo5 = Nodo(33)\n",
    "\n",
    "nodo1.next = nodo2\n",
    "nodo2.next = nodo3\n",
    "nodo3.next = nodo4\n",
    "nodo4.next = nodo5"
   ]
  },
  {
   "cell_type": "code",
   "execution_count": 19,
   "id": "2ec5d521",
   "metadata": {},
   "outputs": [
    {
     "name": "stdout",
     "output_type": "stream",
     "text": [
      "12 -> 8 -> 10 -> 4 -> 33 -> null\n"
     ]
    }
   ],
   "source": [
    "Atravesar(nodo1)"
   ]
  }
 ],
 "metadata": {
  "kernelspec": {
   "display_name": "Python 3",
   "language": "python",
   "name": "python3"
  },
  "language_info": {
   "codemirror_mode": {
    "name": "ipython",
    "version": 3
   },
   "file_extension": ".py",
   "mimetype": "text/x-python",
   "name": "python",
   "nbconvert_exporter": "python",
   "pygments_lexer": "ipython3",
   "version": "3.12.6"
  }
 },
 "nbformat": 4,
 "nbformat_minor": 5
}
