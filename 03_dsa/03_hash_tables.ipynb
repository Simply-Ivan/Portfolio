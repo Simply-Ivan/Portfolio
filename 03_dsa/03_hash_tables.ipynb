{
 "cells": [
  {
   "cell_type": "markdown",
   "id": "1c734810",
   "metadata": {},
   "source": [
    "## Hashsets"
   ]
  },
  {
   "cell_type": "code",
   "execution_count": 1,
   "id": "ccf758eb",
   "metadata": {},
   "outputs": [
    {
     "name": "stdout",
     "output_type": "stream",
     "text": [
      "set()\n"
     ]
    }
   ],
   "source": [
    "s = set()\n",
    "print(s)"
   ]
  },
  {
   "cell_type": "code",
   "execution_count": 2,
   "id": "58e2b21a",
   "metadata": {},
   "outputs": [
    {
     "name": "stdout",
     "output_type": "stream",
     "text": [
      "{1, 2, 3}\n"
     ]
    }
   ],
   "source": [
    "# Add: Añadir un item en Set - O(1)\n",
    "\n",
    "s.add(1)\n",
    "s.add(2)\n",
    "s.add(3)\n",
    "\n",
    "print(s)"
   ]
  },
  {
   "cell_type": "code",
   "execution_count": 8,
   "id": "79adec9d",
   "metadata": {},
   "outputs": [
    {
     "name": "stdout",
     "output_type": "stream",
     "text": [
      "True\n"
     ]
    }
   ],
   "source": [
    "# Buscar si un item esta en en Set - O(1)\n",
    "\n",
    "if 3 in s:\n",
    "    print(True)"
   ]
  },
  {
   "cell_type": "code",
   "execution_count": 9,
   "id": "ccc3ac62",
   "metadata": {},
   "outputs": [
    {
     "name": "stdout",
     "output_type": "stream",
     "text": [
      "{1, 2}\n"
     ]
    }
   ],
   "source": [
    "# Remove: Eliminar un item del set - O(1)\n",
    "\n",
    "s.remove(3)\n",
    "print(s)"
   ]
  },
  {
   "cell_type": "code",
   "execution_count": 22,
   "id": "79060afe",
   "metadata": {},
   "outputs": [
    {
     "name": "stdout",
     "output_type": "stream",
     "text": [
      "{'c', 'b', 'a', 'd'}\n"
     ]
    }
   ],
   "source": [
    "# Construccion de set - O(S) - S es la longitud del string\n",
    "string = 'aaaaaaaaaaaaaaabbbbbbbbbbbbbbbbbccccccccccccccccdddddddddd'\n",
    "\n",
    "sett = set(string)\n",
    "print(sett)"
   ]
  },
  {
   "cell_type": "code",
   "execution_count": 13,
   "id": "cb750cc0",
   "metadata": {},
   "outputs": [
    {
     "name": "stdout",
     "output_type": "stream",
     "text": [
      "1\n",
      "2\n"
     ]
    }
   ],
   "source": [
    "# Bucle de todos los items del set - O(n)\n",
    "for x in s:\n",
    "    print(x)"
   ]
  },
  {
   "cell_type": "markdown",
   "id": "a0f82876",
   "metadata": {},
   "source": [
    "## Hashmaps - Diccionarios"
   ]
  },
  {
   "cell_type": "code",
   "execution_count": 14,
   "id": "16916bf3",
   "metadata": {},
   "outputs": [
    {
     "name": "stdout",
     "output_type": "stream",
     "text": [
      "{'greg': 1, 'steve': 2, 'rob': 3}\n"
     ]
    }
   ],
   "source": [
    "d = {'greg': 1, 'steve': 2, 'rob': 3}\n",
    "\n",
    "print(d)"
   ]
  },
  {
   "cell_type": "code",
   "execution_count": 15,
   "id": "1d535093",
   "metadata": {},
   "outputs": [
    {
     "name": "stdout",
     "output_type": "stream",
     "text": [
      "{'greg': 1, 'steve': 2, 'rob': 3, 'arch': 4}\n"
     ]
    }
   ],
   "source": [
    "# Add key:val en diccionario - O(1)\n",
    "d['arch'] = 4\n",
    "\n",
    "print(d)"
   ]
  },
  {
   "cell_type": "code",
   "execution_count": 16,
   "id": "d601066c",
   "metadata": {},
   "outputs": [
    {
     "name": "stdout",
     "output_type": "stream",
     "text": [
      "True\n"
     ]
    }
   ],
   "source": [
    "# Verificar la presencia de un key en diccionario - O(1)\n",
    "\n",
    "if 'greg' in d:\n",
    "    print(True)"
   ]
  },
  {
   "cell_type": "code",
   "execution_count": 17,
   "id": "df49bfdf",
   "metadata": {},
   "outputs": [
    {
     "name": "stdout",
     "output_type": "stream",
     "text": [
      "1\n"
     ]
    }
   ],
   "source": [
    "# Mostrar el valor correspondiente a la llave en el diccionario - O(1)\n",
    "\n",
    "print(d['greg'])"
   ]
  },
  {
   "cell_type": "code",
   "execution_count": 18,
   "id": "115a3e72",
   "metadata": {},
   "outputs": [
    {
     "name": "stdout",
     "output_type": "stream",
     "text": [
      "key greg: val 1\n",
      "key steve: val 2\n",
      "key rob: val 3\n",
      "key arch: val 4\n"
     ]
    }
   ],
   "source": [
    "# Bucle de los pares key:val - O(n)\n",
    "\n",
    "for key, val in d.items():\n",
    "    print(f'key {key}: val {val}')"
   ]
  },
  {
   "cell_type": "code",
   "execution_count": 19,
   "id": "f9e76851",
   "metadata": {},
   "outputs": [
    {
     "data": {
      "text/plain": [
       "0"
      ]
     },
     "execution_count": 19,
     "metadata": {},
     "output_type": "execute_result"
    }
   ],
   "source": [
    "from collections import defaultdict\n",
    "\n",
    "default = defaultdict(int)\n",
    "\n",
    "default[2]"
   ]
  },
  {
   "cell_type": "code",
   "execution_count": 20,
   "id": "23d7bbe6",
   "metadata": {},
   "outputs": [
    {
     "data": {
      "text/plain": [
       "defaultdict(int, {2: 0})"
      ]
     },
     "execution_count": 20,
     "metadata": {},
     "output_type": "execute_result"
    }
   ],
   "source": [
    "default"
   ]
  },
  {
   "cell_type": "code",
   "execution_count": 23,
   "id": "2525e866",
   "metadata": {},
   "outputs": [
    {
     "name": "stdout",
     "output_type": "stream",
     "text": [
      "Counter({'b': 17, 'c': 16, 'a': 15, 'd': 10})\n"
     ]
    }
   ],
   "source": [
    "from collections import Counter\n",
    "\n",
    "counter = Counter(string)\n",
    "print(counter)"
   ]
  },
  {
   "cell_type": "code",
   "execution_count": 29,
   "id": "49148e8e",
   "metadata": {},
   "outputs": [
    {
     "name": "stdout",
     "output_type": "stream",
     "text": [
      "aaaaaaaaaaaaaaabbbbbbbbbbbbbbbbbccccccccccccccccdddddddddd\n",
      "{'a': 15, 'b': 17, 'c': 16, 'd': 10}\n"
     ]
    }
   ],
   "source": [
    "print(string)\n",
    "dic = {}\n",
    "for i in range(len(string)):\n",
    "    if string[i] not in dic:\n",
    "        dic[string[i]] = 1\n",
    "    else:\n",
    "        dic[string[i]] += 1\n",
    "        \n",
    "        \n",
    "\n",
    "print(dic)"
   ]
  }
 ],
 "metadata": {
  "kernelspec": {
   "display_name": "Python 3",
   "language": "python",
   "name": "python3"
  },
  "language_info": {
   "codemirror_mode": {
    "name": "ipython",
    "version": 3
   },
   "file_extension": ".py",
   "mimetype": "text/x-python",
   "name": "python",
   "nbconvert_exporter": "python",
   "pygments_lexer": "ipython3",
   "version": "3.12.6"
  }
 },
 "nbformat": 4,
 "nbformat_minor": 5
}
