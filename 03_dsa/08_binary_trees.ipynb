{
 "cells": [
  {
   "cell_type": "code",
   "execution_count": 1,
   "id": "53160a0e",
   "metadata": {},
   "outputs": [],
   "source": [
    "# Binary Trees\n",
    "\n",
    "class TreeNode:\n",
    "    def __init__(self, val, left=None, right=None):\n",
    "        self.val = val\n",
    "        self.left = left\n",
    "        self.right = right\n",
    "    \n",
    "    def __str__(self):\n",
    "        return str(self.val)"
   ]
  },
  {
   "cell_type": "code",
   "execution_count": null,
   "id": "a91c682e",
   "metadata": {},
   "outputs": [],
   "source": [
    "#       1  \n",
    "#   2         3\n",
    "# 4   5    10"
   ]
  },
  {
   "cell_type": "code",
   "execution_count": 2,
   "id": "8e3306c9",
   "metadata": {},
   "outputs": [
    {
     "name": "stdout",
     "output_type": "stream",
     "text": [
      "1\n"
     ]
    }
   ],
   "source": [
    "A = TreeNode(1)\n",
    "B = TreeNode(2)\n",
    "C = TreeNode(3)\n",
    "D = TreeNode(4)\n",
    "E = TreeNode(5)\n",
    "F = TreeNode(10)\n",
    "\n",
    "A.left = B\n",
    "A.right = C\n",
    "B.left = D\n",
    "B.right = E\n",
    "C.left = F\n",
    "\n",
    "print(A)"
   ]
  },
  {
   "cell_type": "code",
   "execution_count": null,
   "id": "07c980ba",
   "metadata": {},
   "outputs": [
    {
     "name": "stdout",
     "output_type": "stream",
     "text": [
      "1 2 4 5 3 10 "
     ]
    }
   ],
   "source": [
    "# Pre orden Recursivo (DFS) Time: O(n), Space: O(h)\n",
    "\n",
    "def pre_order(node):\n",
    "    if node is None:\n",
    "        return\n",
    "    print(node.val, end=' ')\n",
    "    pre_order(node.left)\n",
    "    pre_order(node.right)\n",
    "\n",
    "pre_order(A)"
   ]
  },
  {
   "cell_type": "code",
   "execution_count": null,
   "id": "8082bafd",
   "metadata": {},
   "outputs": [
    {
     "name": "stdout",
     "output_type": "stream",
     "text": [
      "4 2 5 1 10 3 "
     ]
    }
   ],
   "source": [
    "# In orden Recursivo (DFS) Time: O(n), Space: O(h)\n",
    "\n",
    "def in_order(node):\n",
    "    if node is None:\n",
    "        return\n",
    "    \n",
    "    in_order(node.left)\n",
    "    print(node.val, end=' ')\n",
    "    in_order(node.right)\n",
    "\n",
    "in_order(A)"
   ]
  },
  {
   "cell_type": "code",
   "execution_count": null,
   "id": "79457f28",
   "metadata": {},
   "outputs": [
    {
     "name": "stdout",
     "output_type": "stream",
     "text": [
      "4 5 2 10 3 1 "
     ]
    }
   ],
   "source": [
    "# Post Orden Recursivo (DFS) Time: O(n), Space: O(h)\n",
    "\n",
    "def post_order(node):\n",
    "    if node is None:\n",
    "        return\n",
    "    \n",
    "    post_order(node.left)\n",
    "    post_order(node.right)\n",
    "    print(node.val, end=' ')\n",
    "\n",
    "post_order(A)"
   ]
  },
  {
   "cell_type": "code",
   "execution_count": 7,
   "id": "70116825",
   "metadata": {},
   "outputs": [
    {
     "name": "stdout",
     "output_type": "stream",
     "text": [
      "1 2 4 5 3 10 "
     ]
    }
   ],
   "source": [
    "# Pre Orden Iterativo (DFS) Time: O(n), Space: O(h)\n",
    "\n",
    "def pre_order_iterative(node):\n",
    "    stk = [node]\n",
    "\n",
    "    while stk:\n",
    "        node = stk.pop()\n",
    "        print(node.val, end=' ')\n",
    "        if node.right: stk.append(node.right)\n",
    "        if node.left: stk.append(node.left)\n",
    "\n",
    "pre_order_iterative(A)"
   ]
  },
  {
   "cell_type": "code",
   "execution_count": 8,
   "id": "f33cc6b3",
   "metadata": {},
   "outputs": [
    {
     "name": "stdout",
     "output_type": "stream",
     "text": [
      "1 2 3 4 5 10 "
     ]
    }
   ],
   "source": [
    "# Orden por niveles (BFS) Time: O(n), Space: O(n)\n",
    "\n",
    "from collections import deque\n",
    "\n",
    "def level_order(node):\n",
    "    q = deque([node])\n",
    "\n",
    "    while q:\n",
    "        node = q.popleft()\n",
    "        print(node.val, end=' ')\n",
    "        if node.left: q.append(node.left)\n",
    "        if node.right: q.append(node.right)\n",
    "\n",
    "level_order(A)"
   ]
  },
  {
   "cell_type": "code",
   "execution_count": 10,
   "id": "c8244cb5",
   "metadata": {},
   "outputs": [
    {
     "data": {
      "text/plain": [
       "False"
      ]
     },
     "execution_count": 10,
     "metadata": {},
     "output_type": "execute_result"
    }
   ],
   "source": [
    "# Comprobar si un valor existe (DFS) Time: O(n), Space: O(h)\n",
    "\n",
    "def search(node, target):\n",
    "    if not node:\n",
    "        return False\n",
    "    \n",
    "    if node.val == target:\n",
    "        return True\n",
    "    \n",
    "    return search(node.left, target) or search(node.right, target)\n",
    "\n",
    "search(A, 11)"
   ]
  },
  {
   "cell_type": "code",
   "execution_count": 11,
   "id": "1bc11eb0",
   "metadata": {},
   "outputs": [
    {
     "name": "stdout",
     "output_type": "stream",
     "text": [
      "5\n"
     ]
    }
   ],
   "source": [
    "# Binary Search Tree (BST)\n",
    "\n",
    "#         5\n",
    "#     1       8\n",
    "#  -1   3   7   9\n",
    "\n",
    "A2 = TreeNode(5)\n",
    "B2 = TreeNode(1)\n",
    "C2 = TreeNode(8)\n",
    "D2 = TreeNode(-1)\n",
    "E2 = TreeNode(3)\n",
    "F2 = TreeNode(7)\n",
    "G2 = TreeNode(9)\n",
    "\n",
    "A2.left, A2.right = B2, C2\n",
    "B2.left, B2.right = D2, E2\n",
    "C2.left, C2.right = F2, G2\n",
    "\n",
    "print(A2)"
   ]
  },
  {
   "cell_type": "code",
   "execution_count": 12,
   "id": "f51731cd",
   "metadata": {},
   "outputs": [
    {
     "name": "stdout",
     "output_type": "stream",
     "text": [
      "-1 1 3 5 7 8 9 "
     ]
    }
   ],
   "source": [
    "in_order(A2)"
   ]
  },
  {
   "cell_type": "code",
   "execution_count": 14,
   "id": "33a9e30a",
   "metadata": {},
   "outputs": [
    {
     "data": {
      "text/plain": [
       "True"
      ]
     },
     "execution_count": 14,
     "metadata": {},
     "output_type": "execute_result"
    }
   ],
   "source": [
    "# Time: O(log n), Space: O(log n)\n",
    "\n",
    "def search_bst(node, target):\n",
    "    if not node:\n",
    "        return False\n",
    "    \n",
    "    if node.val == target:\n",
    "        return True\n",
    "    elif target < node.val:\n",
    "        return search_bst(node.left, target)\n",
    "    else:\n",
    "        return search_bst(node.right, target)\n",
    "    \n",
    "search_bst(A2, -1)"
   ]
  },
  {
   "cell_type": "code",
   "execution_count": 21,
   "id": "65a7c7c6",
   "metadata": {},
   "outputs": [
    {
     "name": "stdout",
     "output_type": "stream",
     "text": [
      "Harry esta en Ravenclaw\n"
     ]
    }
   ],
   "source": [
    "\n",
    "import random\n",
    "\n",
    "class Hat:\n",
    "    def __init__(self):\n",
    "        self.casas = ['Gryffindor', 'Hufflepuff', 'Ravenclaw', 'Slytherin']\n",
    "\n",
    "    def sort(self, nombre):\n",
    "        print(nombre, 'esta en', random.choice(self.casas))\n",
    "\n",
    "\n",
    "hat = Hat()\n",
    "hat.sort('Harry')"
   ]
  },
  {
   "cell_type": "code",
   "execution_count": 24,
   "id": "1ea71048",
   "metadata": {},
   "outputs": [
    {
     "name": "stdout",
     "output_type": "stream",
     "text": [
      "['Gryffindor', 'Hufflepuff', 'Ravenclaw', 'Slytherin']\n",
      "Harry esta en Gryffindor\n"
     ]
    }
   ],
   "source": [
    "import random\n",
    "\n",
    "class Hat:\n",
    "    casas = ['Gryffindor', 'Hufflepuff', 'Ravenclaw', 'Slytherin']\n",
    "\n",
    "    @classmethod\n",
    "    def sort(cls, nombre):\n",
    "        print(nombre, 'esta en', random.choice(cls.casas))\n",
    "\n",
    "\n",
    "\n",
    "print(Hat.casas)\n",
    "Hat.sort('Harry')"
   ]
  }
 ],
 "metadata": {
  "kernelspec": {
   "display_name": "Python 3",
   "language": "python",
   "name": "python3"
  },
  "language_info": {
   "codemirror_mode": {
    "name": "ipython",
    "version": 3
   },
   "file_extension": ".py",
   "mimetype": "text/x-python",
   "name": "python",
   "nbconvert_exporter": "python",
   "pygments_lexer": "ipython3",
   "version": "3.13.7"
  }
 },
 "nbformat": 4,
 "nbformat_minor": 5
}
