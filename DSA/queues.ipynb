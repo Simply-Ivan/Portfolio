{
 "cells": [
  {
   "cell_type": "code",
   "execution_count": 1,
   "id": "5fb88ffe",
   "metadata": {},
   "outputs": [
    {
     "name": "stdout",
     "output_type": "stream",
     "text": [
      "Queue:  ['A', 'B', 'C']\n"
     ]
    }
   ],
   "source": [
    "queue = []\n",
    "\n",
    "queue.append('A')\n",
    "queue.append('B')\n",
    "queue.append('C')\n",
    "print(\"Queue: \", queue)"
   ]
  },
  {
   "cell_type": "code",
   "execution_count": 2,
   "id": "7f0c18bf",
   "metadata": {},
   "outputs": [
    {
     "name": "stdout",
     "output_type": "stream",
     "text": [
      "Dequeue:  A\n"
     ]
    }
   ],
   "source": [
    "element = queue.pop(0)\n",
    "print(\"Dequeue: \", element)"
   ]
  },
  {
   "cell_type": "code",
   "execution_count": 3,
   "id": "4684abca",
   "metadata": {},
   "outputs": [
    {
     "name": "stdout",
     "output_type": "stream",
     "text": [
      "Peek:  B\n"
     ]
    }
   ],
   "source": [
    "frontElement = queue[0]\n",
    "print(\"Peek: \", frontElement)"
   ]
  },
  {
   "cell_type": "code",
   "execution_count": 5,
   "id": "425aafc2",
   "metadata": {},
   "outputs": [
    {
     "name": "stdout",
     "output_type": "stream",
     "text": [
      "isEmpty:  False\n"
     ]
    }
   ],
   "source": [
    "isEmpty = not bool(queue)\n",
    "print(\"isEmpty: \", isEmpty)"
   ]
  },
  {
   "cell_type": "code",
   "execution_count": 6,
   "id": "f504e53f",
   "metadata": {},
   "outputs": [
    {
     "name": "stdout",
     "output_type": "stream",
     "text": [
      "Size:  2\n"
     ]
    }
   ],
   "source": [
    "print(\"Size: \", len(queue))"
   ]
  },
  {
   "cell_type": "code",
   "execution_count": 9,
   "id": "5ac255ee",
   "metadata": {},
   "outputs": [
    {
     "name": "stdout",
     "output_type": "stream",
     "text": [
      "Queue:  ['A', 'B', 'C']\n",
      "Dequeue:  A\n",
      "Peek:  B\n",
      "isEmpty:  False\n",
      "Size:  2\n"
     ]
    }
   ],
   "source": [
    "class Queue:\n",
    "    def __init__(self):\n",
    "        self.queue = []\n",
    "    \n",
    "    def enqueue(self, element):\n",
    "        self.queue.append(element)\n",
    "    \n",
    "    def dequeue(self):\n",
    "        if self.isEmpty():\n",
    "            return \"Queue is empty\"\n",
    "        return self.queue.pop(0)\n",
    "    \n",
    "    def peek(self):\n",
    "        if self.isEmpty():\n",
    "            return \"Queue is empty\"\n",
    "        return self.queue[0]\n",
    "    \n",
    "    def isEmpty(self):\n",
    "        return len(self.queue) == 0\n",
    "    \n",
    "    def size(self):\n",
    "        return len(self.queue)\n",
    "\n",
    "# Create a queue\n",
    "myQueue = Queue()\n",
    "\n",
    "myQueue.enqueue('A')\n",
    "myQueue.enqueue('B')\n",
    "myQueue.enqueue('C')\n",
    "print(\"Queue: \", myQueue.queue)\n",
    "\n",
    "print(\"Dequeue: \", myQueue.dequeue())\n",
    "\n",
    "print(\"Peek: \", myQueue.peek())\n",
    "\n",
    "print(\"isEmpty: \", myQueue.isEmpty())\n",
    "\n",
    "print(\"Size: \", myQueue.size())"
   ]
  },
  {
   "cell_type": "code",
   "execution_count": 3,
   "id": "b4a647bf",
   "metadata": {},
   "outputs": [
    {
     "name": "stdout",
     "output_type": "stream",
     "text": [
      "Queue: A B C \n",
      "Dequeue:  A\n",
      "Peek:  B\n",
      "isEmpty:  False\n",
      "Size:  2\n"
     ]
    }
   ],
   "source": [
    "class Node:\n",
    "    def __init__(self, data):\n",
    "        self.data = data\n",
    "        self.next = None\n",
    "        \n",
    "class Queue:\n",
    "    def __init__(self):\n",
    "        self.front = None\n",
    "        self.rear = None\n",
    "        self.length = 0\n",
    "    \n",
    "    def enqueue(self, element):\n",
    "        new_node = Node(element)\n",
    "        if self.rear is None:\n",
    "            self.front = self.rear = new_node\n",
    "            self.length += 1\n",
    "            return\n",
    "        self.rear.next = new_node\n",
    "        self.rear = new_node\n",
    "        self.length += 1\n",
    "        \n",
    "    def dequeue(self):\n",
    "        if self.isEmpty():\n",
    "            return \"Queue is empty\"\n",
    "        temp = self.front\n",
    "        self.front = temp.next\n",
    "        self.length -= 1\n",
    "        if self.front is None:\n",
    "            self.rear = None\n",
    "        return temp.data\n",
    "    \n",
    "    def peek(self):\n",
    "        if self.isEmpty():\n",
    "            return \"Queue is empty\"\n",
    "        return self.front.data\n",
    "        \n",
    "    def isEmpty(self):\n",
    "        return self.length == 0\n",
    "    \n",
    "    def size(self):\n",
    "        return self.length\n",
    "    \n",
    "    def printQueue(self):\n",
    "        temp = self.front\n",
    "        while temp:\n",
    "            print(temp.data, end=\" \")\n",
    "            temp = temp.next\n",
    "        print()\n",
    "    \n",
    "myQueue = Queue()\n",
    "\n",
    "myQueue.enqueue('A')\n",
    "myQueue.enqueue('B')\n",
    "myQueue.enqueue('C')\n",
    "print(\"Queue: \", end=\"\")\n",
    "myQueue.printQueue()\n",
    "\n",
    "print(\"Dequeue: \", myQueue.dequeue())\n",
    "\n",
    "print(\"Peek: \", myQueue.peek())\n",
    "\n",
    "print(\"isEmpty: \", myQueue.isEmpty())\n",
    "\n",
    "print(\"Size: \", myQueue.size())"
   ]
  },
  {
   "cell_type": "code",
   "execution_count": 1,
   "id": "609c1559",
   "metadata": {},
   "outputs": [],
   "source": [
    "a = 9\n",
    "b = c = a"
   ]
  },
  {
   "cell_type": "code",
   "execution_count": 2,
   "id": "f5292a33",
   "metadata": {},
   "outputs": [
    {
     "name": "stdout",
     "output_type": "stream",
     "text": [
      "9\n",
      "9\n"
     ]
    }
   ],
   "source": [
    "print(b)\n",
    "print(c)"
   ]
  }
 ],
 "metadata": {
  "kernelspec": {
   "display_name": "Python 3",
   "language": "python",
   "name": "python3"
  },
  "language_info": {
   "codemirror_mode": {
    "name": "ipython",
    "version": 3
   },
   "file_extension": ".py",
   "mimetype": "text/x-python",
   "name": "python",
   "nbconvert_exporter": "python",
   "pygments_lexer": "ipython3",
   "version": "3.12.6"
  }
 },
 "nbformat": 4,
 "nbformat_minor": 5
}
