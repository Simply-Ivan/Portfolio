{
 "cells": [
  {
   "cell_type": "markdown",
   "id": "2542a843",
   "metadata": {},
   "source": [
    "## Pilas"
   ]
  },
  {
   "cell_type": "code",
   "execution_count": 8,
   "id": "57886485",
   "metadata": {},
   "outputs": [],
   "source": [
    "stack = []"
   ]
  },
  {
   "cell_type": "code",
   "execution_count": 9,
   "id": "c269715d",
   "metadata": {},
   "outputs": [
    {
     "name": "stdout",
     "output_type": "stream",
     "text": [
      "Stack:  ['A', 'B', 'C']\n"
     ]
    }
   ],
   "source": [
    "# Push\n",
    "stack.append('A')\n",
    "stack.append('B')\n",
    "stack.append('C')\n",
    "print(\"Stack: \", stack)"
   ]
  },
  {
   "cell_type": "code",
   "execution_count": 10,
   "id": "8c1077a1",
   "metadata": {},
   "outputs": [
    {
     "name": "stdout",
     "output_type": "stream",
     "text": [
      "Pop:  C\n"
     ]
    }
   ],
   "source": [
    "# Pop\n",
    "elemento = stack.pop()\n",
    "print(\"Pop: \", elemento)"
   ]
  },
  {
   "cell_type": "code",
   "execution_count": 11,
   "id": "f9db45c7",
   "metadata": {},
   "outputs": [
    {
     "name": "stdout",
     "output_type": "stream",
     "text": [
      "B\n"
     ]
    }
   ],
   "source": [
    "# Peek\n",
    "topElement = stack[-1]\n",
    "print(topElement)"
   ]
  },
  {
   "cell_type": "code",
   "execution_count": 13,
   "id": "a2c560f6",
   "metadata": {},
   "outputs": [
    {
     "name": "stdout",
     "output_type": "stream",
     "text": [
      "False\n"
     ]
    }
   ],
   "source": [
    "# isEmpty\n",
    "isEmpty = not bool(stack)\n",
    "print(isEmpty)"
   ]
  },
  {
   "cell_type": "code",
   "execution_count": 14,
   "id": "10248a85",
   "metadata": {},
   "outputs": [
    {
     "name": "stdout",
     "output_type": "stream",
     "text": [
      "Size  2\n"
     ]
    }
   ],
   "source": [
    "# size\n",
    "print(\"Size \", len(stack))"
   ]
  },
  {
   "cell_type": "code",
   "execution_count": 16,
   "id": "dca8a27f",
   "metadata": {},
   "outputs": [
    {
     "name": "stdout",
     "output_type": "stream",
     "text": [
      "Stack:  ['A', 'B', 'C']\n",
      "Pop:  None\n",
      "Peek:  B\n",
      "isEmpty:  False\n",
      "Size:  2\n"
     ]
    }
   ],
   "source": [
    "class Stack:\n",
    "    def __init__(self):\n",
    "        self.stack = []\n",
    "        \n",
    "    def push(self, elemento):\n",
    "        self.stack.append(elemento)\n",
    "    \n",
    "    def isEmpty(self):\n",
    "        return len(self.stack) == 0\n",
    "        \n",
    "    def pop(self):\n",
    "        if self.isEmpty():\n",
    "            return \"Stack is empty\"\n",
    "        self.stack.pop()\n",
    "        \n",
    "    def peek(self):\n",
    "        if self.isEmpty():\n",
    "            return \"Stack is empty\"\n",
    "        return self.stack[-1]\n",
    "    \n",
    "    def size(self):\n",
    "        return len(self.stack)\n",
    "    \n",
    "myStack = Stack()\n",
    "\n",
    "myStack.push('A')\n",
    "myStack.push('B')\n",
    "myStack.push('C')\n",
    "print(\"Stack: \", myStack.stack)\n",
    "\n",
    "print(\"Pop: \", myStack.pop())\n",
    "\n",
    "print(\"Peek: \", myStack.peek())\n",
    "\n",
    "print(\"isEmpty: \", myStack.isEmpty())\n",
    "\n",
    "print(\"Size: \", myStack.size())"
   ]
  },
  {
   "cell_type": "code",
   "execution_count": 1,
   "id": "0a7fb484",
   "metadata": {},
   "outputs": [
    {
     "name": "stdout",
     "output_type": "stream",
     "text": [
      "Pop:  C\n",
      "Peek:  B\n",
      "isEmpty:  False\n",
      "Size:  2\n"
     ]
    }
   ],
   "source": [
    "class Node:\n",
    "    def __init__(self,value):\n",
    "        self.value = value\n",
    "        self.next = None\n",
    "        \n",
    "class Stack:\n",
    "    def __init__(self):\n",
    "        self.head = None\n",
    "        self.size = 0\n",
    "        \n",
    "    def push(self,value):\n",
    "        new_node = Node(value)\n",
    "        if self.head:\n",
    "            new_node.next = self.head\n",
    "        self.head = new_node\n",
    "        self.size += 1\n",
    "        \n",
    "    def pop(self):\n",
    "        if self.isEmpty():\n",
    "            return \"Stack is empty\"\n",
    "        popped_node = self.head\n",
    "        self.head = self.head.next\n",
    "        self.size -= 1\n",
    "        return popped_node.value\n",
    "    \n",
    "    def peek(self):\n",
    "        if self.isEmpty():\n",
    "            return \"Stack is empty\"\n",
    "        return self.head.value\n",
    "        \n",
    "    def isEmpty(self):\n",
    "        return self.size == 0\n",
    "    \n",
    "    def stackSize(self):\n",
    "        return self.size\n",
    "    \n",
    "myStack = Stack()\n",
    "myStack.push('A')\n",
    "myStack.push('B')\n",
    "myStack.push('C')\n",
    "\n",
    "print(\"Pop: \", myStack.pop())\n",
    "print(\"Peek: \", myStack.peek())\n",
    "print(\"isEmpty: \", myStack.isEmpty())\n",
    "print(\"Size: \", myStack.stackSize())\n"
   ]
  }
 ],
 "metadata": {
  "kernelspec": {
   "display_name": "Python 3",
   "language": "python",
   "name": "python3"
  },
  "language_info": {
   "codemirror_mode": {
    "name": "ipython",
    "version": 3
   },
   "file_extension": ".py",
   "mimetype": "text/x-python",
   "name": "python",
   "nbconvert_exporter": "python",
   "pygments_lexer": "ipython3",
   "version": "3.12.6"
  }
 },
 "nbformat": 4,
 "nbformat_minor": 5
}
