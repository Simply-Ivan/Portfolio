{
 "cells": [
  {
   "cell_type": "markdown",
   "id": "2ff9dfdd",
   "metadata": {},
   "source": [
    "## Álgebra lineal con NumPy: vectores, matrices y operaciones fundamentales\n"
   ]
  },
  {
   "cell_type": "markdown",
   "id": "3d94fa2c",
   "metadata": {},
   "source": [
    "## Nivel Básico"
   ]
  },
  {
   "cell_type": "markdown",
   "id": "20b466ac",
   "metadata": {},
   "source": [
    "#### Ejercicio 1.1 – Crear un vector\n",
    "\n",
    "Crea un vector `v` con los valores `[1, 3, 5, 7, 9]`.  \n",
    "Imprime el tipo de dato (`type`) y su forma (`shape`)."
   ]
  },
  {
   "cell_type": "code",
   "execution_count": 9,
   "id": "09056526",
   "metadata": {},
   "outputs": [
    {
     "name": "stdout",
     "output_type": "stream",
     "text": [
      "<class 'numpy.ndarray'>\n",
      "(5,)\n"
     ]
    }
   ],
   "source": [
    "import numpy as np\n",
    "v = np.array([1,3,5,7,9])\n",
    "print(type(v))\n",
    "print(v.shape)"
   ]
  },
  {
   "cell_type": "markdown",
   "id": "34f2cab1",
   "metadata": {},
   "source": [
    "#### Ejercicio 1.2 – Multiplicación escalar\n",
    "\n",
    "Multiplica el vector anterior por 2 y almacénalo en una variable `v2`."
   ]
  },
  {
   "cell_type": "code",
   "execution_count": 11,
   "id": "c4ef8be7",
   "metadata": {},
   "outputs": [
    {
     "name": "stdout",
     "output_type": "stream",
     "text": [
      "[ 2  6 10 14 18]\n"
     ]
    }
   ],
   "source": [
    "v2 = v * 2\n",
    "print(v2)"
   ]
  },
  {
   "cell_type": "markdown",
   "id": "6c1b3c2c",
   "metadata": {},
   "source": [
    "#### Ejercicio 1.3 – Crear una matriz 3x3\n",
    "\n",
    "Crea una matriz `A` con los siguientes valores:\n",
    "\n",
    "```\n",
    "[[2, 4, 6],\n",
    " [1, 3, 5],\n",
    " [0, -1, -2]]\n",
    "```\n",
    "\n",
    "Imprime su transpuesta."
   ]
  },
  {
   "cell_type": "code",
   "execution_count": 15,
   "id": "e5434309",
   "metadata": {},
   "outputs": [
    {
     "name": "stdout",
     "output_type": "stream",
     "text": [
      "[[ 2  4  6]\n",
      " [ 1  3  5]\n",
      " [ 0 -1 -2]]\n",
      "--------------------\n",
      "[[ 2  1  0]\n",
      " [ 4  3 -1]\n",
      " [ 6  5 -2]]\n"
     ]
    }
   ],
   "source": [
    "A = np.array([[2,4,6], [1,3,5], [0,-1,-2]])\n",
    "print(A)\n",
    "print(20 * '-')\n",
    "print(A.transpose())"
   ]
  },
  {
   "cell_type": "markdown",
   "id": "e5bf4116",
   "metadata": {},
   "source": [
    "#### Ejercicio 1.4 – Indexado y slicing\n",
    "\n",
    "Usa la matriz `A` anterior y haz lo siguiente:\n",
    "\n",
    "- Extrae la **primera fila**\n",
    "- Extrae la **segunda columna**"
   ]
  },
  {
   "cell_type": "code",
   "execution_count": 16,
   "id": "5f546174",
   "metadata": {},
   "outputs": [
    {
     "name": "stdout",
     "output_type": "stream",
     "text": [
      "[2 4 6]\n",
      "[ 4  3 -1]\n"
     ]
    }
   ],
   "source": [
    "print(A[0,:])\n",
    "print(A[:,1])"
   ]
  },
  {
   "cell_type": "markdown",
   "id": "88a29e24",
   "metadata": {},
   "source": [
    "## Nivel Intermedio"
   ]
  },
  {
   "cell_type": "markdown",
   "id": "25148b27",
   "metadata": {},
   "source": [
    "#### Ejercicio 2.1 – Producto punto\n",
    "\n",
    "Dados los vectores:\n",
    "\n",
    "```python\n",
    "a = np.array([2, 4, 6])\n",
    "b = np.array([1, 3, 5])\n",
    "```\n",
    "\n",
    "Calcula el producto punto entre `a` y `b`."
   ]
  },
  {
   "cell_type": "code",
   "execution_count": 18,
   "id": "13eabe8f",
   "metadata": {},
   "outputs": [
    {
     "name": "stdout",
     "output_type": "stream",
     "text": [
      "44\n"
     ]
    }
   ],
   "source": [
    "a = np.array([2,4,6])\n",
    "b = np.array([1,3,5])\n",
    "print(np.dot(a,b))"
   ]
  },
  {
   "cell_type": "markdown",
   "id": "69eba019",
   "metadata": {},
   "source": [
    "#### Ejercicio 2.2 – Norma de un vector\n",
    "\n",
    "Calcula la norma euclideana del vector `a`."
   ]
  },
  {
   "cell_type": "code",
   "execution_count": 19,
   "id": "5aa7d218",
   "metadata": {},
   "outputs": [
    {
     "name": "stdout",
     "output_type": "stream",
     "text": [
      "7.483314773547883\n"
     ]
    }
   ],
   "source": [
    "print(np.linalg.norm(a))"
   ]
  },
  {
   "cell_type": "markdown",
   "id": "3e0e526d",
   "metadata": {},
   "source": [
    "#### Ejercicio 2.3 – Simulación de notas estudiantiles\n",
    "\n",
    "Crea una matriz `notas` con las calificaciones de 5 estudiantes en 3 cursos (valores entre 10 y 20). Luego:\n",
    "\n",
    "- Calcula el **promedio por estudiante**\n",
    "- Calcula el **promedio por curso**\n",
    "- Determina el **mejor estudiante**\n",
    "- Determina el **curso con mejor promedio**"
   ]
  },
  {
   "cell_type": "code",
   "execution_count": 75,
   "id": "635c4408",
   "metadata": {},
   "outputs": [
    {
     "name": "stdout",
     "output_type": "stream",
     "text": [
      "Promedio por estudiante: [12. 15. 18. 19. 16.]\n",
      "Promedio por curso: [15.8 16.  16.2]\n",
      "Estudiante con mejor promedio: Estudiante 4 con promedio 19.0\n",
      "Curso con mejor promedio: Curso 3 con promedio 16.2\n"
     ]
    }
   ],
   "source": [
    "notas = np.array([[11,12,13],[14,15,16],[17,18,19],[20,19,18],[17,16,15]])\n",
    "\n",
    "mean_est = np.mean(notas, axis=1)\n",
    "print(f'Promedio por estudiante: {mean_est}')\n",
    "\n",
    "mean_course = np.mean(notas, axis=0)\n",
    "print(f'Promedio por curso: {mean_course}')\n",
    "\n",
    "i_est = np.argmax(mean_est) + 1\n",
    "max_mean_est = mean_est[i_est - 1]\n",
    "\n",
    "print(f'Estudiante con mejor promedio: Estudiante {i_est} con promedio {max_mean_est}')\n",
    "\n",
    "\n",
    "i_course = np.argmax(mean_course) + 1\n",
    "max_mean_course = mean_course[i_course - 1]\n",
    "        \n",
    "print(f'Curso con mejor promedio: Curso {i_course} con promedio {max_mean_course}')"
   ]
  },
  {
   "cell_type": "markdown",
   "id": "be454bde",
   "metadata": {},
   "source": [
    "#### Ejercicio 2.4 – Visualización\n",
    "\n",
    "Utiliza `matplotlib` para graficar los promedios por estudiante."
   ]
  },
  {
   "cell_type": "code",
   "execution_count": 40,
   "id": "bc90c0e6",
   "metadata": {},
   "outputs": [
    {
     "data": {
      "image/png": "[encoded data removed]",
      "text/plain": [
       "<Figure size 640x480 with 1 Axes>"
      ]
     },
     "metadata": {},
     "output_type": "display_data"
    }
   ],
   "source": [
    "import matplotlib.pyplot as plt\n",
    "\n",
    "estudiantes = ['Estudiante 1', 'Estudiante 2', 'Estudiante 3', 'Estudiante 4', 'Estudiante 5']\n",
    "\n",
    "plt.bar(x=estudiantes, height=mean_est)\n",
    "plt.show()"
   ]
  },
  {
   "cell_type": "markdown",
   "id": "29c01470",
   "metadata": {},
   "source": [
    "## Nivel Avanzado"
   ]
  },
  {
   "cell_type": "markdown",
   "id": "ebcb2109",
   "metadata": {},
   "source": [
    "#### Ejercicio 3.1 – Multiplicación matricial\n",
    "\n",
    "Crea las matrices:\n",
    "\n",
    "```python\n",
    "A = np.array([[1, 2], [3, 4], [5, 6]])\n",
    "B = np.array([[7, 8, 9], [10, 11, 12]])\n",
    "```\n",
    "\n",
    "Multiplica `A @ B` y muestra la dimensión del resultado."
   ]
  },
  {
   "cell_type": "code",
   "execution_count": 42,
   "id": "865c741b",
   "metadata": {},
   "outputs": [
    {
     "name": "stdout",
     "output_type": "stream",
     "text": [
      "[[ 27  30  33]\n",
      " [ 61  68  75]\n",
      " [ 95 106 117]]\n"
     ]
    }
   ],
   "source": [
    "A = np.array([[1,2],[3,4],[5,6]])\n",
    "B = np.array([[7,8,9],[10,11,12]])\n",
    "print(A@B)"
   ]
  },
  {
   "cell_type": "markdown",
   "id": "fa0a275b",
   "metadata": {},
   "source": [
    "#### Ejercicio 3.2 – Simular una capa neuronal densa\n",
    "\n",
    "Dado:\n",
    "\n",
    "```python\n",
    "W = np.array([[0.2, -0.5, 1.0],\n",
    "              [0.7,  0.3, -0.2]])\n",
    "x = np.array([[0.5],\n",
    "              [1.5],\n",
    "              [-1.0]])\n",
    "b = np.array([[0.1],\n",
    "              [-0.3]])\n",
    "```\n",
    "\n",
    "Calcula la salida de la operación `y = W @ x + b`."
   ]
  },
  {
   "cell_type": "code",
   "execution_count": 43,
   "id": "06bd636b",
   "metadata": {},
   "outputs": [
    {
     "name": "stdout",
     "output_type": "stream",
     "text": [
      "[[-1.55]\n",
      " [ 0.7 ]]\n"
     ]
    }
   ],
   "source": [
    "W = np.array([[0.2, -0.5, 1.0],\n",
    "              [0.7,  0.3, -0.2]])\n",
    "x = np.array([[0.5],\n",
    "              [1.5],\n",
    "              [-1.0]])\n",
    "b = np.array([[0.1],\n",
    "              [-0.3]])\n",
    "\n",
    "y = W @ x + b\n",
    "print(y)"
   ]
  },
  {
   "cell_type": "markdown",
   "id": "4301a905",
   "metadata": {},
   "source": [
    "#### Ejercicio 3.3 – Dataset aleatorio y matriz de covarianza\n",
    "\n",
    "1. Simula un dataset con 100 muestras y 3 características (usa `np.random.randn`).\n",
    "2. Centra el dataset restando la media por columna.\n",
    "3. Calcula la matriz de covarianza.\n",
    "4. Calcula autovalores y autovectores.\n",
    "5. Identifica cuál componente tiene mayor varianza."
   ]
  },
  {
   "cell_type": "code",
   "execution_count": 72,
   "id": "6e03502b",
   "metadata": {},
   "outputs": [
    {
     "name": "stdout",
     "output_type": "stream",
     "text": [
      "Matriz shape: (100, 3)\n",
      "[[ 1.06337985 -0.07561529  0.11267373]\n",
      " [-0.07561529  0.97411743 -0.02219818]\n",
      " [ 0.11267373 -0.02219818  0.96216674]]\n",
      "--------------------------------------------------\n",
      "[1.16627243 0.88202473 0.95136685]\n",
      "[[ 0.79622454 -0.59114111  0.12875818]\n",
      " [-0.36873386 -0.30543553  0.87792054]\n",
      " [ 0.4796476   0.74649938  0.461169  ]]\n",
      "--------------------------------------------------\n",
      "Componente con mayor varianza: 1.1662724306290106\n",
      "Dirección (autovector): [ 0.79622454 -0.36873386  0.4796476 ]\n"
     ]
    }
   ],
   "source": [
    "np.random.seed(0)\n",
    "\n",
    "dataset = np.random.randn(100,3)\n",
    "print(f'Matriz shape: {dataset.shape}')\n",
    "\n",
    "mean = np.mean(dataset, axis=0)\n",
    "centered = dataset - mean\n",
    "\n",
    "cov_matrix = np.cov(centered, rowvar=False)\n",
    "print(cov_matrix)\n",
    "\n",
    "print(50*'-')\n",
    "eig_vals, eig_vecs = np.linalg.eig(cov_matrix)\n",
    "print(eig_vals)\n",
    "print(eig_vecs)\n",
    "\n",
    "print(50*'-')\n",
    "max_index = np.argmax(eig_vals)\n",
    "print(\"Componente con mayor varianza:\", eig_vals[max_index])\n",
    "print(\"Dirección (autovector):\", eig_vecs[:, max_index])"
   ]
  }
 ],
 "metadata": {
  "language_info": {
   "name": "python"
  }
 },
 "nbformat": 4,
 "nbformat_minor": 5
}
