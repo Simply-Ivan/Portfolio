{
 "cells": [
  {
   "cell_type": "markdown",
   "id": "968378e6",
   "metadata": {},
   "source": [
    "**Ejercicio 01**: Calcular el área de una circunferencia ingresando el radio (validando que sea mayor a cero) y mostrando el resultado redondeado a dos decimales."
   ]
  },
  {
   "cell_type": "code",
   "execution_count": 3,
   "id": "1f6f177d",
   "metadata": {},
   "outputs": [
    {
     "name": "stdout",
     "output_type": "stream",
     "text": [
      "El área de la circunferencia es 78.54\n"
     ]
    }
   ],
   "source": [
    "import math\n",
    "\n",
    "r = int(input(\"Ingresa el número del radio\\n\"))\n",
    "\n",
    "while r <= 0:\n",
    "    r = int(input(\"Valor incorrecto, infrese un número mayor a 0\\n\"))\n",
    "\n",
    "area = (r ** 2) * math.pi\n",
    "\n",
    "print(f\"El área de la circunferencia es {round(area,2)}\")"
   ]
  },
  {
   "cell_type": "markdown",
   "id": "c8e20647",
   "metadata": {},
   "source": [
    "**Ejercicio 02**: Calcular la longitud de una circunferencia ingresando el radio (validando que sea mayor a cero) y mostrando el resultado redondeado a dos decimales."
   ]
  },
  {
   "cell_type": "code",
   "execution_count": 2,
   "id": "ccadcbf8",
   "metadata": {},
   "outputs": [
    {
     "name": "stdout",
     "output_type": "stream",
     "text": [
      "La longitud del círculo es 31.42\n"
     ]
    }
   ],
   "source": [
    "import math\n",
    "\n",
    "r = int(input(\"Ingrese el radio\\n\"))\n",
    "\n",
    "while r <= 0:\n",
    "    r = int(input(\"Valor incorrecto, ingrese un número mayor a 0\\n\"))\n",
    "    \n",
    "lon = 2 * r * math.pi\n",
    "\n",
    "print(f\"La longitud del círculo es {round(lon,2)}\")"
   ]
  },
  {
   "cell_type": "markdown",
   "id": "c10a8f72",
   "metadata": {},
   "source": [
    "**Ejercicio 03**: Solicitar al usuario su nombre y género, validando la entrada, y mostrar un mensaje de bienvenida personalizado según el género ingresado."
   ]
  },
  {
   "cell_type": "code",
   "execution_count": 4,
   "id": "fa4f0c77",
   "metadata": {},
   "outputs": [
    {
     "name": "stdout",
     "output_type": "stream",
     "text": [
      "Bienvenido ivan\n"
     ]
    }
   ],
   "source": [
    "nom = input(\"Ingresar tu nombre: \")\n",
    "genero = input(\"Ingresar tu género. Si es varón escribe 'v', si es mujer escribe 'm': \")\n",
    "\n",
    "while genero not in (\"v\", \"V\", \"m\", \"M\"):\n",
    "    genero = input(\"Ingresar correctamente el género: v = varón, m = mujer: \")\n",
    "\n",
    "if genero in (\"m\", \"M\"):\n",
    "    m = \"Bienvenida \" + nom\n",
    "else:\n",
    "    m = \"Bienvenido \" + nom\n",
    "\n",
    "print(m)"
   ]
  },
  {
   "cell_type": "markdown",
   "id": "bb7052d3",
   "metadata": {},
   "source": [
    "**Ejercicio 04**: Calcular la hipotenusa de un triángulo rectángulo a partir de sus catetos, validando que ambos sean mayores a cero."
   ]
  },
  {
   "cell_type": "code",
   "execution_count": 6,
   "id": "f53c40dc",
   "metadata": {},
   "outputs": [
    {
     "name": "stdout",
     "output_type": "stream",
     "text": [
      "La hipotenusa es 5.0\n"
     ]
    }
   ],
   "source": [
    "import math\n",
    "\n",
    "a = int(input(\"Ingrese el primer cateto\\n\"))\n",
    "while a <= 0:\n",
    "    a = int(input(\"Valor incorrecto. Ingrese un número mayor a 0\\n\"))\n",
    "\n",
    "b = int(input(\"Ingrese el segundo cateto\\n\"))\n",
    "while b <= 0:\n",
    "    b = int(input(\"Valor incorrecto. Ingrese un número mayor a 0\\n\"))\n",
    "\n",
    "c = math.sqrt(a**2 + b**2)\n",
    "\n",
    "print(f\"La hipotenusa es {round(c, 2)}\")"
   ]
  },
  {
   "cell_type": "markdown",
   "id": "b9ef8931",
   "metadata": {},
   "source": [
    "**Ejercicio 05**: Convertir grados Celsius a Fahrenheit validando que el valor ingresado sea mayor al cero absoluto (-273 °C)."
   ]
  },
  {
   "cell_type": "code",
   "execution_count": 7,
   "id": "47fcf049",
   "metadata": {},
   "outputs": [
    {
     "name": "stdout",
     "output_type": "stream",
     "text": [
      "El grado en Fahrenheit es 212.0\n"
     ]
    }
   ],
   "source": [
    "c = float(input(\"Ingrese el grado en Celsius\\n\"))\n",
    "\n",
    "while c <= -273:\n",
    "    c = float(input(\"Valor incorrecto. Ingrese un número mayor a -273\\n\"))\n",
    "\n",
    "f = 32 + (9 * c) / 5\n",
    "\n",
    "print(f\"El grado en Fahrenheit es {round(f, 2)}\")"
   ]
  },
  {
   "cell_type": "markdown",
   "id": "f14e849f",
   "metadata": {},
   "source": [
    "**Ejercicio 06**: Ingresar tres notas entre 0 y 20, validar cada una y mostrar el promedio final redondeado a dos decimales."
   ]
  },
  {
   "cell_type": "code",
   "execution_count": 8,
   "id": "47144dac",
   "metadata": {},
   "outputs": [
    {
     "name": "stdout",
     "output_type": "stream",
     "text": [
      "El promedio de las 3 notas es 11.0\n"
     ]
    }
   ],
   "source": [
    "n1 = float(input(\"Ingrese la primera nota\\n\"))\n",
    "while n1 < 0 or n1 > 20:\n",
    "    n1 = float(input(\"Valor incorrecto. Ingrese un número mayor a 0 y menor a 20\\n\"))\n",
    "\n",
    "n2 = float(input(\"Ingrese la segunda nota\\n\"))\n",
    "while n2 < 0 or n2 > 20:\n",
    "    n2 = float(input(\"Valor incorrecto. Ingrese un número mayor a 0 y menor a 20\\n\"))\n",
    "\n",
    "n3 = float(input(\"Ingrese la tercera nota\\n\"))\n",
    "while n3 < 0 or n3 > 20:\n",
    "    n3 = float(input(\"Valor incorrecto. Ingrese un número mayor a 0 y menor a 20\\n\"))\n",
    "\n",
    "prom = (n1 + n2 + n3) / 3\n",
    "\n",
    "print(f\"El promedio de las 3 notas es {round(prom, 2)}\")"
   ]
  },
  {
   "cell_type": "markdown",
   "id": "2cb0a898",
   "metadata": {},
   "source": [
    "**Ejercicio 07**: Calcular el peso de un objeto usando la fórmula física P = m * g, validando que la masa ingresada sea mayor a cero."
   ]
  },
  {
   "cell_type": "code",
   "execution_count": 9,
   "id": "f4832f48",
   "metadata": {},
   "outputs": [
    {
     "name": "stdout",
     "output_type": "stream",
     "text": [
      "El peso es 196.0\n"
     ]
    }
   ],
   "source": [
    "g = 9.8\n",
    "m = float(input(\"Ingrese la masa\\n\"))\n",
    "\n",
    "while m <= 0:\n",
    "    m = float(input(\"Valor incorrecto. Ingrese un número mayor a 0\\n\"))\n",
    "\n",
    "p = m * g\n",
    "\n",
    "print(f\"El peso es {round(p, 2)}\")"
   ]
  },
  {
   "cell_type": "markdown",
   "id": "9cad64f5",
   "metadata": {},
   "source": [
    "**Ejercicio 08**: Calcular el Índice de Masa Corporal (IMC) a partir del peso y la estatura, validando que ambos valores estén en rangos razonables."
   ]
  },
  {
   "cell_type": "code",
   "execution_count": 10,
   "id": "507e0733",
   "metadata": {},
   "outputs": [
    {
     "name": "stdout",
     "output_type": "stream",
     "text": [
      "El IMC es 6.89\n"
     ]
    }
   ],
   "source": [
    "p = float(input(\"Ingrese el peso en kilogramos\\n\"))\n",
    "\n",
    "while p <= 0 or p > 300:\n",
    "    p = float(input(\"Valor incorrecto. Ingrese un número mayor a 0 y menor a 300\\n\"))\n",
    "\n",
    "e = float(input(\"Ingrese la estatura en metros\\n\"))\n",
    "\n",
    "while e <= 0 or e > 3:\n",
    "    e = float(input(\"Valor incorrecto. Ingrese un número mayor a 0 y menor a 3\\n\"))\n",
    "\n",
    "imc = p / (e ** 2)\n",
    "\n",
    "print(f\"El IMC es {round(imc, 2)}\")"
   ]
  },
  {
   "cell_type": "markdown",
   "id": "3bfa76f4",
   "metadata": {},
   "source": [
    "**Ejercicio 09**: Calcular el área de un triángulo dados los tres lados utilizando la fórmula de Herón, validando que todos los lados sean mayores que cero."
   ]
  },
  {
   "cell_type": "code",
   "execution_count": 11,
   "id": "7ab69fec",
   "metadata": {},
   "outputs": [
    {
     "name": "stdout",
     "output_type": "stream",
     "text": [
      "El área del triángulo es 51.52\n"
     ]
    }
   ],
   "source": [
    "import math\n",
    "\n",
    "l1 = float(input(\"Ingrese el primer lado del triángulo\\n\"))\n",
    "while l1 <= 0:\n",
    "    l1 = float(input(\"Valor incorrecto. Ingrese un número mayor a 0\\n\"))\n",
    "\n",
    "l2 = float(input(\"Ingrese el segundo lado del triángulo\\n\"))\n",
    "while l2 <= 0:\n",
    "    l2 = float(input(\"Valor incorrecto. Ingrese un número mayor a 0\\n\"))\n",
    "\n",
    "l3 = float(input(\"Ingrese el tercer lado del triángulo\\n\"))\n",
    "while l3 <= 0:\n",
    "    l3 = float(input(\"Valor incorrecto. Ingrese un número mayor a 0\\n\"))\n",
    "\n",
    "s = (l1 + l2 + l3) / 2\n",
    "a = math.sqrt(s * (s - l1) * (s - l2) * (s - l3))\n",
    "\n",
    "print(f\"El área del triángulo es {round(a, 2)}\")"
   ]
  },
  {
   "cell_type": "markdown",
   "id": "057dd9da",
   "metadata": {},
   "source": [
    "**Ejercicio 10**: Ingresar el código de un estudiante y cinco notas entre 0 y 20, validar cada una y calcular su promedio final, mostrando el resultado junto con el código del alumno."
   ]
  },
  {
   "cell_type": "code",
   "execution_count": 12,
   "id": "5a5f828b",
   "metadata": {},
   "outputs": [
    {
     "name": "stdout",
     "output_type": "stream",
     "text": [
      "La nota del alumno 23 es 12.4\n"
     ]
    }
   ],
   "source": [
    "matri = str(input(\"Ingrese el código del estudiante\\n\"))\n",
    "\n",
    "n1 = float(input(\"Ingrese la primera nota\\n\"))\n",
    "while n1 < 0 or n1 > 20:\n",
    "    n1 = float(input(\"Valor incorrecto. Ingrese un número mayor o igual a 0 y menor o igual a 20\\n\"))\n",
    "\n",
    "n2 = float(input(\"Ingrese la segunda nota\\n\"))\n",
    "while n2 < 0 or n2 > 20:\n",
    "    n2 = float(input(\"Valor incorrecto. Ingrese un número mayor o igual a 0 y menor o igual a 20\\n\"))\n",
    "\n",
    "n3 = float(input(\"Ingrese la tercera nota\\n\"))\n",
    "while n3 < 0 or n3 > 20:\n",
    "    n3 = float(input(\"Valor incorrecto. Ingrese un número mayor o igual a 0 y menor o igual a 20\\n\"))\n",
    "\n",
    "n4 = float(input(\"Ingrese la cuarta nota\\n\"))\n",
    "while n4 < 0 or n4 > 20:\n",
    "    n4 = float(input(\"Valor incorrecto. Ingrese un número mayor o igual a 0 y menor o igual a 20\\n\"))\n",
    "\n",
    "n5 = float(input(\"Ingrese la quinta nota\\n\"))\n",
    "while n5 < 0 or n5 > 20:\n",
    "    n5 = float(input(\"Valor incorrecto. Ingrese un número mayor o igual a 0 y menor o igual a 20\\n\"))\n",
    "\n",
    "prom = (n1 + n2 + n3 + n4 + n5) / 5\n",
    "\n",
    "print(f\"La nota del alumno {matri} es {round(prom, 2)}\")"
   ]
  },
  {
   "cell_type": "markdown",
   "id": "fc70b66b",
   "metadata": {},
   "source": [
    "**Ejercicio 11**: Calcular la raíz n-ésima de un número positivo ingresado por el usuario, validando que el radicando sea mayor a 0 y el índice de la raíz mayor a 1."
   ]
  },
  {
   "cell_type": "code",
   "execution_count": 13,
   "id": "93c907e0",
   "metadata": {},
   "outputs": [
    {
     "name": "stdout",
     "output_type": "stream",
     "text": [
      "La raíz es 10.0\n"
     ]
    }
   ],
   "source": [
    "a = float(input(\"Ingresar el radicando\\n\"))\n",
    "\n",
    "while a <= 0:\n",
    "    a = float(input(\"Valor incorrecto. Ingrese un número mayor a 0\\n\"))\n",
    "\n",
    "n = int(input(\"Ingresa el radical\\n\"))\n",
    "\n",
    "while n <= 1:\n",
    "    n = int(input(\"Valor incorrecto. Ingrese un número mayor a 1\\n\"))\n",
    "\n",
    "r = a ** (1 / n)\n",
    "\n",
    "print(f\"La raíz es {round(r, 2)}\")"
   ]
  },
  {
   "cell_type": "markdown",
   "id": "2941ff69",
   "metadata": {},
   "source": [
    "**Ejercicio 12**: Calcular el perímetro y el área de un rectángulo ingresando base y altura, validando que ambos valores sean mayores a cero."
   ]
  },
  {
   "cell_type": "code",
   "execution_count": 14,
   "id": "e872810e",
   "metadata": {},
   "outputs": [
    {
     "name": "stdout",
     "output_type": "stream",
     "text": [
      "El perímetro es 28.0 y el área es 40.0\n"
     ]
    }
   ],
   "source": [
    "b = float(input(\"Ingresar la base\\n\"))\n",
    "\n",
    "while b <= 0:\n",
    "    b = float(input(\"Valor incorrecto. Ingrese un número mayor a 0\\n\"))\n",
    "\n",
    "al = float(input(\"Ingresar la altura\\n\"))\n",
    "\n",
    "while al <= 0:\n",
    "    al = float(input(\"Valor incorrecto. Ingrese un número mayor a 0\\n\"))\n",
    "\n",
    "p = 2 * (b + al)\n",
    "ar = al * b\n",
    "\n",
    "print(f\"El perímetro es {round(p, 2)} y el área es {round(ar, 2)}\")"
   ]
  },
  {
   "cell_type": "markdown",
   "id": "3e55e1b1",
   "metadata": {},
   "source": [
    "**Ejercicio 13**: Simular una compra ingresando el dinero disponible y el costo, validando ambos valores y calculando el vuelto."
   ]
  },
  {
   "cell_type": "code",
   "execution_count": 15,
   "id": "725b384b",
   "metadata": {},
   "outputs": [
    {
     "name": "stdout",
     "output_type": "stream",
     "text": [
      "El vuelto es 800.0\n"
     ]
    }
   ],
   "source": [
    "d = float(input(\"Ingrese su dinero\\n\"))\n",
    "\n",
    "while d <= 0:\n",
    "    d = float(input(\"Valor incorrecto. Ingrese un número mayor a 0\\n\"))\n",
    "\n",
    "c = float(input(\"Ingrese el costo\\n\"))\n",
    "\n",
    "while c <= 0:\n",
    "    c = float(input(\"Valor incorrecto. Ingrese un número mayor a 0\\n\"))\n",
    "\n",
    "v = d - c\n",
    "\n",
    "print(f\"El vuelto es {round(v, 2)}\")"
   ]
  },
  {
   "cell_type": "markdown",
   "id": "d7af21c8",
   "metadata": {},
   "source": [
    "**Ejercicio 14**: Calcular la suma de los primeros n números enteros positivos utilizando la fórmula n(n+1)/2, validando que n sea mayor que cero."
   ]
  },
  {
   "cell_type": "code",
   "execution_count": 17,
   "id": "79013259",
   "metadata": {},
   "outputs": [
    {
     "name": "stdout",
     "output_type": "stream",
     "text": [
      "La suma de los primeros números enteros positivos es 15.0\n"
     ]
    }
   ],
   "source": [
    "n = int(input(\"Ingresar hasta qué número se sumará\\n\"))\n",
    "\n",
    "while n <= 0:\n",
    "    n = int(input(\"Valor incorrecto. Ingresa un número mayor a 0\\n\"))\n",
    "\n",
    "sum = (n * (n + 1)) / 2\n",
    "\n",
    "print(f\"La suma de los primeros números enteros positivos es {sum}\")"
   ]
  },
  {
   "cell_type": "markdown",
   "id": "3aa594c3",
   "metadata": {},
   "source": [
    "**Ejercicio 15**: Calcular el área de un triángulo con base y altura conocidas, validando que ambos valores sean mayores que cero."
   ]
  },
  {
   "cell_type": "code",
   "execution_count": 18,
   "id": "e69c5024",
   "metadata": {},
   "outputs": [
    {
     "name": "stdout",
     "output_type": "stream",
     "text": [
      "El área del triángulo es 60.0\n"
     ]
    }
   ],
   "source": [
    "al = float(input(\"Ingresar la altura\\n\"))\n",
    "\n",
    "while al <= 0:\n",
    "    al = float(input(\"Valor incorrecto. Ingrese un número mayor a 0\\n\"))\n",
    "\n",
    "b = float(input(\"Ingresar la base\\n\"))\n",
    "\n",
    "while b <= 0:\n",
    "    b = float(input(\"Valor incorrecto. Ingrese un número mayor a 0\\n\"))\n",
    "\n",
    "ar = (al * b) / 2\n",
    "\n",
    "print(f\"El área del triángulo es {round(ar, 2)}\")"
   ]
  },
  {
   "cell_type": "markdown",
   "id": "a9292746",
   "metadata": {},
   "source": [
    "**Ejercicio 16**: Calcular el interés compuesto a partir del capital, el tiempo y la tasa de interés anual, validando que todos los valores ingresados sean mayores que cero."
   ]
  },
  {
   "cell_type": "code",
   "execution_count": null,
   "id": "3fd47a4a",
   "metadata": {},
   "outputs": [],
   "source": [
    "\n",
    "c = float(input(\"Ingresar el capital\\n\"))\n",
    "\n",
    "while c <= 0:\n",
    "    c = float(input(\"Valor incorrecto. Ingrese un número mayor a 0\\n\"))\n",
    "    \n",
    "t = int(input(\"Ingrese el tiempo\\n\"))\n",
    "\n",
    "while t <= 0:\n",
    "    t = int(input(\"Valor incorrecto. Ingrese un número mayor a 0\\n\"))\n",
    "    \n",
    "r = int(input(\"Ingresar la tasa de interés\\n\"))\n",
    "\n",
    "while r <= 0:\n",
    "    r = int(input(\"Valor incorrecto. Ingrese un número mayor a 0\\n\"))\n",
    "    \n",
    "m = ((1 + (r / 100)) ** t) * c\n",
    "i = m - c\n",
    "\n",
    "print(f\"El interés es {round(i,2)}\")"
   ]
  },
  {
   "cell_type": "markdown",
   "id": "eb4b5a29",
   "metadata": {},
   "source": [
    "**Ejercicio 17**: Ingresar el nombre, peso en libras y longitud en pies de un dinosaurio, validando que los valores sean positivos, y convertirlos a kilogramos y metros respectivamente."
   ]
  },
  {
   "cell_type": "code",
   "execution_count": 19,
   "id": "d0a7aae0",
   "metadata": {},
   "outputs": [
    {
     "name": "stdout",
     "output_type": "stream",
     "text": [
      "El dinosaurio trex tiene un peso de 554.29 kg y una longitud de 649.83 m\n"
     ]
    }
   ],
   "source": [
    "nom = str(input(\"Ingresar el nombre del dinosaurio\\n\"))\n",
    "\n",
    "li = float(input(\"Ingresar el peso en libras\\n\"))\n",
    "while li <= 0:\n",
    "    li = float(input(\"Valor incorrecto. Ingrese un número mayor a 0\\n\"))\n",
    "\n",
    "pi = float(input(\"Ingresar la longitud en pies\\n\"))\n",
    "while pi <= 0:\n",
    "    pi = float(input(\"Valor incorrecto. Ingrese un número mayor a 0\\n\"))\n",
    "\n",
    "m = pi * 0.3048\n",
    "kg = li * 0.453592\n",
    "\n",
    "print(f\"El dinosaurio {nom} tiene un peso de {round(kg, 2)} kg y una longitud de {round(m, 2)} m\")"
   ]
  },
  {
   "cell_type": "markdown",
   "id": "55301fed",
   "metadata": {},
   "source": [
    "**Ejercicio 18**: Calcular el precio total a pagar según la cantidad de galones ingresados, convirtiendo a litros y multiplicando por el precio por litro."
   ]
  },
  {
   "cell_type": "code",
   "execution_count": 20,
   "id": "3964bb9a",
   "metadata": {},
   "outputs": [
    {
     "name": "stdout",
     "output_type": "stream",
     "text": [
      "El precio es 310.37\n"
     ]
    }
   ],
   "source": [
    "gal = int(input(\"Ingrese el número de galones que desee comprar\\n\"))\n",
    "\n",
    "while gal <= 0:\n",
    "    gal = int(input(\"Valor incorrecto. Ingrese un número mayor a 0\\n\"))\n",
    "\n",
    "cant = 3.785 * gal\n",
    "total = 8.2 * cant\n",
    "\n",
    "print(f\"El precio es {round(total, 2)}\")"
   ]
  },
  {
   "cell_type": "markdown",
   "id": "2234a58d",
   "metadata": {},
   "source": [
    "**Ejercicio 19**: Convertir una cantidad de tiempo en segundos a un formato de horas, minutos y segundos."
   ]
  },
  {
   "cell_type": "code",
   "execution_count": 21,
   "id": "07caeb2b",
   "metadata": {},
   "outputs": [
    {
     "name": "stdout",
     "output_type": "stream",
     "text": [
      "El tiempo es 5 horas 55 minutos 44 segundos\n"
     ]
    }
   ],
   "source": [
    "t = int(input(\"Ingrese el tiempo en segundos\\n\"))\n",
    "\n",
    "while t <= 0:\n",
    "    t = int(input(\"Valor incorrecto. Ingresar un número mayor a 0\\n\"))\n",
    "\n",
    "hor = t // 3600\n",
    "hor_rest = t % 3600\n",
    "min = hor_rest // 60\n",
    "seg = hor_rest % 60\n",
    "\n",
    "print(f\"El tiempo es {hor} horas {min} minutos {seg} segundos\")"
   ]
  },
  {
   "cell_type": "markdown",
   "id": "459b2a70",
   "metadata": {},
   "source": [
    "**Ejercicio 20**: Calcular el área superficial y el volumen de un cilindro a partir de su radio y altura, validando ambos valores."
   ]
  },
  {
   "cell_type": "code",
   "execution_count": 22,
   "id": "8ea991ea",
   "metadata": {},
   "outputs": [
    {
     "name": "stdout",
     "output_type": "stream",
     "text": [
      "El área del cilindro es 276.46 y el volumen es 351.86\n"
     ]
    }
   ],
   "source": [
    "import math\n",
    "\n",
    "r = float(input(\"Ingrese el número del radio\\n\"))\n",
    "while r <= 0:\n",
    "    r = float(input(\"Valor incorrecto. Ingresar un número mayor a 0\\n\"))\n",
    "\n",
    "h = float(input(\"Ingrese la altura\\n\"))\n",
    "while h <= 0:\n",
    "    h = float(input(\"Valor incorrecto. Ingresar un número mayor a 0\\n\"))\n",
    "\n",
    "area = 2 * math.pi * r * (r + h)\n",
    "vol = math.pi * (r ** 2) * h\n",
    "\n",
    "print(f\"El área del cilindro es {round(area, 2)} y el volumen es {round(vol, 2)}\")"
   ]
  },
  {
   "cell_type": "markdown",
   "id": "f323a798",
   "metadata": {},
   "source": [
    "**Ejercicio 21**: Ingresar un número cualquiera y clasificarlo como positivo, negativo o neutro usando estructuras condicionales."
   ]
  },
  {
   "cell_type": "code",
   "execution_count": 23,
   "id": "0d2a97f1",
   "metadata": {},
   "outputs": [
    {
     "name": "stdout",
     "output_type": "stream",
     "text": [
      "Positivo\n"
     ]
    }
   ],
   "source": [
    "n = float(input(\"Ingrese cualquier número\\n\"))\n",
    "\n",
    "if n != 0:\n",
    "    if n > 0:\n",
    "        print(\"Positivo\")\n",
    "    if n < 0:\n",
    "        print(\"Negativo\")\n",
    "\n",
    "if n == 0:\n",
    "    print(\"Neutro\")"
   ]
  },
  {
   "cell_type": "markdown",
   "id": "2b88a0cc",
   "metadata": {},
   "source": [
    "**Ejercicio 22**: Ingresar una nota válida entre 0 y 20 y mostrar si el estudiante está aprobado o desaprobado."
   ]
  },
  {
   "cell_type": "code",
   "execution_count": 24,
   "id": "30486e8f",
   "metadata": {},
   "outputs": [
    {
     "name": "stdout",
     "output_type": "stream",
     "text": [
      "Aprobado\n"
     ]
    }
   ],
   "source": [
    "nota = float(input(\"Ingresar la nota\\n\"))\n",
    "\n",
    "while nota > 20 or nota < 0:\n",
    "    nota = float(input(\"Valor incorrecto. La nota debe ser menor o igual a 20 y mayor a 0\\n\"))\n",
    "\n",
    "if nota >= 10.5:\n",
    "    print(\"Aprobado\")\n",
    "\n",
    "if nota < 10.5:\n",
    "    print(\"Desaprobado\")"
   ]
  },
  {
   "cell_type": "markdown",
   "id": "d3c1ec9e",
   "metadata": {},
   "source": [
    "**Ejercicio 23**: Ingresar una letra y verificar si es una vocal (mayúscula o minúscula) usando condiciones múltiples."
   ]
  },
  {
   "cell_type": "code",
   "execution_count": 26,
   "id": "cdeb4be8",
   "metadata": {},
   "outputs": [
    {
     "name": "stdout",
     "output_type": "stream",
     "text": [
      "Es vocal\n"
     ]
    }
   ],
   "source": [
    "v = str(input(\"Ingresar una letra o vocal\\n\"))\n",
    "\n",
    "if v in ('a','e','i','o','u','A','E','I','O','U'):\n",
    "    print(\"Es vocal\")\n",
    "\n",
    "if v not in ('a','e','i','o','u','A','E','I','O','U'):\n",
    "    print(\"No es vocal\")"
   ]
  },
  {
   "cell_type": "markdown",
   "id": "e7bd4aac",
   "metadata": {},
   "source": [
    "**Ejercicio 24**: Ingresar el sueldo de un trabajador y aplicar un aumento del 15% si gana menos de 1000, mostrando el nuevo sueldo."
   ]
  },
  {
   "cell_type": "code",
   "execution_count": 27,
   "id": "de09f36c",
   "metadata": {},
   "outputs": [
    {
     "name": "stdout",
     "output_type": "stream",
     "text": [
      "Su sueldo es 458.85\n"
     ]
    }
   ],
   "source": [
    "s = float(input(\"Ingrese su sueldo\\n\"))\n",
    "\n",
    "while s <= 0:\n",
    "    s = float(input(\"Valor incorrecto. Ingrese un sueldo mayor a 0\\n\"))\n",
    "\n",
    "if s < 1000:\n",
    "    au = 1.15 * s\n",
    "    print(f\"Su sueldo es {round(au, 2)}\")\n",
    "\n",
    "if s >= 1000:\n",
    "    print(f\"Su sueldo es {s}\")"
   ]
  },
  {
   "cell_type": "markdown",
   "id": "1c656c8a",
   "metadata": {},
   "source": [
    "**Ejercicio 25**: Ingresar la edad de una persona y mostrar si es mayor o menor de edad."
   ]
  },
  {
   "cell_type": "code",
   "execution_count": 28,
   "id": "f903ed78",
   "metadata": {},
   "outputs": [
    {
     "name": "stdout",
     "output_type": "stream",
     "text": [
      "Es mayor de edad\n"
     ]
    }
   ],
   "source": [
    "e = int(input(\"Ingresar tu edad\\n\"))\n",
    "\n",
    "while e <= 0:\n",
    "    e = int(input(\"Valor incorrecto. Ingresar una edad mayor a 0\\n\"))\n",
    "\n",
    "if e >= 18:\n",
    "    print(\"Es mayor de edad\")\n",
    "\n",
    "if e < 18:\n",
    "    print(\"Es menor de edad\")"
   ]
  }
 ],
 "metadata": {
  "kernelspec": {
   "display_name": "Python 3",
   "language": "python",
   "name": "python3"
  },
  "language_info": {
   "codemirror_mode": {
    "name": "ipython",
    "version": 3
   },
   "file_extension": ".py",
   "mimetype": "text/x-python",
   "name": "python",
   "nbconvert_exporter": "python",
   "pygments_lexer": "ipython3",
   "version": "3.12.6"
  }
 },
 "nbformat": 4,
 "nbformat_minor": 5
}
