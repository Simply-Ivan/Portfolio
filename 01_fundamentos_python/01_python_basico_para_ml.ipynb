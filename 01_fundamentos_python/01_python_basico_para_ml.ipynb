{
 "cells": [
  {
   "cell_type": "markdown",
   "id": "13e03de3",
   "metadata": {},
   "source": [
    "# 01 - Python Básico para Machine Learning\n",
    "\n",
    "Estoy repasando algunas cosas básicas de Python que necesito dominar antes de meterme de lleno en temas de ciencia de datos o machine learning. Aunque son simples, son importantes para escribir buen código más adelante."
   ]
  },
  {
   "cell_type": "markdown",
   "id": "cd26ec80",
   "metadata": {},
   "source": [
    "## Aprendiendo variables\n",
    "\n",
    "Estoy viendo dos formas comunes de nombrar variables.  \n",
    "Una es CamelCase, que junta las palabras sin espacios y cada palabra empieza con mayúscula.  \n",
    "La otra es snake_case, que usa guiones bajos.  \n",
    "Python recomienda usar snake_case"
   ]
  },
  {
   "cell_type": "code",
   "execution_count": 2,
   "id": "14fffc92",
   "metadata": {},
   "outputs": [],
   "source": [
    "nombreCompletoDeTuPapá = \"David Luis\"\n",
    "nombre_completo_de_tu_papá = \"David Luis\""
   ]
  },
  {
   "cell_type": "markdown",
   "id": "92861df9",
   "metadata": {},
   "source": [
    "## Aprendiendo input y tipos de datos\n",
    "\n",
    "Estoy practicando cómo pedir datos al usuario y convertir lo que se escribe en un número.  \n",
    "Por defecto, `input()` devuelve texto, así que hay que convertirlo con `int()` o `float()` si quiero hacer operaciones matemáticas."
   ]
  },
  {
   "cell_type": "code",
   "execution_count": 5,
   "id": "af2adbab",
   "metadata": {},
   "outputs": [
    {
     "name": "stdout",
     "output_type": "stream",
     "text": [
      "El número que sale es 48.0\n"
     ]
    }
   ],
   "source": [
    "# Le pido un número al usuario\n",
    "numero = input('Dame un número, aleatorio: ')\n",
    "\n",
    "# Lo convierto a entero y lo multiplico\n",
    "resultado_1 = int(numero) * 2\n",
    "\n",
    "# También lo convierto a float y lo multiplico\n",
    "resultado_2 = float(numero) * 4\n",
    "\n",
    "# Muestro el resultado final\n",
    "print(f'El número que sale es {resultado_2}')"
   ]
  },
  {
   "cell_type": "markdown",
   "id": "416f5f37",
   "metadata": {},
   "source": [
    "## Aprendiendo operadores matemáticos\n",
    "\n",
    "Estoy repasando los operadores básicos de Python para hacer operaciones con números:\n",
    "\n",
    "- `+` y `-` para suma y resta.\n",
    "- `*` y `/` para multiplicar y dividir.\n",
    "- `**` para elevar a una potencia.\n",
    "- `//` para obtener la parte entera de una división.\n",
    "- `%` para obtener el resto (módulo).\n",
    "\n",
    "También estoy usando `type()` para ver qué tipo de dato devuelve una operación."
   ]
  },
  {
   "cell_type": "code",
   "execution_count": 7,
   "id": "6e319d19",
   "metadata": {},
   "outputs": [
    {
     "name": "stdout",
     "output_type": "stream",
     "text": [
      "248832\n"
     ]
    }
   ],
   "source": [
    "# Suma y resta\n",
    "suma = 12 + 5\n",
    "resta = 12 - 5\n",
    "\n",
    "# Multiplicación y división\n",
    "multi = 12 * 5\n",
    "division = 12 / 6  # Devuelve float\n",
    "\n",
    "# Potenciación\n",
    "exponente = 12 ** 5\n",
    "\n",
    "# División baja (entera)\n",
    "division_baja = 12 // 5\n",
    "\n",
    "# Módulo (resto)\n",
    "resto = 12 % 9\n",
    "\n",
    "# Ver el tipo de dato\n",
    "tipo_de_dato = type(division_baja)\n",
    "\n",
    "print(exponente)"
   ]
  },
  {
   "cell_type": "markdown",
   "id": "7230dd1d",
   "metadata": {},
   "source": [
    "## Aprendiendo comparaciones\n",
    "\n",
    "Estoy probando los operadores de comparación. Devuelven `True` o `False` dependiendo de si se cumple la condición.\n",
    "\n",
    "- `==` igual que  \n",
    "- `!=` distinto de  \n",
    "- `>` mayor que  \n",
    "- `<` menor que  \n",
    "- `>=` mayor o igual  \n",
    "- `<=` menor o igual  \n",
    "\n",
    "También estoy combinando cálculos con comparaciones, y probé un ejemplo para verificar si una contraseña escrita es igual a la guardada."
   ]
  },
  {
   "cell_type": "code",
   "execution_count": 15,
   "id": "f9167dab",
   "metadata": {},
   "outputs": [
    {
     "name": "stdout",
     "output_type": "stream",
     "text": [
      "False\n"
     ]
    }
   ],
   "source": [
    "igual_que = 5 == 6\n",
    "distinto_de = 5 != 6\n",
    "mayor_que = 5 > 6\n",
    "menor_que = 5 < 6\n",
    "mayor_o_igual = 5 >= 6\n",
    "menor_o_igual = 5 <= 6\n",
    "\n",
    "# Cálculo combinado\n",
    "a = 4\n",
    "b = 7\n",
    "c = 28\n",
    "comparacion = a * b == c\n",
    "\n",
    "# Comparar contraseñas\n",
    "contraseña_almacenada = 'Max LLaccta'\n",
    "contraseña_escrita = 'Max Llacta'\n",
    "print(contraseña_almacenada == contraseña_escrita)"
   ]
  },
  {
   "cell_type": "markdown",
   "id": "73a85619",
   "metadata": {},
   "source": [
    "## Aprendiendo operadores lógicos\n",
    "\n",
    "Ahora estoy practicando operadores lógicos, que me sirven para combinar condiciones.  \n",
    "Son muy usados en estructuras `if`, validaciones y lógica de control.\n",
    "\n",
    "- `and` (en código: `&`): devuelve `True` si ambas condiciones son verdaderas.  \n",
    "- `or` (en código: `|`): devuelve `True` si al menos una es verdadera.  \n",
    "- `not`: invierte el valor lógico (`True` pasa a `False` y viceversa)."
   ]
  },
  {
   "cell_type": "code",
   "execution_count": 16,
   "id": "8fc9dc30",
   "metadata": {},
   "outputs": [
    {
     "name": "stdout",
     "output_type": "stream",
     "text": [
      "False\n"
     ]
    }
   ],
   "source": [
    "# AND\n",
    "Resultado = True & True        # True\n",
    "Resultado2 = False & True      # False\n",
    "Resultado3 = True & False      # False\n",
    "Resultado4 = False & False     # False\n",
    "\n",
    "# OR\n",
    "Resultado5 = True | True       # True\n",
    "Resultado6 = False | True      # True\n",
    "Resultado7 = True | False      # True\n",
    "Resultado8 = False | False     # False\n",
    "\n",
    "# NOT\n",
    "Resultado9 = not True          # False\n",
    "Resultado10 = not False        # True\n",
    "\n",
    "print(Resultado9)"
   ]
  },
  {
   "cell_type": "markdown",
   "id": "7251272b",
   "metadata": {},
   "source": [
    "## Aprendiendo concatenación\n",
    "\n",
    "Para juntar texto en Python se puede usar `+`, pero lo mejor es usar `f-strings` porque se entiende mejor cuando hay variables."
   ]
  },
  {
   "cell_type": "code",
   "execution_count": 3,
   "id": "f27c0c5c",
   "metadata": {},
   "outputs": [
    {
     "name": "stdout",
     "output_type": "stream",
     "text": [
      "Hola David Luis ¿Cómo estás?\n"
     ]
    }
   ],
   "source": [
    "bienvenida = \"Hola \" + \" ¿Cómo estás?\"\n",
    "bienvenida = f\"Hola {nombre_completo_de_tu_papá} ¿Cómo estás?\"\n",
    "print(bienvenida)"
   ]
  },
  {
   "cell_type": "markdown",
   "id": "2ade3f9e",
   "metadata": {},
   "source": [
    "## Aprendiendo strings\n",
    "\n",
    "Estoy repasando todo lo que se puede hacer con strings en Python:  \n",
    "cómo crearlos, combinarlos, formatearlos, cortar partes (slicing), invertirlos y usar funciones como `.upper()` o `.count()`.\n",
    "\n",
    "También practico cómo mostrar saltos de línea, tabulaciones, y diferentes formas de imprimir texto con variables."
   ]
  },
  {
   "cell_type": "code",
   "execution_count": 18,
   "id": "88fced07",
   "metadata": {},
   "outputs": [
    {
     "name": "stdout",
     "output_type": "stream",
     "text": [
      "9\n",
      "14\n",
      "Mi String Mi otro String\n",
      "Este es un String\n",
      "con salto de línea\n",
      "\tEste es un String con tabulación\n",
      "\\tEste es un String \\n escapado\n",
      "Mi nombre es Brais Moure y mi edad es 35\n",
      "Mi nombre es Brais Moure y mi edad es 35\n",
      "Mi nombre es Brais Moure y mi edad es 35\n",
      "Mi nombre es Brais Moure y mi edad es 35\n",
      "p\n",
      "o\n",
      "yt\n",
      "ython\n",
      "o\n",
      "pto\n",
      "nohtyp\n",
      "Python\n",
      "PYTHON\n",
      "1\n",
      "False\n",
      "True\n",
      "python\n",
      "False\n",
      "False\n",
      "False\n"
     ]
    }
   ],
   "source": [
    "# Crear strings\n",
    "my_string = \"Mi String\"\n",
    "my_other_string = 'Mi otro String'\n",
    "\n",
    "print(len(my_string))\n",
    "print(len(my_other_string))\n",
    "print(my_string + \" \" + my_other_string)\n",
    "\n",
    "# Saltos de línea y tabulación\n",
    "my_new_line_string = \"Este es un String\\ncon salto de línea\"\n",
    "print(my_new_line_string)\n",
    "\n",
    "my_tab_string = \"\\tEste es un String con tabulación\"\n",
    "print(my_tab_string)\n",
    "\n",
    "my_scape_string = \"\\\\tEste es un String \\\\n escapado\"\n",
    "print(my_scape_string)\n",
    "\n",
    "# Formateo de texto\n",
    "name, surname, age = \"Brais\", \"Moure\", 35\n",
    "print(\"Mi nombre es {} {} y mi edad es {}\".format(name, surname, age))\n",
    "print(\"Mi nombre es %s %s y mi edad es %d\" % (name, surname, age))\n",
    "print(\"Mi nombre es \" + name + \" \" + surname + \" y mi edad es \" + str(age))\n",
    "print(f\"Mi nombre es {name} {surname} y mi edad es {age}\")\n",
    "\n",
    "# Desempaquetar caracteres\n",
    "language = \"python\"\n",
    "a, b, c, d, e, f = language\n",
    "print(a)\n",
    "print(e)\n",
    "\n",
    "# Slicing\n",
    "print(language[1:3])\n",
    "print(language[1:])\n",
    "print(language[-2])\n",
    "print(language[0:6:2])\n",
    "\n",
    "# Invertir string\n",
    "print(language[::-1])\n",
    "\n",
    "# Métodos de string\n",
    "print(language.capitalize())\n",
    "print(language.upper())\n",
    "print(language.count(\"t\"))\n",
    "print(language.isnumeric())\n",
    "print(\"1\".isnumeric())\n",
    "print(language.lower())\n",
    "print(language.lower().isupper())\n",
    "print(language.startswith(\"Py\"))\n",
    "print(\"Py\" == \"py\")  # False\n"
   ]
  },
  {
   "cell_type": "markdown",
   "id": "85bad23b",
   "metadata": {},
   "source": [
    "## Aprendiendo métodos de strings\n",
    "\n",
    "Ahora estoy probando métodos que puedo aplicar a strings, como convertir a mayúsculas, buscar palabras, reemplazar texto, contar caracteres o dividir cadenas.\n",
    "\n",
    "Estas funciones son muy útiles para limpiar y procesar texto, algo que se hace bastante en ciencia de datos y procesamiento de lenguaje natural (NLP)."
   ]
  },
  {
   "cell_type": "code",
   "execution_count": 19,
   "id": "dcbf65b0",
   "metadata": {},
   "outputs": [
    {
     "name": "stdout",
     "output_type": "stream",
     "text": [
      "Bienvenido\n"
     ]
    }
   ],
   "source": [
    "cadena1 = 'Hola soy Steve'\n",
    "cadena2 = 'Bienvenido_Capo_Mastodonte'\n",
    "cadena3 = 'HOLA,MUNDO'\n",
    "cadena4 = '900938586'\n",
    "\n",
    "mayus = cadena1.upper()\n",
    "minus = cadena2.lower()\n",
    "primera_letra_mayus = cadena3.capitalize()\n",
    "\n",
    "busqueda_find = cadena2.find('Capo')\n",
    "busqueda_index = cadena2.index('C')\n",
    "\n",
    "es_numerico = cadena4.isnumeric()\n",
    "es_alfanumerico = cadena3.isalpha()\n",
    "\n",
    "contar_coincidencias = cadena2.count('asto')\n",
    "contar_caracteres = len(cadena4)\n",
    "\n",
    "empieza_con = cadena3.startswith('HO')\n",
    "termina_con = cadena1.endswith('eve')\n",
    "\n",
    "cadena_nueva = cadena1.replace(' ', '_')\n",
    "cadena_separada = cadena2.split('_')\n",
    "\n",
    "print(cadena_separada[0])"
   ]
  },
  {
   "cell_type": "markdown",
   "id": "a2a5d9be",
   "metadata": {},
   "source": [
    "## Aprendiendo listas\n",
    "\n",
    "Estoy practicando cómo usar listas en Python: ver su tamaño, sumar valores, copiar, modificar, eliminar y agregar elementos.\n",
    "\n",
    "También probé cómo ordenarlas, invertirlas y contar cuántas veces aparece un valor. Esto es útil para manejar colecciones de datos más adelante.\n",
    "\n",
    "También practiqué otras formas de crear listas usando `list()` y cómo insertar elementos en posiciones específicas con `.insert()`.  \n",
    "\n",
    "Probé más formas de eliminar, ordenar y buscar elementos dentro de la lista."
   ]
  },
  {
   "cell_type": "code",
   "execution_count": 22,
   "id": "7ae7640c",
   "metadata": {},
   "outputs": [
    {
     "name": "stdout",
     "output_type": "stream",
     "text": [
      "7\n",
      "298\n",
      "[25, 43, 14, 38, 54, 98, 6]\n",
      "[25, 38, 54, 98]\n",
      "[]\n",
      "[25, 63, 54, 14, 38, 54, 98, 6, 83, 15, 24, 69]\n",
      "[6, 14, 15, 24, 25, 38, 54, 54, 63, 69, 83, 98]\n",
      "[98, 83, 69, 63, 54, 54, 38, 25, 24, 15, 14, 6]\n",
      "[6, 14, 15, 24, 25, 38, 54, 54, 63, 69, 83, 98]\n",
      "2\n",
      "2\n"
     ]
    }
   ],
   "source": [
    "edades = [25, 63, 14, 38, 54, 98, 6]\n",
    "print(len(edades))\n",
    "print(sum(edades))\n",
    "\n",
    "# Copiar lista\n",
    "edades_1 = edades.copy()\n",
    "edades[1] = 43\n",
    "print(edades)\n",
    "\n",
    "# Eliminar elementos\n",
    "edades.pop()\n",
    "del edades[1]\n",
    "edades.remove(14)\n",
    "print(edades)\n",
    "\n",
    "edades.clear()\n",
    "print(edades)\n",
    "\n",
    "# Añadir elementos\n",
    "edades_1.append(83)\n",
    "edades_1.insert(2, 54)\n",
    "edades_1.extend([15, 24, 69])\n",
    "print(edades_1)\n",
    "\n",
    "# Ordenar la lista\n",
    "edades_1.sort()\n",
    "print(edades_1)\n",
    "\n",
    "edades_1.sort(reverse=True)\n",
    "print(edades_1)\n",
    "\n",
    "edades_1.reverse()\n",
    "print(edades_1)\n",
    "\n",
    "# Contar elementos repetidos\n",
    "print(edades_1.count(54))\n",
    "\n",
    "# Crear listas con list()\n",
    "lista = list(['Alex', 'Fiorella', 'Max', 'Nancy', 12])\n",
    "lista_1 = list([34, 45, 67, 435, 36, 6, True, False])\n",
    "\n",
    "# Cantidad de elementos\n",
    "cantidad_elementos = len(lista)\n",
    "\n",
    "# Agregar elementos\n",
    "lista.append('Ivan')\n",
    "lista.insert(3, 'Jefa')\n",
    "lista_1.insert(4, 100)\n",
    "lista.extend(['Papacho', 'Mama', 'Orejitas'])\n",
    "\n",
    "# Eliminar elementos\n",
    "lista.pop(4)         # Por índice\n",
    "lista.remove('Ivan') # Por valor\n",
    "\n",
    "# Ordenar e invertir\n",
    "lista_1.sort()\n",
    "lista_1.reverse()\n",
    "\n",
    "# Buscar un elemento\n",
    "elemento_encontrado = lista.index('Max')\n",
    "print(elemento_encontrado)\n"
   ]
  },
  {
   "cell_type": "markdown",
   "id": "f7c6d0fe",
   "metadata": {},
   "source": [
    "## Aprendiendo tuplas\n",
    "\n",
    "Ahora probé las tuplas. Son como listas, pero no se pueden modificar (son inmutables).  \n",
    "Son útiles cuando tengo datos que no deben cambiar. También convierto la tupla a lista para poder editarla, y luego a set para ver cómo se comportan."
   ]
  },
  {
   "cell_type": "code",
   "execution_count": 24,
   "id": "970ab869",
   "metadata": {},
   "outputs": [
    {
     "name": "stdout",
     "output_type": "stream",
     "text": [
      "('Sam', 22)\n",
      "['Sam', 22]\n",
      "['Sam', 18]\n",
      "{18, 'Sam'}\n"
     ]
    }
   ],
   "source": [
    "tupla = ('Sam', 22)\n",
    "print(tupla)\n",
    "\n",
    "lista = list(tupla)\n",
    "print(lista)\n",
    "lista[1] = 18\n",
    "print(lista)\n",
    "\n",
    "conjunto = set(lista)\n",
    "print(conjunto)"
   ]
  },
  {
   "cell_type": "markdown",
   "id": "140a82f3",
   "metadata": {},
   "source": [
    "## Aprendiendo diccionarios\n",
    "\n",
    "Ahora estoy usando diccionarios, que guardan pares clave-valor.  \n",
    "Son útiles para representar información estructurada, como datos de una persona o resultados de modelos.\n",
    "\n",
    "Probé cómo obtener claves, valores y cómo recorrerlos con `.items()`."
   ]
  },
  {
   "cell_type": "code",
   "execution_count": 14,
   "id": "96d42760",
   "metadata": {},
   "outputs": [
    {
     "name": "stdout",
     "output_type": "stream",
     "text": [
      "Ivan David\n"
     ]
    }
   ],
   "source": [
    "diccionario = {\n",
    "    'nombre': 'Ivan David',\n",
    "    'apellido': 'Gomez Pariona',\n",
    "    'DNI': 74465231,\n",
    "    'trabajo': 'Ing. Sistemas'\n",
    "}\n",
    "\n",
    "# Obtener las claves\n",
    "claves = diccionario.keys()\n",
    "\n",
    "# Obtener el valor de una clave\n",
    "valor = diccionario.get('nombre')\n",
    "\n",
    "# Obtener todos los pares clave-valor\n",
    "diccionario_iterable = diccionario.items()\n",
    "\n",
    "print(valor)"
   ]
  },
  {
   "cell_type": "markdown",
   "id": "9f3223c7",
   "metadata": {},
   "source": [
    "## Aprendiendo sets\n",
    "\n",
    "Estoy aprendiendo a usar los sets en Python. Son como listas, pero sin elementos repetidos y sin orden específico.\n",
    "\n",
    "Si meto cosas repetidas en un set, solo queda una copia. También se pueden hacer operaciones como intersección, unión, diferencia, etc.\n",
    "\n",
    "Los sets normales (`set()`) son mutables, o sea, les puedo agregar elementos.  \n",
    "También existe `frozenset()`, que es un set inmutable (no se puede modificar).\n",
    "\n",
    "Acá estoy probando varios ejemplos:"
   ]
  },
  {
   "cell_type": "code",
   "execution_count": 20,
   "id": "d1c8de6d",
   "metadata": {},
   "outputs": [
    {
     "name": "stdout",
     "output_type": "stream",
     "text": [
      "{'platano', 'pera', 'manzana', 'naranja'}\n",
      "{1, 3, 4, 5, 8, 12}\n",
      "{'a', 'b', 'd', 'r', 'c'}\n",
      "{'a', 'g', 'b', 'd', 'r', 'c'}\n",
      "frozenset({'e', 'r', 'o', 'p'})\n",
      "{3, 4, 5}\n",
      "{3, 4, 5}\n",
      "{1, 2, 3, 4, 5, 6}\n",
      "{1, 2, 3, 4, 5, 6}\n",
      "{1, 2}\n",
      "{1, 2}\n",
      "{1, 2, 6}\n",
      "True\n",
      "True\n"
     ]
    }
   ],
   "source": [
    "canasta = {'manzana', 'platano', 'pera', 'manzana', 'naranja', 'pera'}\n",
    "print(canasta)\n",
    "\n",
    "numeros = {1, 3, 5, 8, 3, 4, 12, 1}\n",
    "print(numeros)\n",
    "\n",
    "a = set('abracadabra')\n",
    "print(a)\n",
    "a.add('g')\n",
    "print(a)\n",
    "\n",
    "# frozenset es inmutable\n",
    "b = frozenset('perro')\n",
    "print(b)\n",
    "# b.add('k')  # Esto lanzaría un error porque no se puede modificar\n",
    "\n",
    "# Operaciones de conjuntos\n",
    "print({1, 2, 3, 4, 5}.intersection({3, 4, 5, 6}))\n",
    "print({1, 2, 3, 4, 5} & {3, 4, 5, 6})\n",
    "\n",
    "print({1, 2, 3, 4, 5}.union({3, 4, 5, 6}))\n",
    "print({1, 2, 3, 4, 5} | {3, 4, 5, 6})\n",
    "\n",
    "print({1, 2, 3, 4, 5}.difference({3, 4, 5, 6}))\n",
    "print({1, 2, 3, 4, 5} - {3, 4, 5, 6})\n",
    "\n",
    "print({1, 2, 3, 4, 5}.symmetric_difference({3, 4, 5, 6}))\n",
    "\n",
    "print({1, 2, 3, 4, 5}.issuperset({3, 4, 5}))\n",
    "print({4, 5}.issubset({3, 4, 5, 6}))\n"
   ]
  }
 ],
 "metadata": {
  "kernelspec": {
   "display_name": "Python 3",
   "language": "python",
   "name": "python3"
  },
  "language_info": {
   "codemirror_mode": {
    "name": "ipython",
    "version": 3
   },
   "file_extension": ".py",
   "mimetype": "text/x-python",
   "name": "python",
   "nbconvert_exporter": "python",
   "pygments_lexer": "ipython3",
   "version": "3.12.6"
  }
 },
 "nbformat": 4,
 "nbformat_minor": 5
}
