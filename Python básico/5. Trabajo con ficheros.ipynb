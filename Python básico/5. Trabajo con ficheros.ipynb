{
 "cells": [
  {
   "cell_type": "code",
   "execution_count": 1,
   "id": "31bbae31",
   "metadata": {},
   "outputs": [],
   "source": [
    "fichero = open(\"prueba.txt\", \"w\")\n",
    "fichero.write(\"Esto\\n\")\n",
    "fichero.write(\"es\\n\")\n",
    "fichero.write(\"una\\n\")\n",
    "fichero.write(\"prueba\\n\")\n",
    "fichero.close()"
   ]
  },
  {
   "cell_type": "code",
   "execution_count": 2,
   "id": "f78b1ab8",
   "metadata": {},
   "outputs": [],
   "source": [
    "fichero = open(\"prueba.txt\", \"w\")\n",
    "fichero.write(\"Esto\\n\")\n",
    "fichero.write(\"es\\n\")\n",
    "fichero.write(\"otra\\n\")\n",
    "fichero.write(\"prueba\\n\")\n",
    "fichero.close()"
   ]
  },
  {
   "cell_type": "code",
   "execution_count": 3,
   "id": "382282a1",
   "metadata": {},
   "outputs": [],
   "source": [
    "fichero = open(\"prueba.txt\", \"a\")\n",
    "fichero.write(\"más\\n\")\n",
    "fichero.close()"
   ]
  },
  {
   "cell_type": "code",
   "execution_count": 4,
   "id": "9b92fa2c",
   "metadata": {},
   "outputs": [],
   "source": [
    "fichero = open(\"prueba.txt\", \"r\")\n",
    "contenido = fichero.read()\n",
    "fichero.close()"
   ]
  },
  {
   "cell_type": "code",
   "execution_count": 5,
   "id": "f1f0af9c",
   "metadata": {},
   "outputs": [
    {
     "name": "stdout",
     "output_type": "stream",
     "text": [
      "Esto\n",
      "\n",
      "es\n",
      "\n",
      "otra\n",
      "\n",
      "prueba\n",
      "\n",
      "más\n",
      "\n"
     ]
    }
   ],
   "source": [
    "fichero = open(\"prueba.txt\", \"r\")\n",
    "for linea in fichero:\n",
    "    print (linea)\n",
    "fichero.close()"
   ]
  }
 ],
 "metadata": {
  "kernelspec": {
   "display_name": "Python 3",
   "language": "python",
   "name": "python3"
  },
  "language_info": {
   "codemirror_mode": {
    "name": "ipython",
    "version": 3
   },
   "file_extension": ".py",
   "mimetype": "text/x-python",
   "name": "python",
   "nbconvert_exporter": "python",
   "pygments_lexer": "ipython3",
   "version": "3.12.6"
  }
 },
 "nbformat": 4,
 "nbformat_minor": 5
}
