{
 "cells": [
  {
   "cell_type": "code",
   "execution_count": 1,
   "id": "68e2fa11",
   "metadata": {},
   "outputs": [],
   "source": [
    "from pydantic import BaseModel, EmailStr"
   ]
  },
  {
   "cell_type": "code",
   "execution_count": 17,
   "id": "43e2c410",
   "metadata": {},
   "outputs": [],
   "source": [
    "class UserIn(BaseModel):\n",
    "    username: str\n",
    "    password: str\n",
    "    email: EmailStr\n",
    "    full_name: str | None = None\n",
    "\n",
    "\n",
    "class UserOut(BaseModel):\n",
    "    username: str\n",
    "    email: EmailStr\n",
    "    full_name: str | None = None\n",
    "\n",
    "\n",
    "class UserInDB(BaseModel):\n",
    "    username: str\n",
    "    hashed_password: str\n",
    "    email: EmailStr\n",
    "    full_name: str | None = None\n"
   ]
  },
  {
   "cell_type": "code",
   "execution_count": 18,
   "id": "6dfc8776",
   "metadata": {},
   "outputs": [],
   "source": [
    "user_in = UserIn(username=\"john\", password=\"secret\", email=\"ivan.dgp0@gmail.com\")"
   ]
  },
  {
   "cell_type": "code",
   "execution_count": 19,
   "id": "c433e905",
   "metadata": {},
   "outputs": [
    {
     "name": "stdout",
     "output_type": "stream",
     "text": [
      "username='john' password='secret' email='ivan.dgp0@gmail.com' full_name=None\n"
     ]
    }
   ],
   "source": [
    "print(user_in)"
   ]
  },
  {
   "cell_type": "code",
   "execution_count": 20,
   "id": "79137822",
   "metadata": {},
   "outputs": [
    {
     "name": "stderr",
     "output_type": "stream",
     "text": [
      "C:\\Users\\ASUS\\AppData\\Local\\Temp\\ipykernel_24988\\3959922733.py:1: PydanticDeprecatedSince20: The `dict` method is deprecated; use `model_dump` instead. Deprecated in Pydantic V2.0 to be removed in V3.0. See Pydantic V2 Migration Guide at https://errors.pydantic.dev/2.11/migration/\n",
      "  user_dict = user_in.dict()\n"
     ]
    }
   ],
   "source": [
    "user_dict = user_in.dict()"
   ]
  },
  {
   "cell_type": "code",
   "execution_count": 21,
   "id": "d498058e",
   "metadata": {},
   "outputs": [
    {
     "name": "stdout",
     "output_type": "stream",
     "text": [
      "{'username': 'john', 'password': 'secret', 'email': 'ivan.dgp0@gmail.com', 'full_name': None}\n"
     ]
    }
   ],
   "source": [
    "print(user_dict)"
   ]
  },
  {
   "cell_type": "code",
   "execution_count": 22,
   "id": "04b46e92",
   "metadata": {},
   "outputs": [],
   "source": [
    "def fake_password_hasher(raw_password: str):\n",
    "    return \"supersecret\" + raw_password\n",
    "\n",
    "\n",
    "def fake_save_user(user_in: UserIn):\n",
    "    hashed_password = fake_password_hasher(user_in.password)\n",
    "    user_in_db = UserInDB(**user_in.dict(), hashed_password=hashed_password)\n",
    "    print(\"User saved! ..not really\")\n",
    "    return user_in_db"
   ]
  },
  {
   "cell_type": "code",
   "execution_count": 23,
   "id": "76bf525e",
   "metadata": {},
   "outputs": [
    {
     "name": "stderr",
     "output_type": "stream",
     "text": [
      "C:\\Users\\ASUS\\AppData\\Local\\Temp\\ipykernel_24988\\952522819.py:1: PydanticDeprecatedSince20: The `dict` method is deprecated; use `model_dump` instead. Deprecated in Pydantic V2.0 to be removed in V3.0. See Pydantic V2 Migration Guide at https://errors.pydantic.dev/2.11/migration/\n",
      "  UserInDB(**user_in.dict(), hashed_password=hashed_password)\n"
     ]
    },
    {
     "ename": "NameError",
     "evalue": "name 'hashed_password' is not defined",
     "output_type": "error",
     "traceback": [
      "\u001b[1;31m---------------------------------------------------------------------------\u001b[0m",
      "\u001b[1;31mNameError\u001b[0m                                 Traceback (most recent call last)",
      "Cell \u001b[1;32mIn[23], line 1\u001b[0m\n\u001b[1;32m----> 1\u001b[0m UserInDB(\u001b[38;5;241m*\u001b[39m\u001b[38;5;241m*\u001b[39muser_in\u001b[38;5;241m.\u001b[39mdict(), hashed_password\u001b[38;5;241m=\u001b[39m\u001b[43mhashed_password\u001b[49m)\n",
      "\u001b[1;31mNameError\u001b[0m: name 'hashed_password' is not defined"
     ]
    }
   ],
   "source": [
    "UserInDB(**user_in.dict(), hashed_password=hashed_password)"
   ]
  }
 ],
 "metadata": {
  "kernelspec": {
   "display_name": "Python 3",
   "language": "python",
   "name": "python3"
  },
  "language_info": {
   "codemirror_mode": {
    "name": "ipython",
    "version": 3
   },
   "file_extension": ".py",
   "mimetype": "text/x-python",
   "name": "python",
   "nbconvert_exporter": "python",
   "pygments_lexer": "ipython3",
   "version": "3.12.6"
  }
 },
 "nbformat": 4,
 "nbformat_minor": 5
}
