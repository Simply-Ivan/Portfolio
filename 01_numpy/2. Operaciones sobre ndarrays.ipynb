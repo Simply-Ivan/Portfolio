{
 "cells": [
  {
   "cell_type": "code",
   "execution_count": 1,
   "id": "b8eb0cc4",
   "metadata": {},
   "outputs": [],
   "source": [
    "import numpy as np"
   ]
  },
  {
   "cell_type": "markdown",
   "id": "c2eb1953",
   "metadata": {},
   "source": [
    "- **abs, fabs:** Valor absoluto\n",
    "- **sqrt:** Raíz cuadrada (equivalente a array**0.5)\n",
    "- **square:** Potencia al cuadrado (equivalente a array**2)\n",
    "- **exp:** Potencia de e\n",
    "- **log, log2, log10, log1p:** Logaritmos en distintas bases\n",
    "- **sign:** Signo (+ = 1 /- = -1 / 0 = 0)\n",
    "- **ceil:** Techo\n",
    "- **floor:** Suelo\n",
    "- **rint:** Redondo al entero más cercano\n",
    "- **modf:** Devuelve dos arrays uno con la parte fraccionaria y otro con la parte entera\n",
    "- **isnan:** Devuelve un array booleano indicando si el valor es NaN o no\n",
    "- **isfinite, isinf:** Devuelve un array booleano indicando si el valor es finito o infinito\n",
    "- **cos, cosh, sin, sinh, tan, tanh:** Funciones trigonométricas\n",
    "- **arccos, arccosh, arcsin, arcsinh, arctan, arctanh:** Funciones trigonométricas inversas\n",
    "- **logical_not:** Inverso booleano en todos los valores del array (equivalente a ~(array))"
   ]
  },
  {
   "cell_type": "code",
   "execution_count": 2,
   "id": "67d98833",
   "metadata": {},
   "outputs": [
    {
     "data": {
      "text/plain": [
       "array([1. , 2. , 3. , 4.8, 5.7, 6.5])"
      ]
     },
     "execution_count": 2,
     "metadata": {},
     "output_type": "execute_result"
    }
   ],
   "source": [
    "array = np.array([-1, 2, 3., -4.8, 5.7, 6.5])\n",
    "np.abs(array)"
   ]
  },
  {
   "cell_type": "code",
   "execution_count": 3,
   "id": "eaba5fbe",
   "metadata": {},
   "outputs": [
    {
     "name": "stderr",
     "output_type": "stream",
     "text": [
      "C:\\Users\\ASUS\\AppData\\Local\\Temp\\ipykernel_23548\\1305867869.py:1: RuntimeWarning: invalid value encountered in sqrt\n",
      "  np.sqrt(array)\n"
     ]
    },
    {
     "data": {
      "text/plain": [
       "array([       nan, 1.41421356, 1.73205081,        nan, 2.38746728,\n",
       "       2.54950976])"
      ]
     },
     "execution_count": 3,
     "metadata": {},
     "output_type": "execute_result"
    }
   ],
   "source": [
    "np.sqrt(array)"
   ]
  },
  {
   "cell_type": "code",
   "execution_count": 4,
   "id": "1c2d2724",
   "metadata": {},
   "outputs": [
    {
     "data": {
      "text/plain": [
       "array([ 1.  ,  4.  ,  9.  , 23.04, 32.49, 42.25])"
      ]
     },
     "execution_count": 4,
     "metadata": {},
     "output_type": "execute_result"
    }
   ],
   "source": [
    "np.square(array)"
   ]
  },
  {
   "cell_type": "code",
   "execution_count": 5,
   "id": "8e4ed986",
   "metadata": {},
   "outputs": [
    {
     "data": {
      "text/plain": [
       "array([3.67879441e-01, 7.38905610e+00, 2.00855369e+01, 8.22974705e-03,\n",
       "       2.98867401e+02, 6.65141633e+02])"
      ]
     },
     "execution_count": 5,
     "metadata": {},
     "output_type": "execute_result"
    }
   ],
   "source": [
    "np.exp(array)"
   ]
  },
  {
   "cell_type": "code",
   "execution_count": 6,
   "id": "a883ab23",
   "metadata": {},
   "outputs": [
    {
     "data": {
      "text/plain": [
       "array([-1.,  1.,  1., -1.,  1.,  1.])"
      ]
     },
     "execution_count": 6,
     "metadata": {},
     "output_type": "execute_result"
    }
   ],
   "source": [
    "np.sign(array)"
   ]
  },
  {
   "cell_type": "code",
   "execution_count": 7,
   "id": "73f234c6",
   "metadata": {},
   "outputs": [
    {
     "data": {
      "text/plain": [
       "array([-1.,  2.,  3., -4.,  6.,  7.])"
      ]
     },
     "execution_count": 7,
     "metadata": {},
     "output_type": "execute_result"
    }
   ],
   "source": [
    "np.ceil(array)"
   ]
  },
  {
   "cell_type": "markdown",
   "id": "eece08d1",
   "metadata": {},
   "source": [
    "- **add:** Adición de los elementos de los dos arrays (equivalente a array1 + array2)\n",
    "- **subtract:** Resta de los elementos de los dos arrays (equivalente a array1 - array2)\n",
    "- **multiply:** Multiplica los elementos de los dos arrays (equivale a array1 * array2)\n",
    "- **divide, floor_divide:** Divide los elementos de los dos arrays (equivale a array1 / (o //) array2)\n",
    "- **power:** Eleva los elementos del primer array a las potencias del segundo (equivalente a array1**array2)\n",
    "- **maximum, fmax:** Calcula el máximo de los dos arrays (elemento a elemento) fmax ignora NaN\n",
    "- **minimum, fmin:** Calcula el mínimo de los dos arrays (elemento a elemento) fmin ignora NaN\n",
    "- **mod:** Calcula el resto de la división de los dos arrays (equivalente a array1 % array2)\n",
    "- **greater, greater_equal, less, less_equal, not_equal:** Comparativas sobre los elementos de ambos ndarrays (elemento a elemento)\n",
    "- **logical_and, logical_or:** Operaciones booleanas sobre los elementos de ambos ndarrays (elemento a elemento)"
   ]
  },
  {
   "cell_type": "code",
   "execution_count": 8,
   "id": "ab1df124",
   "metadata": {},
   "outputs": [
    {
     "data": {
      "text/plain": [
       "array([[-0.3946433 ,  0.42225994, -0.28939241, -1.77950702, -1.49871538],\n",
       "       [-0.52119306,  1.59778007,  0.7277566 ,  0.56064734, -0.2881683 ],\n",
       "       [ 0.91394297, -0.59383781,  0.90862366, -0.30149954, -0.35164392],\n",
       "       [-0.01268753,  0.1086001 ,  0.95845287,  0.94192515, -0.68595871],\n",
       "       [ 0.95860489,  0.94858305,  0.5068459 ,  1.237839  ,  0.28447973]])"
      ]
     },
     "execution_count": 8,
     "metadata": {},
     "output_type": "execute_result"
    }
   ],
   "source": [
    "array1 = np.random.randn(5,5)\n",
    "array1"
   ]
  },
  {
   "cell_type": "code",
   "execution_count": 9,
   "id": "76e1b214",
   "metadata": {},
   "outputs": [
    {
     "data": {
      "text/plain": [
       "array([[-0.48870103, -0.28210498,  0.30200056, -0.15826955, -0.48385084],\n",
       "       [-0.29634003,  0.16091397, -1.14862479,  0.89565838,  0.77711896],\n",
       "       [-0.94603571, -0.60533446,  1.75250084, -0.12023576,  1.73313062],\n",
       "       [ 1.9100795 , -0.11513419,  1.74241852, -2.30408166,  0.78633692],\n",
       "       [ 1.60987829, -0.67769065,  0.21563582,  1.92997179, -0.48774573]])"
      ]
     },
     "execution_count": 9,
     "metadata": {},
     "output_type": "execute_result"
    }
   ],
   "source": [
    "array2 = np.random.randn(5,5)\n",
    "array2"
   ]
  },
  {
   "cell_type": "code",
   "execution_count": 10,
   "id": "8d3683ff",
   "metadata": {},
   "outputs": [
    {
     "data": {
      "text/plain": [
       "array([[ True,  True,  True,  True,  True],\n",
       "       [ True,  True,  True,  True,  True],\n",
       "       [ True,  True,  True,  True,  True],\n",
       "       [ True,  True,  True,  True,  True],\n",
       "       [ True,  True,  True,  True,  True]])"
      ]
     },
     "execution_count": 10,
     "metadata": {},
     "output_type": "execute_result"
    }
   ],
   "source": [
    "np.logical_and(array1, array2)"
   ]
  },
  {
   "cell_type": "code",
   "execution_count": 11,
   "id": "0333c5cf",
   "metadata": {},
   "outputs": [
    {
     "data": {
      "text/plain": [
       "array([[ 8.07535218e-01, -1.49681845e+00, -9.58251243e-01,\n",
       "         1.12435213e+01,  3.09747399e+00],\n",
       "       [ 1.75876700e+00,  9.92940584e+00, -6.33589495e-01,\n",
       "         6.25961140e-01, -3.70816200e-01],\n",
       "       [-9.66076603e-01,  9.81007761e-01,  5.18472595e-01,\n",
       "         2.50756973e+00, -2.02895222e-01],\n",
       "       [-6.64241006e-03, -9.43248053e-01,  5.50070410e-01,\n",
       "        -4.08807192e-01, -8.72347081e-01],\n",
       "       [ 5.95451780e-01, -1.39972869e+00,  2.35047169e+00,\n",
       "         6.41376731e-01, -5.83254174e-01]])"
      ]
     },
     "execution_count": 11,
     "metadata": {},
     "output_type": "execute_result"
    }
   ],
   "source": [
    "np.divide(array1,array2)"
   ]
  },
  {
   "cell_type": "code",
   "execution_count": 12,
   "id": "ca1031b8",
   "metadata": {},
   "outputs": [
    {
     "data": {
      "text/plain": [
       "array([[ 0., -2., -1., 11.,  3.],\n",
       "       [ 1.,  9., -1.,  0., -1.],\n",
       "       [-1.,  0.,  0.,  2., -1.],\n",
       "       [-1., -1.,  0., -1., -1.],\n",
       "       [ 0., -2.,  2.,  0., -1.]])"
      ]
     },
     "execution_count": 12,
     "metadata": {},
     "output_type": "execute_result"
    }
   ],
   "source": [
    "np.floor_divide(array1,array2)"
   ]
  },
  {
   "cell_type": "code",
   "execution_count": 13,
   "id": "b8e798dc",
   "metadata": {},
   "outputs": [
    {
     "data": {
      "text/plain": [
       "array([[-1.99580661,  0.1130353 ,  0.06153351, -0.75734572,  1.67748005],\n",
       "       [ 0.28413778,  0.5060934 , -0.71884597, -0.18622846, -0.44161433],\n",
       "       [-0.06271852,  0.51999825,  1.44703135,  0.5736031 , -1.21340847],\n",
       "       [ 0.76105099, -0.27992305,  1.47599324, -1.41293754, -0.02524464],\n",
       "       [-1.26874859,  1.54996405,  0.72028584,  0.98446179,  0.65285199]])"
      ]
     },
     "execution_count": 13,
     "metadata": {},
     "output_type": "execute_result"
    }
   ],
   "source": [
    "array1 = np.random.randn(5,5)\n",
    "array1"
   ]
  },
  {
   "cell_type": "code",
   "execution_count": 14,
   "id": "66218c40",
   "metadata": {},
   "outputs": [
    {
     "data": {
      "text/plain": [
       "array([[ 0.78621436, -0.53616526,  0.03252657,  0.17505754, -1.5042825 ],\n",
       "       [ 0.01252362, -0.11708351, -1.44114422,  0.599949  ,  0.58773158],\n",
       "       [ 0.78527237,  0.53195878, -0.95626345,  0.70997642, -0.30753797],\n",
       "       [-1.58858267, -1.1292701 , -0.05980934, -0.81662038, -0.57719994],\n",
       "       [-0.58738111, -0.02319338, -0.13448563, -2.14140819,  0.24450207]])"
      ]
     },
     "execution_count": 14,
     "metadata": {},
     "output_type": "execute_result"
    }
   ],
   "source": [
    "array2 = np.random.randn(5,5)\n",
    "array2"
   ]
  },
  {
   "cell_type": "code",
   "execution_count": 15,
   "id": "e9fea048",
   "metadata": {},
   "outputs": [
    {
     "data": {
      "text/plain": [
       "array([[-1.99580661, -0.53616526,  0.03252657, -0.75734572, -1.5042825 ],\n",
       "       [ 0.01252362, -0.11708351, -1.44114422, -0.18622846, -0.44161433],\n",
       "       [-0.06271852,  0.51999825, -0.95626345,  0.5736031 , -1.21340847],\n",
       "       [-1.58858267, -1.1292701 , -0.05980934, -1.41293754, -0.57719994],\n",
       "       [-1.26874859, -0.02319338, -0.13448563, -2.14140819,  0.24450207]])"
      ]
     },
     "execution_count": 15,
     "metadata": {},
     "output_type": "execute_result"
    }
   ],
   "source": [
    "# Función condicional\n",
    "np.where(array1 < array2, array1, array2)"
   ]
  },
  {
   "cell_type": "code",
   "execution_count": 16,
   "id": "c2fb0f2a",
   "metadata": {},
   "outputs": [
    {
     "data": {
      "text/plain": [
       "array([[ 0.        , -0.53616526,  0.03252657,  0.        , -1.5042825 ],\n",
       "       [ 0.01252362, -0.11708351, -1.44114422,  0.        ,  0.        ],\n",
       "       [ 0.        ,  0.51999825, -0.95626345,  0.5736031 ,  0.        ],\n",
       "       [-1.58858267, -1.1292701 , -0.05980934,  0.        , -0.57719994],\n",
       "       [ 0.        , -0.02319338, -0.13448563, -2.14140819,  0.24450207]])"
      ]
     },
     "execution_count": 16,
     "metadata": {},
     "output_type": "execute_result"
    }
   ],
   "source": [
    "# Anidación de condiciones\n",
    "np.where(array1 < array2, np.where(array1 < 0, 0, array1), array2)"
   ]
  },
  {
   "cell_type": "markdown",
   "id": "a40bbc3c",
   "metadata": {},
   "source": [
    "- **sum:** Suma de elementos\n",
    "- **mean:** Media aritmética de los elementos\n",
    "- **median:** Mediana de los alementos\n",
    "- **std:** Desviación estándar de los elementos\n",
    "- **var:** Varianza de los elementos\n",
    "- **min:** Valor mínimo de los elementos\n",
    "- **max:** Valor máximo de los elementos\n",
    "- **argmin:** Índice del valor mínimo\n",
    "- **argmax:** Índice del valor máximo\n",
    "- **cumsum:** Suma acumulada de los elementos\n",
    "- **cumprod:** Producto acumulado de los elementos"
   ]
  },
  {
   "cell_type": "code",
   "execution_count": 17,
   "id": "54b42f29",
   "metadata": {},
   "outputs": [
    {
     "data": {
      "text/plain": [
       "array([[ 0.81837577, -0.44433379, -1.44851587, -2.53796668],\n",
       "       [-1.07955993, -0.06931082,  2.28384433, -0.77471013],\n",
       "       [-0.07690668,  0.0826777 , -0.15326353, -1.50374004],\n",
       "       [-2.38307435, -2.13841739, -0.37191721,  1.45958387],\n",
       "       [-1.45338076,  0.10811744, -0.77446782,  0.99624914]])"
      ]
     },
     "execution_count": 17,
     "metadata": {},
     "output_type": "execute_result"
    }
   ],
   "source": [
    "array = np.random.randn(5,4)\n",
    "array"
   ]
  },
  {
   "cell_type": "code",
   "execution_count": 18,
   "id": "6b666b80",
   "metadata": {},
   "outputs": [
    {
     "data": {
      "text/plain": [
       "array([[ 0.89033132,  0.11333839,  1.06257441, -0.9742079 ],\n",
       "       [-2.29176869,  0.7071412 , -0.74824422, -0.18396436],\n",
       "       [ 0.54431595, -0.48842897, -1.46301326, -1.03398561],\n",
       "       [-0.5512733 , -1.02313113, -0.16529772, -0.54416523],\n",
       "       [ 0.66114298,  1.93584032,  0.03397144, -0.70004155]])"
      ]
     },
     "execution_count": 18,
     "metadata": {},
     "output_type": "execute_result"
    }
   ],
   "source": [
    "array = np.random.randn(5,4)\n",
    "array"
   ]
  },
  {
   "cell_type": "code",
   "execution_count": 19,
   "id": "f1299afb",
   "metadata": {},
   "outputs": [
    {
     "data": {
      "text/plain": [
       "np.float64(-4.218865930070056)"
      ]
     },
     "execution_count": 19,
     "metadata": {},
     "output_type": "execute_result"
    }
   ],
   "source": [
    "# Operación global\n",
    "np.sum(array)"
   ]
  },
  {
   "cell_type": "code",
   "execution_count": 20,
   "id": "838ac243",
   "metadata": {},
   "outputs": [
    {
     "data": {
      "text/plain": [
       "array([-0.74725175,  1.24475982, -1.28000935, -3.43636465])"
      ]
     },
     "execution_count": 20,
     "metadata": {},
     "output_type": "execute_result"
    }
   ],
   "source": [
    "# Operación por columnas\n",
    "np.sum(array, axis=0)"
   ]
  },
  {
   "cell_type": "code",
   "execution_count": 21,
   "id": "5adb0939",
   "metadata": {},
   "outputs": [
    {
     "data": {
      "text/plain": [
       "array([ 1.09203622, -2.51683606, -2.44111189, -2.28386739,  1.93091319])"
      ]
     },
     "execution_count": 21,
     "metadata": {},
     "output_type": "execute_result"
    }
   ],
   "source": [
    "# Operaciones por filas\n",
    "np.sum(array, axis=1)"
   ]
  },
  {
   "cell_type": "code",
   "execution_count": 22,
   "id": "1f587315",
   "metadata": {},
   "outputs": [
    {
     "data": {
      "text/plain": [
       "np.float64(-4.218865930070056)"
      ]
     },
     "execution_count": 22,
     "metadata": {},
     "output_type": "execute_result"
    }
   ],
   "source": [
    "array.sum()"
   ]
  },
  {
   "cell_type": "code",
   "execution_count": 23,
   "id": "ca460761",
   "metadata": {},
   "outputs": [
    {
     "data": {
      "text/plain": [
       "np.int64(17)"
      ]
     },
     "execution_count": 23,
     "metadata": {},
     "output_type": "execute_result"
    }
   ],
   "source": [
    "np.argmax(array)"
   ]
  },
  {
   "cell_type": "code",
   "execution_count": 24,
   "id": "5a339790",
   "metadata": {},
   "outputs": [
    {
     "data": {
      "text/plain": [
       "np.int64(4)"
      ]
     },
     "execution_count": 24,
     "metadata": {},
     "output_type": "execute_result"
    }
   ],
   "source": [
    "np.argmin(array)"
   ]
  },
  {
   "cell_type": "code",
   "execution_count": 25,
   "id": "97ec30d2",
   "metadata": {},
   "outputs": [
    {
     "data": {
      "text/plain": [
       "array([ 0.89033132,  1.00366971,  2.06624412,  1.09203622, -1.19973247,\n",
       "       -0.49259127, -1.24083549, -1.42479984, -0.88048389, -1.36891287,\n",
       "       -2.83192613, -3.86591173, -4.41718503, -5.44031616, -5.60561389,\n",
       "       -6.14977912, -5.48863614, -3.55279582, -3.51882438, -4.21886593])"
      ]
     },
     "execution_count": 25,
     "metadata": {},
     "output_type": "execute_result"
    }
   ],
   "source": [
    "np.cumsum(array)"
   ]
  },
  {
   "cell_type": "code",
   "execution_count": 26,
   "id": "93e59378",
   "metadata": {},
   "outputs": [
    {
     "data": {
      "text/plain": [
       "array([ 8.90331320e-01,  1.00908718e-01,  1.07223021e-01, -1.04457514e-01,\n",
       "        2.39392461e-01,  1.69284273e-01, -1.26665979e-01,  2.33020252e-02,\n",
       "        1.26836640e-02, -6.19506900e-03,  9.06346809e-03, -9.37149554e-03,\n",
       "        5.16625530e-03, -5.28575661e-03,  8.73723531e-04, -4.75449969e-04,\n",
       "       -3.14340407e-04, -6.08512836e-04, -2.06720592e-05,  1.44713005e-05])"
      ]
     },
     "execution_count": 26,
     "metadata": {},
     "output_type": "execute_result"
    }
   ],
   "source": [
    "np.cumprod(array)"
   ]
  },
  {
   "cell_type": "code",
   "execution_count": 27,
   "id": "f6e1f266",
   "metadata": {},
   "outputs": [
    {
     "data": {
      "text/plain": [
       "array([[-0.22845334, -0.49326747,  1.78701058,  2.06387964,  0.17519315],\n",
       "       [-0.8371127 , -1.11085089, -0.67918091, -0.56853014,  0.99559436],\n",
       "       [-0.02338853, -0.0599453 , -0.95138683, -1.07920203,  0.08625623],\n",
       "       [ 0.16531062,  0.10566658,  1.32042608,  0.07194379, -1.1263263 ],\n",
       "       [-1.13166856,  0.20300967, -0.21950877,  2.05075235,  0.24139299]])"
      ]
     },
     "execution_count": 27,
     "metadata": {},
     "output_type": "execute_result"
    }
   ],
   "source": [
    "array = np.random.randn(5, 5)\n",
    "array"
   ]
  },
  {
   "cell_type": "code",
   "execution_count": 28,
   "id": "8e37934a",
   "metadata": {},
   "outputs": [
    {
     "data": {
      "text/plain": [
       "np.int64(12)"
      ]
     },
     "execution_count": 28,
     "metadata": {},
     "output_type": "execute_result"
    }
   ],
   "source": [
    "# Elementos mayores que 0\n",
    "(array > 0).sum()"
   ]
  },
  {
   "cell_type": "code",
   "execution_count": 29,
   "id": "4709e911",
   "metadata": {},
   "outputs": [
    {
     "data": {
      "text/plain": [
       "np.int64(13)"
      ]
     },
     "execution_count": 29,
     "metadata": {},
     "output_type": "execute_result"
    }
   ],
   "source": [
    "# Elementos mayores que la media\n",
    "(array < array.mean()).sum()"
   ]
  },
  {
   "cell_type": "code",
   "execution_count": 30,
   "id": "79d351f8",
   "metadata": {},
   "outputs": [
    {
     "data": {
      "text/plain": [
       "np.False_"
      ]
     },
     "execution_count": 30,
     "metadata": {},
     "output_type": "execute_result"
    }
   ],
   "source": [
    "# Algunos de los elementos cumple la condición\n",
    "(array == 0).any()"
   ]
  },
  {
   "cell_type": "code",
   "execution_count": 31,
   "id": "7037fca1",
   "metadata": {},
   "outputs": [
    {
     "data": {
      "text/plain": [
       "np.False_"
      ]
     },
     "execution_count": 31,
     "metadata": {},
     "output_type": "execute_result"
    }
   ],
   "source": [
    "# Todos lo elementos cumple la condición\n",
    "((array >= -2) & (array <= 2)).all()"
   ]
  },
  {
   "cell_type": "code",
   "execution_count": 32,
   "id": "9e01ff38",
   "metadata": {
    "scrolled": true
   },
   "outputs": [
    {
     "data": {
      "text/plain": [
       "array([[ 0.87039929, -0.08709707, -0.11188016,  0.88551135, -1.12669532],\n",
       "       [-0.39660017, -1.20742511,  0.58088083,  0.43320969,  0.1393577 ],\n",
       "       [-0.07209844, -0.00324558,  0.14076135,  1.91673613,  1.29312667],\n",
       "       [-0.51078148,  1.29413241, -1.06721938,  2.82122104, -1.32481968],\n",
       "       [ 0.35684488,  0.26682475,  1.51509264, -0.25212183, -1.40849978]])"
      ]
     },
     "execution_count": 32,
     "metadata": {},
     "output_type": "execute_result"
    }
   ],
   "source": [
    "array = np.random.randn(5, 5)\n",
    "array"
   ]
  },
  {
   "cell_type": "code",
   "execution_count": 33,
   "id": "cb855b9a",
   "metadata": {},
   "outputs": [
    {
     "data": {
      "text/plain": [
       "array([[-1.12669532, -0.11188016, -0.08709707,  0.87039929,  0.88551135],\n",
       "       [-1.20742511, -0.39660017,  0.1393577 ,  0.43320969,  0.58088083],\n",
       "       [-0.07209844, -0.00324558,  0.14076135,  1.29312667,  1.91673613],\n",
       "       [-1.32481968, -1.06721938, -0.51078148,  1.29413241,  2.82122104],\n",
       "       [-1.40849978, -0.25212183,  0.26682475,  0.35684488,  1.51509264]])"
      ]
     },
     "execution_count": 33,
     "metadata": {},
     "output_type": "execute_result"
    }
   ],
   "source": [
    "# Datos ordenados\n",
    "np.sort(array)"
   ]
  },
  {
   "cell_type": "code",
   "execution_count": 34,
   "id": "52ae0091",
   "metadata": {},
   "outputs": [
    {
     "data": {
      "text/plain": [
       "array([[-0.51078148, -1.20742511, -1.06721938, -0.25212183, -1.40849978],\n",
       "       [-0.39660017, -0.08709707, -0.11188016,  0.43320969, -1.32481968],\n",
       "       [-0.07209844, -0.00324558,  0.14076135,  0.88551135, -1.12669532],\n",
       "       [ 0.35684488,  0.26682475,  0.58088083,  1.91673613,  0.1393577 ],\n",
       "       [ 0.87039929,  1.29413241,  1.51509264,  2.82122104,  1.29312667]])"
      ]
     },
     "execution_count": 34,
     "metadata": {},
     "output_type": "execute_result"
    }
   ],
   "source": [
    "# Datos ordenados según el primer eje\n",
    "np.sort(array, axis = 0)"
   ]
  },
  {
   "cell_type": "markdown",
   "id": "9b6390eb",
   "metadata": {},
   "source": [
    "- **unique:** Calcula el conjunto único de elementos sin duplicados.\n",
    "- **intersect1d:** Calcula la intersección de los elementos de dos arrays.\n",
    "- **union1d:** Calcula la unión de los elementos de dos arrays.\n",
    "- **in1d:** Calcula un array booleano que indica si cada elemento del primer array contenido en el segundo.\n",
    "- **setdiff1d:** Calcula la diferencia entre ambos conjuntos.\n",
    "- **setxor1d:** Calcula la diferencia simétrica entre ambos conjuntos."
   ]
  },
  {
   "cell_type": "code",
   "execution_count": 35,
   "id": "cd970f3c",
   "metadata": {},
   "outputs": [
    {
     "data": {
      "text/plain": [
       "array([6, 0, 0, 0, 3, 2, 5, 6])"
      ]
     },
     "execution_count": 35,
     "metadata": {},
     "output_type": "execute_result"
    }
   ],
   "source": [
    "array1 = np.array([6, 0, 0, 0, 3, 2, 5, 6])\n",
    "array1"
   ]
  },
  {
   "cell_type": "code",
   "execution_count": 36,
   "id": "f15d1803",
   "metadata": {},
   "outputs": [
    {
     "data": {
      "text/plain": [
       "array([7, 4, 3, 1, 2, 6, 5])"
      ]
     },
     "execution_count": 36,
     "metadata": {},
     "output_type": "execute_result"
    }
   ],
   "source": [
    "array2= np.array([7, 4, 3, 1, 2, 6, 5])\n",
    "array2"
   ]
  },
  {
   "cell_type": "code",
   "execution_count": 37,
   "id": "1b265818",
   "metadata": {},
   "outputs": [
    {
     "data": {
      "text/plain": [
       "array([0, 2, 3, 5, 6])"
      ]
     },
     "execution_count": 37,
     "metadata": {},
     "output_type": "execute_result"
    }
   ],
   "source": [
    "np.unique(array1)"
   ]
  },
  {
   "cell_type": "code",
   "execution_count": 38,
   "id": "25b3333f",
   "metadata": {},
   "outputs": [
    {
     "data": {
      "text/plain": [
       "array([0, 1, 2, 3, 4, 5, 6, 7])"
      ]
     },
     "execution_count": 38,
     "metadata": {},
     "output_type": "execute_result"
    }
   ],
   "source": [
    "np.union1d(array1, array2)"
   ]
  },
  {
   "cell_type": "code",
   "execution_count": 39,
   "id": "10bcf205",
   "metadata": {},
   "outputs": [
    {
     "name": "stderr",
     "output_type": "stream",
     "text": [
      "C:\\Users\\ASUS\\AppData\\Local\\Temp\\ipykernel_23548\\1784259358.py:1: DeprecationWarning: `in1d` is deprecated. Use `np.isin` instead.\n",
      "  np.in1d(array1, array2)\n"
     ]
    },
    {
     "data": {
      "text/plain": [
       "array([ True, False, False, False,  True,  True,  True,  True])"
      ]
     },
     "execution_count": 39,
     "metadata": {},
     "output_type": "execute_result"
    }
   ],
   "source": [
    "np.in1d(array1, array2)"
   ]
  }
 ],
 "metadata": {
  "kernelspec": {
   "display_name": "Python 3",
   "language": "python",
   "name": "python3"
  },
  "language_info": {
   "codemirror_mode": {
    "name": "ipython",
    "version": 3
   },
   "file_extension": ".py",
   "mimetype": "text/x-python",
   "name": "python",
   "nbconvert_exporter": "python",
   "pygments_lexer": "ipython3",
   "version": "3.12.6"
  }
 },
 "nbformat": 4,
 "nbformat_minor": 5
}
