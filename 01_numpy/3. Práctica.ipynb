{
 "cells": [
  {
   "cell_type": "code",
   "execution_count": 33,
   "id": "b27bdb07",
   "metadata": {},
   "outputs": [],
   "source": [
    "import numpy as np"
   ]
  },
  {
   "cell_type": "code",
   "execution_count": 34,
   "id": "2b7e92f1",
   "metadata": {},
   "outputs": [
    {
     "data": {
      "text/plain": [
       "array([0, 0, 0, 0, 0, 0])"
      ]
     },
     "execution_count": 34,
     "metadata": {},
     "output_type": "execute_result"
    }
   ],
   "source": [
    "lista = np.zeros_like([2,3,4,5,6,7])\n",
    "lista"
   ]
  },
  {
   "cell_type": "code",
   "execution_count": 35,
   "id": "f20d6814",
   "metadata": {},
   "outputs": [
    {
     "data": {
      "text/plain": [
       "array([[1., 0., 0.],\n",
       "       [0., 1., 0.],\n",
       "       [0., 0., 1.]])"
      ]
     },
     "execution_count": 35,
     "metadata": {},
     "output_type": "execute_result"
    }
   ],
   "source": [
    "np.identity(3)"
   ]
  },
  {
   "cell_type": "code",
   "execution_count": 36,
   "id": "6fd48a63",
   "metadata": {},
   "outputs": [
    {
     "name": "stdout",
     "output_type": "stream",
     "text": [
      "int64\n"
     ]
    },
    {
     "data": {
      "text/plain": [
       "array([ 2,  4,  5,  6,  2, 66, 13, 18, 12, 76,  7,  8])"
      ]
     },
     "execution_count": 36,
     "metadata": {},
     "output_type": "execute_result"
    }
   ],
   "source": [
    "lista = np.array([2,4,5,6,2,66,13,18,12,76,7,8])\n",
    "print(lista.dtype)\n",
    "lista"
   ]
  },
  {
   "cell_type": "code",
   "execution_count": 37,
   "id": "f8101b0c",
   "metadata": {},
   "outputs": [
    {
     "data": {
      "text/plain": [
       "(12,)"
      ]
     },
     "execution_count": 37,
     "metadata": {},
     "output_type": "execute_result"
    }
   ],
   "source": [
    "lista.shape"
   ]
  },
  {
   "cell_type": "code",
   "execution_count": 38,
   "id": "0208a5df",
   "metadata": {},
   "outputs": [
    {
     "data": {
      "text/plain": [
       "array([[ 2,  4,  5,  6,  2, 66],\n",
       "       [13, 18, 12, 76,  7,  8]])"
      ]
     },
     "execution_count": 38,
     "metadata": {},
     "output_type": "execute_result"
    }
   ],
   "source": [
    "lista.reshape((2,6))"
   ]
  },
  {
   "cell_type": "code",
   "execution_count": 39,
   "id": "737ea6b3",
   "metadata": {},
   "outputs": [
    {
     "data": {
      "text/plain": [
       "array([ 2,  4,  5,  6,  2, 66, 13, 18, 12, 76,  7,  8, 23, 24,  6, 53, 33,\n",
       "       13])"
      ]
     },
     "execution_count": 39,
     "metadata": {},
     "output_type": "execute_result"
    }
   ],
   "source": [
    "lista = np.append(lista, [23, 24, 6, 53,33, 13])\n",
    "lista"
   ]
  },
  {
   "cell_type": "code",
   "execution_count": 40,
   "id": "2ce59f33",
   "metadata": {},
   "outputs": [
    {
     "data": {
      "text/plain": [
       "(array([ 6, 17]),)"
      ]
     },
     "execution_count": 40,
     "metadata": {},
     "output_type": "execute_result"
    }
   ],
   "source": [
    "np.where(lista == 13)"
   ]
  },
  {
   "cell_type": "code",
   "execution_count": 41,
   "id": "2561b94b",
   "metadata": {},
   "outputs": [
    {
     "data": {
      "text/plain": [
       "(18,)"
      ]
     },
     "execution_count": 41,
     "metadata": {},
     "output_type": "execute_result"
    }
   ],
   "source": [
    "np.shape(lista)"
   ]
  },
  {
   "cell_type": "code",
   "execution_count": 42,
   "id": "e4703644",
   "metadata": {},
   "outputs": [
    {
     "data": {
      "text/plain": [
       "array([[ 2,  4,  5],\n",
       "       [ 6,  2, 66],\n",
       "       [13, 18, 12],\n",
       "       [76,  7,  8],\n",
       "       [23, 24,  6],\n",
       "       [53, 33, 13]])"
      ]
     },
     "execution_count": 42,
     "metadata": {},
     "output_type": "execute_result"
    }
   ],
   "source": [
    "lista.reshape((6,3))"
   ]
  },
  {
   "cell_type": "code",
   "execution_count": 43,
   "id": "34eb9699",
   "metadata": {},
   "outputs": [],
   "source": [
    "lista_1 = np.array([2,3,4,5,6])\n",
    "lista_2 = np.array([5,23,32,32,53])"
   ]
  },
  {
   "cell_type": "code",
   "execution_count": 44,
   "id": "44713179",
   "metadata": {},
   "outputs": [
    {
     "data": {
      "text/plain": [
       "array([ 4,  9, 16, 25, 36])"
      ]
     },
     "execution_count": 44,
     "metadata": {},
     "output_type": "execute_result"
    }
   ],
   "source": [
    "lista_1*lista_1 "
   ]
  },
  {
   "cell_type": "code",
   "execution_count": 45,
   "id": "c61f4670",
   "metadata": {},
   "outputs": [
    {
     "data": {
      "text/plain": [
       "array([1.25      , 2.55555556, 2.        , 1.28      , 1.47222222])"
      ]
     },
     "execution_count": 45,
     "metadata": {},
     "output_type": "execute_result"
    }
   ],
   "source": [
    "lista_2/(lista_1 ** 2)"
   ]
  },
  {
   "cell_type": "code",
   "execution_count": 46,
   "id": "967f04a5",
   "metadata": {},
   "outputs": [
    {
     "data": {
      "text/plain": [
       "array([ 0,  1,  2,  3,  4,  5,  6,  7,  8,  9, 10, 11, 12, 13, 14, 15, 16,\n",
       "       17, 18, 19, 20, 21, 22, 23, 24, 25, 26, 27, 28, 29])"
      ]
     },
     "execution_count": 46,
     "metadata": {},
     "output_type": "execute_result"
    }
   ],
   "source": [
    "lista_2 = np.arange(30)\n",
    "lista_2"
   ]
  },
  {
   "cell_type": "code",
   "execution_count": 47,
   "id": "64e57d17",
   "metadata": {},
   "outputs": [
    {
     "data": {
      "text/plain": [
       "array([[ 0,  1,  2,  3,  4],\n",
       "       [ 5,  6,  7,  8,  9],\n",
       "       [10, 11, 12, 13, 14],\n",
       "       [15, 16, 17, 18, 19],\n",
       "       [20, 21, 22, 23, 24],\n",
       "       [25, 26, 27, 28, 29]])"
      ]
     },
     "execution_count": 47,
     "metadata": {},
     "output_type": "execute_result"
    }
   ],
   "source": [
    "np.reshape(lista_2, (6,5))"
   ]
  },
  {
   "cell_type": "code",
   "execution_count": 48,
   "id": "f3e11b15",
   "metadata": {},
   "outputs": [
    {
     "data": {
      "text/plain": [
       "array([[1., 0., 0., 0., 0.],\n",
       "       [0., 1., 0., 0., 0.],\n",
       "       [0., 0., 1., 0., 0.],\n",
       "       [0., 0., 0., 1., 0.],\n",
       "       [0., 0., 0., 0., 1.]])"
      ]
     },
     "execution_count": 48,
     "metadata": {},
     "output_type": "execute_result"
    }
   ],
   "source": [
    "np.eye(5)"
   ]
  },
  {
   "cell_type": "code",
   "execution_count": 49,
   "id": "fedf3f67",
   "metadata": {},
   "outputs": [
    {
     "data": {
      "text/plain": [
       "array([[0., 0., 1., 0., 0.],\n",
       "       [0., 0., 0., 1., 0.],\n",
       "       [0., 0., 0., 0., 1.],\n",
       "       [0., 0., 0., 0., 0.],\n",
       "       [0., 0., 0., 0., 0.]])"
      ]
     },
     "execution_count": 49,
     "metadata": {},
     "output_type": "execute_result"
    }
   ],
   "source": [
    "np.eye(5, k=2)"
   ]
  },
  {
   "cell_type": "code",
   "execution_count": 50,
   "id": "ff2f9bbf",
   "metadata": {},
   "outputs": [
    {
     "data": {
      "text/plain": [
       "array([[0., 0., 0., 0., 0.],\n",
       "       [0., 0., 0., 0., 0.],\n",
       "       [1., 0., 0., 0., 0.],\n",
       "       [0., 1., 0., 0., 0.],\n",
       "       [0., 0., 1., 0., 0.]])"
      ]
     },
     "execution_count": 50,
     "metadata": {},
     "output_type": "execute_result"
    }
   ],
   "source": [
    "np.eye(5, k=-2)"
   ]
  },
  {
   "cell_type": "code",
   "execution_count": 51,
   "id": "9b879547",
   "metadata": {},
   "outputs": [
    {
     "data": {
      "text/plain": [
       "array([ 0.,  1.,  2.,  3.,  4.,  5.,  6.,  7.,  8.,  9., 10., 11., 12.,\n",
       "       13., 14., 15., 16., 17., 18., 19., 20., 21., 22., 23., 24., 25.,\n",
       "       26., 27., 28., 29.])"
      ]
     },
     "execution_count": 51,
     "metadata": {},
     "output_type": "execute_result"
    }
   ],
   "source": [
    "dato = np.arange(30)\n",
    "np.array(dato, dtype= np.float64)"
   ]
  },
  {
   "cell_type": "code",
   "execution_count": 52,
   "id": "dd513405",
   "metadata": {},
   "outputs": [
    {
     "data": {
      "text/plain": [
       "array(['0', '1', '2', '3', '4', '5', '6', '7', '8', '9', '10', '11', '12',\n",
       "       '13', '14', '15', '16', '17', '18', '19', '20', '21', '22', '23',\n",
       "       '24', '25', '26', '27', '28', '29'], dtype='<U21')"
      ]
     },
     "execution_count": 52,
     "metadata": {},
     "output_type": "execute_result"
    }
   ],
   "source": [
    "dato= np.array(dato, dtype= np.str_)\n",
    "dato"
   ]
  },
  {
   "cell_type": "code",
   "execution_count": 53,
   "id": "0bb8b37d",
   "metadata": {},
   "outputs": [
    {
     "data": {
      "text/plain": [
       "dtype('<U21')"
      ]
     },
     "execution_count": 53,
     "metadata": {},
     "output_type": "execute_result"
    }
   ],
   "source": [
    "dato.dtype"
   ]
  },
  {
   "cell_type": "code",
   "execution_count": 54,
   "id": "738a5142",
   "metadata": {},
   "outputs": [
    {
     "data": {
      "text/plain": [
       "array([[['0', '1'],\n",
       "        ['2', '3'],\n",
       "        ['4', '5']],\n",
       "\n",
       "       [['6', '7'],\n",
       "        ['8', '9'],\n",
       "        ['10', '11']],\n",
       "\n",
       "       [['12', '13'],\n",
       "        ['14', '15'],\n",
       "        ['16', '17']],\n",
       "\n",
       "       [['18', '19'],\n",
       "        ['20', '21'],\n",
       "        ['22', '23']],\n",
       "\n",
       "       [['24', '25'],\n",
       "        ['26', '27'],\n",
       "        ['28', '29']]], dtype='<U21')"
      ]
     },
     "execution_count": 54,
     "metadata": {},
     "output_type": "execute_result"
    }
   ],
   "source": [
    "dato = np.reshape(dato,(5,3,2))\n",
    "dato"
   ]
  },
  {
   "cell_type": "code",
   "execution_count": 55,
   "id": "dcc63ea1",
   "metadata": {},
   "outputs": [
    {
     "data": {
      "text/plain": [
       "3"
      ]
     },
     "execution_count": 55,
     "metadata": {},
     "output_type": "execute_result"
    }
   ],
   "source": [
    "dato.ndim"
   ]
  },
  {
   "cell_type": "code",
   "execution_count": 56,
   "id": "fa836661",
   "metadata": {},
   "outputs": [
    {
     "data": {
      "text/plain": [
       "(5, 3, 2)"
      ]
     },
     "execution_count": 56,
     "metadata": {},
     "output_type": "execute_result"
    }
   ],
   "source": [
    "dato.shape"
   ]
  },
  {
   "cell_type": "code",
   "execution_count": 57,
   "id": "93286525",
   "metadata": {},
   "outputs": [
    {
     "data": {
      "text/plain": [
       "30"
      ]
     },
     "execution_count": 57,
     "metadata": {},
     "output_type": "execute_result"
    }
   ],
   "source": [
    "dato.size"
   ]
  },
  {
   "cell_type": "code",
   "execution_count": 58,
   "id": "d6704030",
   "metadata": {},
   "outputs": [],
   "source": [
    "array = np.array([3,5,7,9], dtype = np.float32)"
   ]
  },
  {
   "cell_type": "code",
   "execution_count": 59,
   "id": "c713c867",
   "metadata": {},
   "outputs": [
    {
     "data": {
      "text/plain": [
       "array([ 0,  1,  2,  3,  4,  5,  6,  7,  8,  9, 10, 11, 12, 13, 14, 15, 16,\n",
       "       17, 18, 19])"
      ]
     },
     "execution_count": 59,
     "metadata": {},
     "output_type": "execute_result"
    }
   ],
   "source": [
    "array = np.arange(20)\n",
    "array"
   ]
  },
  {
   "cell_type": "code",
   "execution_count": 60,
   "id": "bb1e2c60",
   "metadata": {},
   "outputs": [
    {
     "data": {
      "text/plain": [
       "array([[[ 0,  1,  2,  3,  4],\n",
       "        [ 5,  6,  7,  8,  9]],\n",
       "\n",
       "       [[10, 11, 12, 13, 14],\n",
       "        [15, 16, 17, 18, 19]]])"
      ]
     },
     "execution_count": 60,
     "metadata": {},
     "output_type": "execute_result"
    }
   ],
   "source": [
    "array.reshape((2,2,5))"
   ]
  },
  {
   "cell_type": "code",
   "execution_count": 61,
   "id": "36bd128f",
   "metadata": {},
   "outputs": [],
   "source": [
    "array_1 = np.empty(10)\n",
    "array_1 = array_1.reshape((5,2))\n",
    "array_2 = np.empty(10)\n",
    "array_2 = array_2.reshape((5,2))\n",
    "array_3 = np.empty(10)\n",
    "array_3 = array_3.reshape((5,2))"
   ]
  },
  {
   "cell_type": "code",
   "execution_count": 62,
   "id": "d3be7bbb",
   "metadata": {},
   "outputs": [
    {
     "data": {
      "text/plain": [
       "array([[nan,  0.],\n",
       "       [ 0.,  0.],\n",
       "       [ 0.,  0.],\n",
       "       [ 0.,  0.],\n",
       "       [ 0.,  0.]])"
      ]
     },
     "execution_count": 62,
     "metadata": {},
     "output_type": "execute_result"
    }
   ],
   "source": [
    "array_2"
   ]
  },
  {
   "cell_type": "code",
   "execution_count": 63,
   "id": "6646d945",
   "metadata": {},
   "outputs": [
    {
     "data": {
      "text/plain": [
       "array([[nan,  0.],\n",
       "       [ 0.,  0.],\n",
       "       [ 0.,  0.],\n",
       "       [ 0.,  0.],\n",
       "       [ 0.,  0.]])"
      ]
     },
     "execution_count": 63,
     "metadata": {},
     "output_type": "execute_result"
    }
   ],
   "source": [
    "array_1"
   ]
  },
  {
   "cell_type": "code",
   "execution_count": 64,
   "id": "dfb6a184",
   "metadata": {},
   "outputs": [
    {
     "data": {
      "text/plain": [
       "array([[nan,  0.],\n",
       "       [ 0.,  0.],\n",
       "       [ 0.,  0.],\n",
       "       [ 0.,  0.],\n",
       "       [ 0.,  0.]])"
      ]
     },
     "execution_count": 64,
     "metadata": {},
     "output_type": "execute_result"
    }
   ],
   "source": [
    "array_3"
   ]
  },
  {
   "cell_type": "code",
   "execution_count": 65,
   "id": "f985d626",
   "metadata": {},
   "outputs": [
    {
     "data": {
      "text/plain": [
       "array(['Eduardo', 'Jorge', 'Miguel', 'Ignacio', 'Pedro'], dtype='<U7')"
      ]
     },
     "execution_count": 65,
     "metadata": {},
     "output_type": "execute_result"
    }
   ],
   "source": [
    "nombre = np.array(['Eduardo', 'Jorge', 'Miguel', 'Ignacio', 'Pedro'])\n",
    "nombre"
   ]
  },
  {
   "cell_type": "code",
   "execution_count": 66,
   "id": "40e8daf3",
   "metadata": {},
   "outputs": [
    {
     "data": {
      "text/plain": [
       "array([18, 20, 42, 21, 14])"
      ]
     },
     "execution_count": 66,
     "metadata": {},
     "output_type": "execute_result"
    }
   ],
   "source": [
    "edad = np.array([18, 20, 42, 21, 14])\n",
    "edad"
   ]
  },
  {
   "cell_type": "code",
   "execution_count": 67,
   "id": "126eb147",
   "metadata": {},
   "outputs": [
    {
     "data": {
      "text/plain": [
       "array([23, 14, 12, 25, 21])"
      ]
     },
     "execution_count": 67,
     "metadata": {},
     "output_type": "execute_result"
    }
   ],
   "source": [
    "dia = np.array([23, 14, 12, 25, 21])\n",
    "dia"
   ]
  },
  {
   "cell_type": "code",
   "execution_count": 68,
   "id": "78cb2003",
   "metadata": {},
   "outputs": [
    {
     "name": "stdout",
     "output_type": "stream",
     "text": [
      "['Eduardo' 'Jorge' 'Miguel' 'Ignacio' 'Pedro']\n"
     ]
    }
   ],
   "source": [
    "print(nombre[(edad>20) | (dia<24)])"
   ]
  },
  {
   "cell_type": "code",
   "execution_count": 69,
   "id": "92218524",
   "metadata": {},
   "outputs": [
    {
     "data": {
      "text/plain": [
       "array([['Eduardo', '18', '23'],\n",
       "       ['Jorge', '20', '14'],\n",
       "       ['Miguel', '42', '12'],\n",
       "       ['Ignacio', '21', '25'],\n",
       "       ['Pedro', '14', '21']], dtype='<U21')"
      ]
     },
     "execution_count": 69,
     "metadata": {},
     "output_type": "execute_result"
    }
   ],
   "source": [
    "np.stack((nombre, edad, dia), axis=1)"
   ]
  },
  {
   "cell_type": "code",
   "execution_count": 70,
   "id": "fae81a24",
   "metadata": {},
   "outputs": [
    {
     "data": {
      "text/plain": [
       "array([ 0,  1,  2,  3,  4,  5,  6,  7,  8,  9, 10, 11, 12, 13, 14, 15, 16,\n",
       "       17, 18, 19, 20, 21, 22, 23, 24, 25, 26, 27, 28, 29])"
      ]
     },
     "execution_count": 70,
     "metadata": {},
     "output_type": "execute_result"
    }
   ],
   "source": [
    "array = np.arange(30)\n",
    "array"
   ]
  },
  {
   "cell_type": "code",
   "execution_count": 71,
   "id": "fada6de1",
   "metadata": {},
   "outputs": [
    {
     "data": {
      "text/plain": [
       "array([[ 0,  1,  2,  3,  4],\n",
       "       [ 5,  6,  7,  8,  9],\n",
       "       [10, 11, 12, 13, 14],\n",
       "       [15, 16, 17, 18, 19],\n",
       "       [20, 21, 22, 23, 24],\n",
       "       [25, 26, 27, 28, 29]])"
      ]
     },
     "execution_count": 71,
     "metadata": {},
     "output_type": "execute_result"
    }
   ],
   "source": [
    "array= array.reshape(6,5)\n",
    "array"
   ]
  },
  {
   "cell_type": "code",
   "execution_count": 72,
   "id": "1c1b7a54",
   "metadata": {},
   "outputs": [
    {
     "data": {
      "text/plain": [
       "[array([[0, 1, 2, 3, 4]]),\n",
       " array([[5, 6, 7, 8, 9]]),\n",
       " array([[10, 11, 12, 13, 14]]),\n",
       " array([[15, 16, 17, 18, 19]]),\n",
       " array([[20, 21, 22, 23, 24]]),\n",
       " array([[25, 26, 27, 28, 29]])]"
      ]
     },
     "execution_count": 72,
     "metadata": {},
     "output_type": "execute_result"
    }
   ],
   "source": [
    "separado = np.split(array, 6)\n",
    "separado"
   ]
  },
  {
   "cell_type": "code",
   "execution_count": 73,
   "id": "d839f9ad",
   "metadata": {},
   "outputs": [
    {
     "data": {
      "text/plain": [
       "array([[87.  ,  1.61],\n",
       "       [65.  ,  1.74],\n",
       "       [60.  ,  1.65],\n",
       "       [78.  ,  1.67],\n",
       "       [76.  ,  1.78]])"
      ]
     },
     "execution_count": 73,
     "metadata": {},
     "output_type": "execute_result"
    }
   ],
   "source": [
    "peso_y_altura= np.array([[87, 1.61],\n",
    "                         [65, 1.74],\n",
    "                         [60, 1.65],\n",
    "                         [78, 1.67],\n",
    "                         [76, 1.78]])\n",
    "peso_y_altura"
   ]
  },
  {
   "cell_type": "code",
   "execution_count": 74,
   "id": "dfddbbbd",
   "metadata": {},
   "outputs": [
    {
     "data": {
      "text/plain": [
       "array([60.  ,  1.61])"
      ]
     },
     "execution_count": 74,
     "metadata": {},
     "output_type": "execute_result"
    }
   ],
   "source": [
    "peso_y_altura.min(axis=0)"
   ]
  },
  {
   "cell_type": "code",
   "execution_count": 75,
   "id": "99cca698",
   "metadata": {},
   "outputs": [
    {
     "data": {
      "text/plain": [
       "array([87.  ,  1.78])"
      ]
     },
     "execution_count": 75,
     "metadata": {},
     "output_type": "execute_result"
    }
   ],
   "source": [
    "peso_y_altura.max(axis=0)"
   ]
  },
  {
   "cell_type": "code",
   "execution_count": 76,
   "id": "e9bb6ea0",
   "metadata": {},
   "outputs": [
    {
     "data": {
      "text/plain": [
       "array([0, 4])"
      ]
     },
     "execution_count": 76,
     "metadata": {},
     "output_type": "execute_result"
    }
   ],
   "source": [
    "peso_y_altura.argmax(axis=0)"
   ]
  },
  {
   "cell_type": "code",
   "execution_count": 77,
   "id": "513b525b",
   "metadata": {},
   "outputs": [
    {
     "data": {
      "text/plain": [
       "array([2, 0])"
      ]
     },
     "execution_count": 77,
     "metadata": {},
     "output_type": "execute_result"
    }
   ],
   "source": [
    "peso_y_altura.argmin(axis=0)"
   ]
  },
  {
   "cell_type": "code",
   "execution_count": 78,
   "id": "9e660f80",
   "metadata": {},
   "outputs": [
    {
     "data": {
      "text/plain": [
       "array([73.2 ,  1.69])"
      ]
     },
     "execution_count": 78,
     "metadata": {},
     "output_type": "execute_result"
    }
   ],
   "source": [
    "peso_y_altura.mean(axis=0)"
   ]
  },
  {
   "cell_type": "code",
   "execution_count": 79,
   "id": "23161838",
   "metadata": {},
   "outputs": [
    {
     "data": {
      "text/plain": [
       "array([366.  ,   8.45])"
      ]
     },
     "execution_count": 79,
     "metadata": {},
     "output_type": "execute_result"
    }
   ],
   "source": [
    "peso_y_altura.sum(axis=0)"
   ]
  }
 ],
 "metadata": {
  "kernelspec": {
   "display_name": "Python 3",
   "language": "python",
   "name": "python3"
  },
  "language_info": {
   "codemirror_mode": {
    "name": "ipython",
    "version": 3
   },
   "file_extension": ".py",
   "mimetype": "text/x-python",
   "name": "python",
   "nbconvert_exporter": "python",
   "pygments_lexer": "ipython3",
   "version": "3.12.6"
  }
 },
 "nbformat": 4,
 "nbformat_minor": 5
}
