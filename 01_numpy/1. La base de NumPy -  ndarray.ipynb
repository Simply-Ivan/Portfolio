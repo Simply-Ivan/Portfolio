{
 "cells": [
  {
   "cell_type": "code",
   "execution_count": 29,
   "id": "517695d9",
   "metadata": {},
   "outputs": [],
   "source": [
    "import numpy as np"
   ]
  },
  {
   "cell_type": "code",
   "execution_count": 30,
   "id": "4f114296",
   "metadata": {},
   "outputs": [
    {
     "data": {
      "text/plain": [
       "array([['', ''],\n",
       "       ['', ''],\n",
       "       ['', '']], dtype='<U1')"
      ]
     },
     "execution_count": 30,
     "metadata": {},
     "output_type": "execute_result"
    }
   ],
   "source": [
    "# Especificando dimensiones\n",
    "array_vacio = np.empty((3, 2), dtype= np.str_)\n",
    "array_vacio"
   ]
  },
  {
   "cell_type": "code",
   "execution_count": 31,
   "id": "d662f370",
   "metadata": {},
   "outputs": [
    {
     "data": {
      "text/plain": [
       "array([4607182418800017408, 4611686018427387904, 4613937818241073152,\n",
       "       4616189618054758400, 4617315517961601024])"
      ]
     },
     "execution_count": 31,
     "metadata": {},
     "output_type": "execute_result"
    }
   ],
   "source": [
    "# Copiando dimensiones y tipo desde otra estructura\n",
    "array_vacio_copia = np.empty_like([1, 2, 3, 4, 5])\n",
    "array_vacio_copia"
   ]
  },
  {
   "cell_type": "code",
   "execution_count": 32,
   "id": "642ba648",
   "metadata": {},
   "outputs": [
    {
     "data": {
      "text/plain": [
       "array([[1., 1.],\n",
       "       [1., 1.],\n",
       "       [1., 1.]])"
      ]
     },
     "execution_count": 32,
     "metadata": {},
     "output_type": "execute_result"
    }
   ],
   "source": [
    "# Especificando dimensiones\n",
    "array_unos = np.ones((3, 2))\n",
    "array_unos"
   ]
  },
  {
   "cell_type": "code",
   "execution_count": 33,
   "id": "57e17243",
   "metadata": {},
   "outputs": [
    {
     "data": {
      "text/plain": [
       "array([1, 1, 1, 1, 1])"
      ]
     },
     "execution_count": 33,
     "metadata": {},
     "output_type": "execute_result"
    }
   ],
   "source": [
    "# Copiando dimensiones y tipo desde otra estructura\n",
    "array_unos_copia = np.ones_like([1, 2, 3, 4, 5])\n",
    "array_unos_copia"
   ]
  },
  {
   "cell_type": "code",
   "execution_count": 34,
   "id": "63b06d4a",
   "metadata": {},
   "outputs": [
    {
     "data": {
      "text/plain": [
       "array([[0., 0.],\n",
       "       [0., 0.],\n",
       "       [0., 0.]])"
      ]
     },
     "execution_count": 34,
     "metadata": {},
     "output_type": "execute_result"
    }
   ],
   "source": [
    "# Especificando dimensiones\n",
    "array_ceros = np.zeros((3, 2))\n",
    "array_ceros"
   ]
  },
  {
   "cell_type": "code",
   "execution_count": 35,
   "id": "625f4712",
   "metadata": {},
   "outputs": [
    {
     "data": {
      "text/plain": [
       "array([0, 0, 0, 0, 0])"
      ]
     },
     "execution_count": 35,
     "metadata": {},
     "output_type": "execute_result"
    }
   ],
   "source": [
    "# Copiando dimensiones y tipo desde otra estructura\n",
    "array_ceros_copia = np.zeros_like([1, 2, 3, 4, 5])\n",
    "array_ceros_copia"
   ]
  },
  {
   "cell_type": "code",
   "execution_count": 36,
   "id": "980d795f",
   "metadata": {},
   "outputs": [
    {
     "data": {
      "text/plain": [
       "array([[1., 0., 0.],\n",
       "       [0., 1., 0.],\n",
       "       [0., 0., 1.]])"
      ]
     },
     "execution_count": 36,
     "metadata": {},
     "output_type": "execute_result"
    }
   ],
   "source": [
    "array_identidad = np.identity(3)\n",
    "array_identidad"
   ]
  },
  {
   "cell_type": "code",
   "execution_count": 37,
   "id": "d375d1b2",
   "metadata": {},
   "outputs": [
    {
     "data": {
      "text/plain": [
       "array([[1., 0., 0., 0.],\n",
       "       [0., 1., 0., 0.],\n",
       "       [0., 0., 1., 0.],\n",
       "       [0., 0., 0., 1.]])"
      ]
     },
     "execution_count": 37,
     "metadata": {},
     "output_type": "execute_result"
    }
   ],
   "source": [
    "# Cuadrada con unos en la diagonal principal\n",
    "array_identidad = np.eye(4)\n",
    "array_identidad"
   ]
  },
  {
   "cell_type": "code",
   "execution_count": 38,
   "id": "e3ddc561",
   "metadata": {},
   "outputs": [
    {
     "data": {
      "text/plain": [
       "array([[0., 1., 0., 0.],\n",
       "       [0., 0., 1., 0.],\n",
       "       [0., 0., 0., 1.],\n",
       "       [0., 0., 0., 0.]])"
      ]
     },
     "execution_count": 38,
     "metadata": {},
     "output_type": "execute_result"
    }
   ],
   "source": [
    "# Cuadrada con unos en la diagonal específicada\n",
    "array_con_segunda_identidad = np.eye(4, k = 1)\n",
    "array_con_segunda_identidad"
   ]
  },
  {
   "cell_type": "code",
   "execution_count": 39,
   "id": "2c65e15d",
   "metadata": {},
   "outputs": [
    {
     "data": {
      "text/plain": [
       "array([[0., 0., 0., 0.],\n",
       "       [1., 0., 0., 0.],\n",
       "       [0., 1., 0., 0.],\n",
       "       [0., 0., 1., 0.]])"
      ]
     },
     "execution_count": 39,
     "metadata": {},
     "output_type": "execute_result"
    }
   ],
   "source": [
    "# Cuadrada con unos en la diagonal específicada\n",
    "array_no_identidad = np.eye(4, k = -1)\n",
    "array_no_identidad"
   ]
  },
  {
   "cell_type": "code",
   "execution_count": 40,
   "id": "394ea837",
   "metadata": {},
   "outputs": [
    {
     "data": {
      "text/plain": [
       "array([0, 1, 2, 3, 4, 5, 6, 7, 8, 9])"
      ]
     },
     "execution_count": 40,
     "metadata": {},
     "output_type": "execute_result"
    }
   ],
   "source": [
    "# Un parámetro: desde 0 (incluido) hasta el valor indicado (no incluido)\n",
    "array_secuencia_1 = np.arange(10)\n",
    "array_secuencia_1"
   ]
  },
  {
   "cell_type": "code",
   "execution_count": 41,
   "id": "9fad191d",
   "metadata": {},
   "outputs": [
    {
     "data": {
      "text/plain": [
       "array([5, 6, 7, 8, 9])"
      ]
     },
     "execution_count": 41,
     "metadata": {},
     "output_type": "execute_result"
    }
   ],
   "source": [
    "# Dos parámetros: desde  el primer valor (incluido) hasta el segundo valor (no incluido)\n",
    "array_secuencia_2 = np.arange(5, 10)\n",
    "array_secuencia_2"
   ]
  },
  {
   "cell_type": "code",
   "execution_count": 42,
   "id": "3a66d41b",
   "metadata": {},
   "outputs": [
    {
     "data": {
      "text/plain": [
       "array([ 5,  7,  9, 11, 13, 15, 17, 19])"
      ]
     },
     "execution_count": 42,
     "metadata": {},
     "output_type": "execute_result"
    }
   ],
   "source": [
    "# Tres parámetros: desde  el primer valor (incluido) hasta el segundo (no incluido) con saltos del tercer valor\n",
    "array_secuencia_3 = np.arange(5, 20, 2)\n",
    "array_secuencia_3"
   ]
  },
  {
   "cell_type": "code",
   "execution_count": 43,
   "id": "09f71aa3",
   "metadata": {},
   "outputs": [
    {
     "data": {
      "text/plain": [
       "numpy.ndarray"
      ]
     },
     "execution_count": 43,
     "metadata": {},
     "output_type": "execute_result"
    }
   ],
   "source": [
    "# Unidimensional\n",
    "array_basico = np.array([1, 2, 3, 4, 5])\n",
    "type(array_basico)"
   ]
  },
  {
   "cell_type": "code",
   "execution_count": 44,
   "id": "6b76b09a",
   "metadata": {},
   "outputs": [
    {
     "data": {
      "text/plain": [
       "array([[1, 2, 3, 4],\n",
       "       [5, 6, 7, 8]])"
      ]
     },
     "execution_count": 44,
     "metadata": {},
     "output_type": "execute_result"
    }
   ],
   "source": [
    "# Multidimensional\n",
    "array_basico_multidimensional = np.array([[1, 2, 3, 4], [5, 6, 7, 8]])\n",
    "array_basico_multidimensional"
   ]
  },
  {
   "cell_type": "code",
   "execution_count": 45,
   "id": "13c071e9",
   "metadata": {},
   "outputs": [
    {
     "data": {
      "text/plain": [
       "array([1, 2, 3, 4, 5], dtype=int32)"
      ]
     },
     "execution_count": 45,
     "metadata": {},
     "output_type": "execute_result"
    }
   ],
   "source": [
    "array_inicial_enteros = np.array([1, 2, 3, 4, 5], dtype= np.int32)\n",
    "array_inicial_enteros"
   ]
  },
  {
   "cell_type": "code",
   "execution_count": 46,
   "id": "6ddd0943",
   "metadata": {},
   "outputs": [
    {
     "data": {
      "text/plain": [
       "array([1., 2., 3., 4., 5.])"
      ]
     },
     "execution_count": 46,
     "metadata": {},
     "output_type": "execute_result"
    }
   ],
   "source": [
    "array_float = np.asarray(array_inicial_enteros, dtype= np.float64)\n",
    "array_float"
   ]
  },
  {
   "cell_type": "code",
   "execution_count": 47,
   "id": "46ad64b3",
   "metadata": {
    "scrolled": true
   },
   "outputs": [
    {
     "data": {
      "text/plain": [
       "array(['1.0', '2.0', '3.0', '4.0', '5.0'], dtype='<U32')"
      ]
     },
     "execution_count": 47,
     "metadata": {},
     "output_type": "execute_result"
    }
   ],
   "source": [
    "array_strings = np.asarray (array_float, dtype= np.str_)\n",
    "array_strings"
   ]
  },
  {
   "cell_type": "code",
   "execution_count": 48,
   "id": "04b7ddfe",
   "metadata": {},
   "outputs": [],
   "source": [
    "array = np.array([[1, 2, 3, 4], [5, 6, 7, 8], [9, 10, 11, 12]])"
   ]
  },
  {
   "cell_type": "code",
   "execution_count": 49,
   "id": "95fd05cd",
   "metadata": {},
   "outputs": [
    {
     "data": {
      "text/plain": [
       "dtype('int64')"
      ]
     },
     "execution_count": 49,
     "metadata": {},
     "output_type": "execute_result"
    }
   ],
   "source": [
    "# Tipo de dato (único)\n",
    "array.dtype"
   ]
  },
  {
   "cell_type": "code",
   "execution_count": 50,
   "id": "4ae81b01",
   "metadata": {},
   "outputs": [
    {
     "data": {
      "text/plain": [
       "2"
      ]
     },
     "execution_count": 50,
     "metadata": {},
     "output_type": "execute_result"
    }
   ],
   "source": [
    "# Número de dimensiones\n",
    "array.ndim"
   ]
  },
  {
   "cell_type": "code",
   "execution_count": 51,
   "id": "64f6489c",
   "metadata": {},
   "outputs": [
    {
     "data": {
      "text/plain": [
       "(3, 4)"
      ]
     },
     "execution_count": 51,
     "metadata": {},
     "output_type": "execute_result"
    }
   ],
   "source": [
    "# Forma/Dimensiones\n",
    "array.shape"
   ]
  },
  {
   "cell_type": "code",
   "execution_count": 52,
   "id": "ad26ec1d",
   "metadata": {},
   "outputs": [
    {
     "data": {
      "text/plain": [
       "12"
      ]
     },
     "execution_count": 52,
     "metadata": {},
     "output_type": "execute_result"
    }
   ],
   "source": [
    "# Número total de elementos\n",
    "array.size"
   ]
  },
  {
   "cell_type": "code",
   "execution_count": 53,
   "id": "62621cce",
   "metadata": {},
   "outputs": [],
   "source": [
    "array = np.array([1, 2, 3, 4, 5, 6], dtype=np.float64)"
   ]
  },
  {
   "cell_type": "code",
   "execution_count": 54,
   "id": "c5ee163f",
   "metadata": {},
   "outputs": [
    {
     "data": {
      "text/plain": [
       "array([ 6.,  7.,  8.,  9., 10., 11.])"
      ]
     },
     "execution_count": 54,
     "metadata": {},
     "output_type": "execute_result"
    }
   ],
   "source": [
    "# Suma\n",
    "array + 5"
   ]
  },
  {
   "cell_type": "code",
   "execution_count": 55,
   "id": "6c93dab9",
   "metadata": {},
   "outputs": [
    {
     "data": {
      "text/plain": [
       "array([-1.,  0.,  1.,  2.,  3.,  4.])"
      ]
     },
     "execution_count": 55,
     "metadata": {},
     "output_type": "execute_result"
    }
   ],
   "source": [
    "# Resta\n",
    "array - 2"
   ]
  },
  {
   "cell_type": "code",
   "execution_count": 56,
   "id": "f5aefe60",
   "metadata": {},
   "outputs": [
    {
     "data": {
      "text/plain": [
       "array([ 3.,  6.,  9., 12., 15., 18.])"
      ]
     },
     "execution_count": 56,
     "metadata": {},
     "output_type": "execute_result"
    }
   ],
   "source": [
    "# Multiplicación\n",
    "array * 3"
   ]
  },
  {
   "cell_type": "code",
   "execution_count": 57,
   "id": "f212837e",
   "metadata": {},
   "outputs": [
    {
     "data": {
      "text/plain": [
       "array([1.        , 0.5       , 0.33333333, 0.25      , 0.2       ,\n",
       "       0.16666667])"
      ]
     },
     "execution_count": 57,
     "metadata": {},
     "output_type": "execute_result"
    }
   ],
   "source": [
    "# División\n",
    "1 / array"
   ]
  },
  {
   "cell_type": "code",
   "execution_count": 58,
   "id": "4c57a6b7",
   "metadata": {},
   "outputs": [
    {
     "data": {
      "text/plain": [
       "array([0., 1., 1., 2., 2., 3.])"
      ]
     },
     "execution_count": 58,
     "metadata": {},
     "output_type": "execute_result"
    }
   ],
   "source": [
    "# División entera \n",
    "array // 2"
   ]
  },
  {
   "cell_type": "code",
   "execution_count": 59,
   "id": "4c6cd9b9",
   "metadata": {},
   "outputs": [
    {
     "data": {
      "text/plain": [
       "array([ 1.,  4.,  9., 16., 25., 36.])"
      ]
     },
     "execution_count": 59,
     "metadata": {},
     "output_type": "execute_result"
    }
   ],
   "source": [
    "# Potencia\n",
    "array ** 2"
   ]
  },
  {
   "cell_type": "code",
   "execution_count": 60,
   "id": "ef2e7bdf",
   "metadata": {},
   "outputs": [
    {
     "data": {
      "text/plain": [
       "array([2., 3., 4., 5., 6., 7.])"
      ]
     },
     "execution_count": 60,
     "metadata": {},
     "output_type": "execute_result"
    }
   ],
   "source": [
    "# Asignación con operador\n",
    "array += 1\n",
    "array"
   ]
  },
  {
   "cell_type": "code",
   "execution_count": 61,
   "id": "fbd55edb",
   "metadata": {},
   "outputs": [],
   "source": [
    "array = np.array([1, 2, 3, 4, 5, 6], dtype=np.float64)"
   ]
  },
  {
   "cell_type": "code",
   "execution_count": 62,
   "id": "ae93c762",
   "metadata": {},
   "outputs": [
    {
     "data": {
      "text/plain": [
       "array([ 2.,  4.,  6.,  8., 10., 12.])"
      ]
     },
     "execution_count": 62,
     "metadata": {},
     "output_type": "execute_result"
    }
   ],
   "source": [
    "# Suma (elemento a elemento)\n",
    "array + array"
   ]
  },
  {
   "cell_type": "code",
   "execution_count": 63,
   "id": "a552fc3d",
   "metadata": {},
   "outputs": [
    {
     "data": {
      "text/plain": [
       "array([0., 0., 0., 0., 0., 0.])"
      ]
     },
     "execution_count": 63,
     "metadata": {},
     "output_type": "execute_result"
    }
   ],
   "source": [
    "# Resta (elemento a elemento)\n",
    "array - array"
   ]
  },
  {
   "cell_type": "code",
   "execution_count": 64,
   "id": "2c782afd",
   "metadata": {},
   "outputs": [
    {
     "data": {
      "text/plain": [
       "array([ 1.,  4.,  9., 16., 25., 36.])"
      ]
     },
     "execution_count": 64,
     "metadata": {},
     "output_type": "execute_result"
    }
   ],
   "source": [
    "# Multiplicación (elemento a elemento)\n",
    "array * array"
   ]
  },
  {
   "cell_type": "code",
   "execution_count": 65,
   "id": "e11ad093",
   "metadata": {},
   "outputs": [
    {
     "data": {
      "text/plain": [
       "array([1., 1., 1., 1., 1., 1.])"
      ]
     },
     "execution_count": 65,
     "metadata": {},
     "output_type": "execute_result"
    }
   ],
   "source": [
    "# División (elemento a elemento)\n",
    "array / array"
   ]
  },
  {
   "cell_type": "code",
   "execution_count": 66,
   "id": "7208fbdf",
   "metadata": {},
   "outputs": [
    {
     "data": {
      "text/plain": [
       "array([ 2.,  4.,  6.,  8., 10., 12.])"
      ]
     },
     "execution_count": 66,
     "metadata": {},
     "output_type": "execute_result"
    }
   ],
   "source": [
    "# Asignación con operador\n",
    "array += array\n",
    "array"
   ]
  },
  {
   "cell_type": "code",
   "execution_count": 67,
   "id": "45f51221",
   "metadata": {},
   "outputs": [
    {
     "data": {
      "text/plain": [
       "array([ 3.,  6.,  9., 12., 15., 18.])"
      ]
     },
     "execution_count": 67,
     "metadata": {},
     "output_type": "execute_result"
    }
   ],
   "source": [
    "# Suma de ndarrays de distinto tamaño\n",
    "array1 = np.array([1, 2, 3, 4, 5, 6])\n",
    "array + array1"
   ]
  },
  {
   "cell_type": "code",
   "execution_count": 68,
   "id": "9e8532e4",
   "metadata": {},
   "outputs": [
    {
     "data": {
      "text/plain": [
       "array([ 1,  2,  3,  4,  5,  6,  7,  8,  9, 10])"
      ]
     },
     "execution_count": 68,
     "metadata": {},
     "output_type": "execute_result"
    }
   ],
   "source": [
    "array = np.arange(1, 11)\n",
    "array"
   ]
  },
  {
   "cell_type": "code",
   "execution_count": 69,
   "id": "7c264574",
   "metadata": {},
   "outputs": [
    {
     "data": {
      "text/plain": [
       "np.int64(3)"
      ]
     },
     "execution_count": 69,
     "metadata": {},
     "output_type": "execute_result"
    }
   ],
   "source": [
    "# Indexación con primer parámetro\n",
    "array[2]"
   ]
  },
  {
   "cell_type": "code",
   "execution_count": 70,
   "id": "788e6e99",
   "metadata": {},
   "outputs": [
    {
     "data": {
      "text/plain": [
       "array([3, 4, 5])"
      ]
     },
     "execution_count": 70,
     "metadata": {},
     "output_type": "execute_result"
    }
   ],
   "source": [
    "# Indexación con primer y segundo parámetro\n",
    "array [2:5]"
   ]
  },
  {
   "cell_type": "code",
   "execution_count": 71,
   "id": "90e88b77",
   "metadata": {},
   "outputs": [
    {
     "data": {
      "text/plain": [
       "array([1, 3, 5, 7, 9])"
      ]
     },
     "execution_count": 71,
     "metadata": {},
     "output_type": "execute_result"
    }
   ],
   "source": [
    "# Indexación con tercer parámetro\n",
    "array[::2]"
   ]
  },
  {
   "cell_type": "code",
   "execution_count": 72,
   "id": "07b4597b",
   "metadata": {},
   "outputs": [
    {
     "data": {
      "text/plain": [
       "array([10,  9,  8,  7,  6,  5,  4,  3,  2,  1])"
      ]
     },
     "execution_count": 72,
     "metadata": {},
     "output_type": "execute_result"
    }
   ],
   "source": [
    "# Indexación con negativos\n",
    "array[::-1]"
   ]
  },
  {
   "cell_type": "code",
   "execution_count": 73,
   "id": "93e93214",
   "metadata": {},
   "outputs": [
    {
     "data": {
      "text/plain": [
       "array([[[ 1,  2,  3,  4],\n",
       "        [ 5,  6,  7,  8]],\n",
       "\n",
       "       [[ 9, 10, 11, 12],\n",
       "        [13, 14, 15, 16]]])"
      ]
     },
     "execution_count": 73,
     "metadata": {},
     "output_type": "execute_result"
    }
   ],
   "source": [
    "array = np.array([[[1, 2, 3, 4], [5, 6, 7, 8]], [[9, 10, 11, 12], [13, 14, 15, 16]]])\n",
    "array"
   ]
  },
  {
   "cell_type": "code",
   "execution_count": 74,
   "id": "50894dc8",
   "metadata": {},
   "outputs": [
    {
     "data": {
      "text/plain": [
       "(2, 2, 4)"
      ]
     },
     "execution_count": 74,
     "metadata": {},
     "output_type": "execute_result"
    }
   ],
   "source": [
    "# Forma de la matriz\n",
    "array.shape"
   ]
  },
  {
   "cell_type": "code",
   "execution_count": 75,
   "id": "5d7f9c47",
   "metadata": {},
   "outputs": [
    {
     "data": {
      "text/plain": [
       "array([[ 9, 10, 11, 12],\n",
       "       [13, 14, 15, 16]])"
      ]
     },
     "execution_count": 75,
     "metadata": {},
     "output_type": "execute_result"
    }
   ],
   "source": [
    "# Indexación recursiva primer nivel\n",
    "array[1]"
   ]
  },
  {
   "cell_type": "code",
   "execution_count": 76,
   "id": "050de291",
   "metadata": {},
   "outputs": [
    {
     "data": {
      "text/plain": [
       "array([ 9, 10, 11, 12])"
      ]
     },
     "execution_count": 76,
     "metadata": {},
     "output_type": "execute_result"
    }
   ],
   "source": [
    "# Indexación recursiva segundo nivel\n",
    "array[1][0]"
   ]
  },
  {
   "cell_type": "code",
   "execution_count": 77,
   "id": "c85f61cf",
   "metadata": {},
   "outputs": [
    {
     "data": {
      "text/plain": [
       "np.int64(12)"
      ]
     },
     "execution_count": 77,
     "metadata": {},
     "output_type": "execute_result"
    }
   ],
   "source": [
    "# Indexación recursiva tercer nivel\n",
    "array[1][0][3]"
   ]
  },
  {
   "cell_type": "code",
   "execution_count": 78,
   "id": "2a2fff5b",
   "metadata": {},
   "outputs": [
    {
     "data": {
      "text/plain": [
       "array([ 9, 10, 11, 12])"
      ]
     },
     "execution_count": 78,
     "metadata": {},
     "output_type": "execute_result"
    }
   ],
   "source": [
    "# Indexación con comas segundo nivel\n",
    "array[1, 0]"
   ]
  },
  {
   "cell_type": "code",
   "execution_count": 79,
   "id": "83c0bf65",
   "metadata": {},
   "outputs": [
    {
     "data": {
      "text/plain": [
       "np.int64(12)"
      ]
     },
     "execution_count": 79,
     "metadata": {},
     "output_type": "execute_result"
    }
   ],
   "source": [
    "# Indexación con comas tercer nivel\n",
    "array[1, 0, 3]"
   ]
  },
  {
   "cell_type": "code",
   "execution_count": 80,
   "id": "ea53b490",
   "metadata": {},
   "outputs": [
    {
     "data": {
      "text/plain": [
       "array([1, 2])"
      ]
     },
     "execution_count": 80,
     "metadata": {},
     "output_type": "execute_result"
    }
   ],
   "source": [
    "# Indexación recursiva tercer nivel con slice\n",
    "array[0][0][:2]"
   ]
  },
  {
   "cell_type": "code",
   "execution_count": 81,
   "id": "3ba82612",
   "metadata": {},
   "outputs": [
    {
     "data": {
      "text/plain": [
       "array([12, 11, 10,  9])"
      ]
     },
     "execution_count": 81,
     "metadata": {},
     "output_type": "execute_result"
    }
   ],
   "source": [
    "# Indexación recursiva tercer nivel con slice de índice negativo\n",
    "array[1][0][::-1]"
   ]
  },
  {
   "cell_type": "code",
   "execution_count": 82,
   "id": "2ea8cb9a",
   "metadata": {},
   "outputs": [],
   "source": [
    "array = np.array([[1, 2, 3, 4], [5, 6, 7, 8]])"
   ]
  },
  {
   "cell_type": "code",
   "execution_count": 83,
   "id": "0df3f887",
   "metadata": {},
   "outputs": [
    {
     "data": {
      "text/plain": [
       "array([[ 1, 50,  3,  4],\n",
       "       [ 5,  6,  7,  8]])"
      ]
     },
     "execution_count": 83,
     "metadata": {},
     "output_type": "execute_result"
    }
   ],
   "source": [
    "# Modificación de una posición\n",
    "array[0][1] = 50\n",
    "array"
   ]
  },
  {
   "cell_type": "code",
   "execution_count": 84,
   "id": "ea3e7e19",
   "metadata": {},
   "outputs": [
    {
     "data": {
      "text/plain": [
       "array([[30, 50, 30,  4],\n",
       "       [ 5,  6,  7,  8]])"
      ]
     },
     "execution_count": 84,
     "metadata": {},
     "output_type": "execute_result"
    }
   ],
   "source": [
    "# Modificación de un slice\n",
    "array[0][::2] = 30\n",
    "array"
   ]
  },
  {
   "cell_type": "code",
   "execution_count": 85,
   "id": "039c8268",
   "metadata": {},
   "outputs": [
    {
     "data": {
      "text/plain": [
       "array(['Miguel', 'Pedro', 'Juan', 'Miguel'], dtype='<U6')"
      ]
     },
     "execution_count": 85,
     "metadata": {},
     "output_type": "execute_result"
    }
   ],
   "source": [
    "personas = np.array(['Miguel', 'Pedro', 'Juan', 'Miguel'])\n",
    "personas"
   ]
  },
  {
   "cell_type": "code",
   "execution_count": 86,
   "id": "3dbd6ca3",
   "metadata": {},
   "outputs": [
    {
     "data": {
      "text/plain": [
       "array([[-2.50132880e+00, -7.58473240e-04, -1.50333382e+00,\n",
       "        -7.26639831e-01],\n",
       "       [-1.06575610e+00, -1.52052163e+00, -1.39043037e+00,\n",
       "        -1.16269435e+00],\n",
       "       [ 6.70144593e-02,  9.59332676e-01, -6.64520316e-01,\n",
       "        -1.50922162e+00],\n",
       "       [-1.40263980e+00,  5.73391226e-01,  1.19582711e+00,\n",
       "         6.50914573e-01]])"
      ]
     },
     "execution_count": 86,
     "metadata": {},
     "output_type": "execute_result"
    }
   ],
   "source": [
    "datos = np.random.randn(4,4)\n",
    "datos"
   ]
  },
  {
   "cell_type": "code",
   "execution_count": 87,
   "id": "c10666b4",
   "metadata": {},
   "outputs": [
    {
     "data": {
      "text/plain": [
       "array([-2.50132880e+00, -7.58473240e-04, -1.50333382e+00, -7.26639831e-01,\n",
       "       -1.06575610e+00, -1.52052163e+00, -1.39043037e+00, -1.16269435e+00,\n",
       "       -6.64520316e-01, -1.50922162e+00, -1.40263980e+00])"
      ]
     },
     "execution_count": 87,
     "metadata": {},
     "output_type": "execute_result"
    }
   ],
   "source": [
    "# Indexación/slicing booleano sobre valores\n",
    "datos[datos < 0]"
   ]
  },
  {
   "cell_type": "code",
   "execution_count": 88,
   "id": "a20f8b1e",
   "metadata": {},
   "outputs": [
    {
     "data": {
      "text/plain": [
       "array([ True, False, False,  True])"
      ]
     },
     "execution_count": 88,
     "metadata": {},
     "output_type": "execute_result"
    }
   ],
   "source": [
    "# Máscara booleana\n",
    "personas == 'Miguel'"
   ]
  },
  {
   "cell_type": "code",
   "execution_count": 89,
   "id": "59bac256",
   "metadata": {},
   "outputs": [
    {
     "data": {
      "text/plain": [
       "array([[-2.50132880e+00, -7.58473240e-04, -1.50333382e+00,\n",
       "        -7.26639831e-01],\n",
       "       [-1.40263980e+00,  5.73391226e-01,  1.19582711e+00,\n",
       "         6.50914573e-01]])"
      ]
     },
     "execution_count": 89,
     "metadata": {},
     "output_type": "execute_result"
    }
   ],
   "source": [
    "# Indexación/slicing medinate máscara\n",
    "datos[personas == 'Miguel']"
   ]
  },
  {
   "cell_type": "code",
   "execution_count": 90,
   "id": "1f900297",
   "metadata": {},
   "outputs": [
    {
     "data": {
      "text/plain": [
       "array([[-2.5013288 , -1.50333382],\n",
       "       [-1.4026398 ,  1.19582711]])"
      ]
     },
     "execution_count": 90,
     "metadata": {},
     "output_type": "execute_result"
    }
   ],
   "source": [
    "# Indexación/slicing mediante máscara y básico combinado\n",
    "datos[personas == 'Miguel', ::2]"
   ]
  },
  {
   "cell_type": "code",
   "execution_count": 91,
   "id": "cc02d439",
   "metadata": {},
   "outputs": [
    {
     "data": {
      "text/plain": [
       "array([[-1.0657561 , -1.52052163, -1.39043037, -1.16269435],\n",
       "       [ 0.06701446,  0.95933268, -0.66452032, -1.50922162]])"
      ]
     },
     "execution_count": 91,
     "metadata": {},
     "output_type": "execute_result"
    }
   ],
   "source": [
    "# Indexación/slicing mediante máscara negativo por operador\n",
    "datos[personas != 'Miguel']"
   ]
  },
  {
   "cell_type": "code",
   "execution_count": 92,
   "id": "fae308dd",
   "metadata": {},
   "outputs": [
    {
     "data": {
      "text/plain": [
       "array([[-1.0657561 , -1.52052163, -1.39043037, -1.16269435],\n",
       "       [ 0.06701446,  0.95933268, -0.66452032, -1.50922162]])"
      ]
     },
     "execution_count": 92,
     "metadata": {},
     "output_type": "execute_result"
    }
   ],
   "source": [
    "# Indexación/slicing mediante máscara negativo por signo\n",
    "datos[~(personas == 'Miguel')]"
   ]
  },
  {
   "cell_type": "code",
   "execution_count": 93,
   "id": "fff3cb3a",
   "metadata": {},
   "outputs": [
    {
     "data": {
      "text/plain": [
       "array([[ 0.52542595,  0.85884688, -0.25231274, -0.25655406],\n",
       "       [ 0.98971202, -1.36047378,  0.07808679, -0.32329647],\n",
       "       [-0.3578264 , -0.18329925,  0.02755318,  0.1621434 ],\n",
       "       [ 1.35306033,  0.84726952, -0.14903619,  2.56864735],\n",
       "       [-0.30421538, -0.42961014,  0.86600633,  0.52350892],\n",
       "       [-1.09005372, -0.02374682, -0.11273686, -1.10688302],\n",
       "       [ 1.82732143,  0.42505012,  0.30128515, -0.5098422 ]])"
      ]
     },
     "execution_count": 93,
     "metadata": {},
     "output_type": "execute_result"
    }
   ],
   "source": [
    "array = np.random.randn(7,4)\n",
    "array"
   ]
  },
  {
   "cell_type": "code",
   "execution_count": 94,
   "id": "26779f6f",
   "metadata": {},
   "outputs": [
    {
     "data": {
      "text/plain": [
       "array([[0.52542595, 0.85884688, 0.        , 0.        ],\n",
       "       [0.98971202, 0.        , 0.07808679, 0.        ],\n",
       "       [0.        , 0.        , 0.02755318, 0.1621434 ],\n",
       "       [1.35306033, 0.84726952, 0.        , 2.56864735],\n",
       "       [0.        , 0.        , 0.86600633, 0.52350892],\n",
       "       [0.        , 0.        , 0.        , 0.        ],\n",
       "       [1.82732143, 0.42505012, 0.30128515, 0.        ]])"
      ]
     },
     "execution_count": 94,
     "metadata": {},
     "output_type": "execute_result"
    }
   ],
   "source": [
    "# Eliminación de valores negativos mediante slicing\n",
    "array[array <0] = 0\n",
    "array"
   ]
  },
  {
   "cell_type": "code",
   "execution_count": 95,
   "id": "a8aafa4c",
   "metadata": {},
   "outputs": [
    {
     "data": {
      "text/plain": [
       "array([[0., 0., 0., 0.],\n",
       "       [1., 1., 1., 1.],\n",
       "       [2., 2., 2., 2.],\n",
       "       [3., 3., 3., 3.],\n",
       "       [4., 4., 4., 4.],\n",
       "       [5., 5., 5., 5.],\n",
       "       [6., 6., 6., 6.],\n",
       "       [7., 7., 7., 7.]])"
      ]
     },
     "execution_count": 95,
     "metadata": {},
     "output_type": "execute_result"
    }
   ],
   "source": [
    "array = np.empty((8,4))\n",
    "for i in range(8):\n",
    "    array[i] = i\n",
    "array"
   ]
  },
  {
   "cell_type": "code",
   "execution_count": 96,
   "id": "23faac86",
   "metadata": {},
   "outputs": [
    {
     "data": {
      "text/plain": [
       "array([[2., 2., 2., 2.],\n",
       "       [5., 5., 5., 5.]])"
      ]
     },
     "execution_count": 96,
     "metadata": {},
     "output_type": "execute_result"
    }
   ],
   "source": [
    "# Indexación/slicing de un conjunto (arbitrario) de elementos\n",
    "array[[2, 5]]"
   ]
  },
  {
   "cell_type": "code",
   "execution_count": 97,
   "id": "61a223ef",
   "metadata": {},
   "outputs": [
    {
     "data": {
      "text/plain": [
       "array([[6., 6., 6., 6.],\n",
       "       [3., 3., 3., 3.]])"
      ]
     },
     "execution_count": 97,
     "metadata": {},
     "output_type": "execute_result"
    }
   ],
   "source": [
    "# Indexación/slicing de un conjunto (arbitrario) de elementos (índices negativos)\n",
    "array[[-2, -5]]"
   ]
  },
  {
   "cell_type": "code",
   "execution_count": 98,
   "id": "24e7bb17",
   "metadata": {},
   "outputs": [
    {
     "data": {
      "text/plain": [
       "array([[ 0,  1,  2,  3],\n",
       "       [ 4,  5,  6,  7],\n",
       "       [ 8,  9, 10, 11],\n",
       "       [12, 13, 14, 15],\n",
       "       [16, 17, 18, 19],\n",
       "       [20, 21, 22, 23],\n",
       "       [24, 25, 26, 27],\n",
       "       [28, 29, 30, 31]])"
      ]
     },
     "execution_count": 98,
     "metadata": {},
     "output_type": "execute_result"
    }
   ],
   "source": [
    "array = np.arange(32).reshape((8,4))\n",
    "array"
   ]
  },
  {
   "cell_type": "code",
   "execution_count": 99,
   "id": "ce46dd6b",
   "metadata": {},
   "outputs": [
    {
     "data": {
      "text/plain": [
       "array([ 4, 23, 29, 10])"
      ]
     },
     "execution_count": 99,
     "metadata": {},
     "output_type": "execute_result"
    }
   ],
   "source": [
    "# Indexación/slicing con una secuencia de varios niveles (elemento a elemento)\n",
    "array[[1, 5, 7, 2], [0, 3, 1, 2]]"
   ]
  },
  {
   "cell_type": "code",
   "execution_count": 100,
   "id": "a27c33c8",
   "metadata": {},
   "outputs": [
    {
     "data": {
      "text/plain": [
       "array([[ 4,  5,  6,  7],\n",
       "       [ 8,  9, 10, 11],\n",
       "       [20, 21, 22, 23],\n",
       "       [28, 29, 30, 31]])"
      ]
     },
     "execution_count": 100,
     "metadata": {},
     "output_type": "execute_result"
    }
   ],
   "source": [
    "# Indexación/slicing con una secuencia de varios niveles (región resultante)\n",
    "array[[1, 5, 7, 2]] [[0, 3, 1, 2]]"
   ]
  },
  {
   "cell_type": "code",
   "execution_count": 101,
   "id": "a20b8f5e",
   "metadata": {},
   "outputs": [
    {
     "data": {
      "text/plain": [
       "array([[ 0,  1,  2,  3,  4],\n",
       "       [ 5,  6,  7,  8,  9],\n",
       "       [10, 11, 12, 13, 14]])"
      ]
     },
     "execution_count": 101,
     "metadata": {},
     "output_type": "execute_result"
    }
   ],
   "source": [
    "array = np.arange(15).reshape(3,5)\n",
    "array"
   ]
  },
  {
   "cell_type": "code",
   "execution_count": 102,
   "id": "946596a5",
   "metadata": {},
   "outputs": [
    {
     "data": {
      "text/plain": [
       "array([[ 0,  1,  2,  3,  4],\n",
       "       [ 5,  6,  7,  8,  9],\n",
       "       [10, 11, 12, 13, 14]])"
      ]
     },
     "execution_count": 102,
     "metadata": {},
     "output_type": "execute_result"
    }
   ],
   "source": [
    "# Modificación de ejes/dimensiones\n",
    "array2 = array.reshape(3, 5)\n",
    "array2"
   ]
  },
  {
   "cell_type": "code",
   "execution_count": 103,
   "id": "5fa959ae",
   "metadata": {},
   "outputs": [
    {
     "data": {
      "text/plain": [
       "array([[ 0,  5, 10],\n",
       "       [ 1,  6, 11],\n",
       "       [ 2,  7, 12],\n",
       "       [ 3,  8, 13],\n",
       "       [ 4,  9, 14]])"
      ]
     },
     "execution_count": 103,
     "metadata": {},
     "output_type": "execute_result"
    }
   ],
   "source": [
    "# Trasposición de ejes/dimensiones\n",
    "array2.T"
   ]
  },
  {
   "cell_type": "code",
   "execution_count": 104,
   "id": "3fd77ec5",
   "metadata": {},
   "outputs": [
    {
     "data": {
      "text/plain": [
       "array([[ 0,  1,  2,  3,  4],\n",
       "       [ 5,  6,  7,  8,  9],\n",
       "       [10, 11, 12, 13, 14]])"
      ]
     },
     "execution_count": 104,
     "metadata": {},
     "output_type": "execute_result"
    }
   ],
   "source": [
    "array1 = np.arange(15).reshape(3, 5)\n",
    "array1"
   ]
  },
  {
   "cell_type": "code",
   "execution_count": 105,
   "id": "67c3cd8e",
   "metadata": {},
   "outputs": [
    {
     "data": {
      "text/plain": [
       "array([[15, 16, 17, 18, 19],\n",
       "       [20, 21, 22, 23, 24],\n",
       "       [25, 26, 27, 28, 29]])"
      ]
     },
     "execution_count": 105,
     "metadata": {},
     "output_type": "execute_result"
    }
   ],
   "source": [
    "array2 = np.arange(15, 30).reshape(3, 5)\n",
    "array2"
   ]
  },
  {
   "cell_type": "code",
   "execution_count": 106,
   "id": "70861e2e",
   "metadata": {},
   "outputs": [
    {
     "data": {
      "text/plain": [
       "array([[ 0,  1,  2,  3,  4, 15, 16, 17, 18, 19],\n",
       "       [ 5,  6,  7,  8,  9, 20, 21, 22, 23, 24],\n",
       "       [10, 11, 12, 13, 14, 25, 26, 27, 28, 29]])"
      ]
     },
     "execution_count": 106,
     "metadata": {},
     "output_type": "execute_result"
    }
   ],
   "source": [
    "# Concatenación horizontal\n",
    "np.hstack((array1, array2))"
   ]
  },
  {
   "cell_type": "code",
   "execution_count": 107,
   "id": "7260ffda",
   "metadata": {},
   "outputs": [
    {
     "data": {
      "text/plain": [
       "array([[ 0,  1,  2,  3,  4],\n",
       "       [ 5,  6,  7,  8,  9],\n",
       "       [10, 11, 12, 13, 14],\n",
       "       [15, 16, 17, 18, 19],\n",
       "       [20, 21, 22, 23, 24],\n",
       "       [25, 26, 27, 28, 29]])"
      ]
     },
     "execution_count": 107,
     "metadata": {},
     "output_type": "execute_result"
    }
   ],
   "source": [
    "# Concatenación horizontal\n",
    "np.vstack((array1, array2))"
   ]
  },
  {
   "cell_type": "code",
   "execution_count": 108,
   "id": "4edff500",
   "metadata": {},
   "outputs": [
    {
     "data": {
      "text/plain": [
       "array([[ 0,  1,  2,  3],\n",
       "       [ 4,  5,  6,  7],\n",
       "       [ 8,  9, 10, 11],\n",
       "       [12, 13, 14, 15]])"
      ]
     },
     "execution_count": 108,
     "metadata": {},
     "output_type": "execute_result"
    }
   ],
   "source": [
    "array = np.arange(16).reshape(4, 4)\n",
    "array"
   ]
  },
  {
   "cell_type": "code",
   "execution_count": 109,
   "id": "f56ccb1b",
   "metadata": {},
   "outputs": [
    {
     "data": {
      "text/plain": [
       "[array([[ 0,  1],\n",
       "        [ 4,  5],\n",
       "        [ 8,  9],\n",
       "        [12, 13]]),\n",
       " array([[ 2,  3],\n",
       "        [ 6,  7],\n",
       "        [10, 11],\n",
       "        [14, 15]])]"
      ]
     },
     "execution_count": 109,
     "metadata": {},
     "output_type": "execute_result"
    }
   ],
   "source": [
    "# División simétrica por columnas\n",
    "np.hsplit(array, 2)"
   ]
  },
  {
   "cell_type": "code",
   "execution_count": 110,
   "id": "c289287f",
   "metadata": {},
   "outputs": [
    {
     "data": {
      "text/plain": [
       "[array([[0, 1, 2, 3],\n",
       "        [4, 5, 6, 7]]),\n",
       " array([[ 8,  9, 10, 11],\n",
       "        [12, 13, 14, 15]])]"
      ]
     },
     "execution_count": 110,
     "metadata": {},
     "output_type": "execute_result"
    }
   ],
   "source": [
    "# División simétrica por filas\n",
    "np.vsplit(array, 2)"
   ]
  },
  {
   "cell_type": "code",
   "execution_count": 111,
   "id": "031ece1d",
   "metadata": {},
   "outputs": [
    {
     "data": {
      "text/plain": [
       "[array([[ 0,  1],\n",
       "        [ 4,  5],\n",
       "        [ 8,  9],\n",
       "        [12, 13]]),\n",
       " array([[ 2],\n",
       "        [ 6],\n",
       "        [10],\n",
       "        [14]]),\n",
       " array([[ 3],\n",
       "        [ 7],\n",
       "        [11],\n",
       "        [15]])]"
      ]
     },
     "execution_count": 111,
     "metadata": {},
     "output_type": "execute_result"
    }
   ],
   "source": [
    "# División no simétrica\n",
    "np.split(array, [2, 3], axis=1)"
   ]
  },
  {
   "cell_type": "code",
   "execution_count": 112,
   "id": "5329d902",
   "metadata": {},
   "outputs": [
    {
     "data": {
      "text/plain": [
       "array([24, 28, 32, 36])"
      ]
     },
     "execution_count": 112,
     "metadata": {},
     "output_type": "execute_result"
    }
   ],
   "source": [
    "array.sum(axis=0)"
   ]
  }
 ],
 "metadata": {
  "kernelspec": {
   "display_name": "Python 3",
   "language": "python",
   "name": "python3"
  },
  "language_info": {
   "codemirror_mode": {
    "name": "ipython",
    "version": 3
   },
   "file_extension": ".py",
   "mimetype": "text/x-python",
   "name": "python",
   "nbconvert_exporter": "python",
   "pygments_lexer": "ipython3",
   "version": "3.12.6"
  }
 },
 "nbformat": 4,
 "nbformat_minor": 5
}
